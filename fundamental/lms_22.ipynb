{
 "cells": [
  {
   "cell_type": "markdown",
   "id": "combined-latex",
   "metadata": {},
   "source": [
    "# Regularization과 Normalization\n",
    "- Regularization은 오버피팅을 막고자 하는 방법, Normalization은 트레이닝을 할 때에 서로 범위가 다른 데이터들을 같은 범위로 바꿔주는 전처리 과정."
   ]
  },
  {
   "cell_type": "markdown",
   "id": "comprehensive-russell",
   "metadata": {},
   "source": [
    "## Regularization : \n",
    "- 정칙화라고 불리며, 오버피팅을 해결하기 위한 방법 중의 하나.\n",
    "- L1, L2 Regularization, Dropout, Batch normalization 등이 있음.\n",
    "- 이 방법들은 모두 오버피팅을 해결하고자 하는 방법 중에 하나.\n",
    "- train loss는 약간 증가하지만 결과적으로, validation loss나 최종적인 test loss를 감소시키려는 목적 가짐."
   ]
  },
  {
   "cell_type": "markdown",
   "id": "brilliant-villa",
   "metadata": {},
   "source": [
    "## Normalization :\n",
    "- 정규화라고 불리며, 이는 데이터의 형태를 좀 더 의미 있게, 혹은 트레이닝에 적합하게 전처리하는 과정.\n",
    "- 데이터를 z-score로 바꾸거나 minmax scaler를 사용하여 0과 1사이의 값으로 분포를 조정하는 것들이 해당.\n",
    "- 모든 피처의 범위 분포를 동일하게 하여 모델이 풀어야 하는 문제를 좀 더 간단하게 바꾸어 주는 전처리 과정."
   ]
  },
  {
   "cell_type": "code",
   "execution_count": 1,
   "id": "comprehensive-mailing",
   "metadata": {},
   "outputs": [
    {
     "data": {
      "text/html": [
       "<div>\n",
       "<style scoped>\n",
       "    .dataframe tbody tr th:only-of-type {\n",
       "        vertical-align: middle;\n",
       "    }\n",
       "\n",
       "    .dataframe tbody tr th {\n",
       "        vertical-align: top;\n",
       "    }\n",
       "\n",
       "    .dataframe thead th {\n",
       "        text-align: right;\n",
       "    }\n",
       "</style>\n",
       "<table border=\"1\" class=\"dataframe\">\n",
       "  <thead>\n",
       "    <tr style=\"text-align: right;\">\n",
       "      <th></th>\n",
       "      <th>sepal length (cm)</th>\n",
       "      <th>sepal width (cm)</th>\n",
       "      <th>petal length (cm)</th>\n",
       "      <th>petal width (cm)</th>\n",
       "      <th>species</th>\n",
       "    </tr>\n",
       "  </thead>\n",
       "  <tbody>\n",
       "    <tr>\n",
       "      <th>0</th>\n",
       "      <td>5.1</td>\n",
       "      <td>3.5</td>\n",
       "      <td>1.4</td>\n",
       "      <td>0.2</td>\n",
       "      <td>setosa</td>\n",
       "    </tr>\n",
       "    <tr>\n",
       "      <th>1</th>\n",
       "      <td>4.9</td>\n",
       "      <td>3.0</td>\n",
       "      <td>1.4</td>\n",
       "      <td>0.2</td>\n",
       "      <td>setosa</td>\n",
       "    </tr>\n",
       "    <tr>\n",
       "      <th>2</th>\n",
       "      <td>4.7</td>\n",
       "      <td>3.2</td>\n",
       "      <td>1.3</td>\n",
       "      <td>0.2</td>\n",
       "      <td>setosa</td>\n",
       "    </tr>\n",
       "    <tr>\n",
       "      <th>3</th>\n",
       "      <td>4.6</td>\n",
       "      <td>3.1</td>\n",
       "      <td>1.5</td>\n",
       "      <td>0.2</td>\n",
       "      <td>setosa</td>\n",
       "    </tr>\n",
       "    <tr>\n",
       "      <th>4</th>\n",
       "      <td>5.0</td>\n",
       "      <td>3.6</td>\n",
       "      <td>1.4</td>\n",
       "      <td>0.2</td>\n",
       "      <td>setosa</td>\n",
       "    </tr>\n",
       "  </tbody>\n",
       "</table>\n",
       "</div>"
      ],
      "text/plain": [
       "   sepal length (cm)  sepal width (cm)  petal length (cm)  petal width (cm)  \\\n",
       "0                5.1               3.5                1.4               0.2   \n",
       "1                4.9               3.0                1.4               0.2   \n",
       "2                4.7               3.2                1.3               0.2   \n",
       "3                4.6               3.1                1.5               0.2   \n",
       "4                5.0               3.6                1.4               0.2   \n",
       "\n",
       "  species  \n",
       "0  setosa  \n",
       "1  setosa  \n",
       "2  setosa  \n",
       "3  setosa  \n",
       "4  setosa  "
      ]
     },
     "execution_count": 1,
     "metadata": {},
     "output_type": "execute_result"
    }
   ],
   "source": [
    "from sklearn.datasets import load_iris\n",
    "import pandas as pd \n",
    "import matplotlib.pyplot as plt\n",
    "\n",
    "iris = load_iris()\n",
    "iris_df = pd.DataFrame(data=iris.data, columns=iris.feature_names)\n",
    "target_df = pd.DataFrame(data=iris.target, columns=['species'])\n",
    "\n",
    "# 0, 1, 2로 되어있는 target 데이터를 \n",
    "# 알아보기 쉽게 'setosa', 'versicolor', 'virginica'로 바꿉니다 \n",
    "def converter(species):\n",
    "    if species == 0:\n",
    "        return 'setosa'\n",
    "    elif species == 1:\n",
    "        return 'versicolor'\n",
    "    else:\n",
    "        return 'virginica'\n",
    "\n",
    "target_df['species'] = target_df['species'].apply(converter)\n",
    "\n",
    "iris_df = pd.concat([iris_df, target_df], axis=1)\n",
    "iris_df.head()"
   ]
  },
  {
   "cell_type": "code",
   "execution_count": 2,
   "id": "killing-preview",
   "metadata": {},
   "outputs": [
    {
     "name": "stdout",
     "output_type": "stream",
     "text": [
      "[6.0, 5.1, 5.9, 5.6, 5.8, 6.6, 4.5, 6.3, 5.8, 6.1, 5.1, 5.3, 5.5, 5.0, 5.1, 5.3, 5.5, 6.7, 6.9, 5.0, 5.7, 4.9, 6.7, 4.9, 5.7, 6.0, 4.8, 4.9, 5.6, 5.8, 6.1, 6.4, 5.6, 5.1, 5.6, 6.1, 5.6, 5.5, 4.8, 5.4, 5.6, 5.1, 5.1, 5.9, 5.7, 5.2, 5.0, 5.2, 5.4, 5.1]\n",
      "[6.3, 5.8, 7.1, 6.3, 6.5, 7.6, 4.9, 7.3, 6.7, 7.2, 6.5, 6.4, 6.8, 5.7, 5.8, 6.4, 6.5, 7.7, 7.7, 6.0, 6.9, 5.6, 7.7, 6.3, 6.7, 7.2, 6.2, 6.1, 6.4, 7.2, 7.4, 7.9, 6.4, 6.3, 6.1, 7.7, 6.3, 6.4, 6.0, 6.9, 6.7, 6.9, 5.8, 6.8, 6.7, 6.7, 6.3, 6.5, 6.2, 5.9]\n"
     ]
    }
   ],
   "source": [
    "\n",
    "#virginica라는 종의 petal length(꽃잎 길이)를 X, sepal length(꽃받침의 길이)를 Y\n",
    "X = [iris_df['petal length (cm)'][a] for a in iris_df.index if iris_df['species'][a]=='virginica']\n",
    "Y = [iris_df['sepal length (cm)'][a] for a in iris_df.index if iris_df['species'][a]=='virginica']\n",
    "\n",
    "print(X)\n",
    "print(Y)"
   ]
  },
  {
   "cell_type": "code",
   "execution_count": 3,
   "id": "entitled-flood",
   "metadata": {},
   "outputs": [
    {
     "data": {
      "image/png": "[encoded data removed]",
      "text/plain": [
       "<Figure size 360x360 with 1 Axes>"
      ]
     },
     "metadata": {
      "needs_background": "light"
     },
     "output_type": "display_data"
    }
   ],
   "source": [
    "plt.figure(figsize=(5,5))\n",
    "plt.scatter(X,Y)\n",
    "plt.title('petal-sepal scatter before normalization') \n",
    "plt.xlabel('petal length (cm)')\n",
    "plt.ylabel('sepal length (cm)')\n",
    "plt.grid()\n",
    "plt.show()"
   ]
  },
  {
   "cell_type": "code",
   "execution_count": 4,
   "id": "falling-costa",
   "metadata": {},
   "outputs": [
    {
     "data": {
      "image/png": "[encoded data removed]",
      "text/plain": [
       "<Figure size 360x360 with 1 Axes>"
      ]
     },
     "metadata": {
      "needs_background": "light"
     },
     "output_type": "display_data"
    }
   ],
   "source": [
    "#normalization\n",
    "from sklearn.preprocessing import minmax_scale\n",
    "\n",
    "X_scale = minmax_scale(X)\n",
    "Y_scale = minmax_scale(Y)\n",
    "\n",
    "plt.figure(figsize=(5,5))\n",
    "plt.scatter(X_scale,Y_scale)\n",
    "plt.title('petal-sepal scatter after normalization') \n",
    "plt.xlabel('petal length (cm)')\n",
    "plt.ylabel('sepal length (cm)')\n",
    "plt.grid()\n",
    "plt.show()"
   ]
  },
  {
   "cell_type": "markdown",
   "id": "attended-recorder",
   "metadata": {},
   "source": [
    "---"
   ]
  },
  {
   "cell_type": "code",
   "execution_count": 5,
   "id": "empirical-welding",
   "metadata": {},
   "outputs": [
    {
     "name": "stdout",
     "output_type": "stream",
     "text": [
      "기울기 : 1.00, 절편 : 1.06\n"
     ]
    }
   ],
   "source": [
    "from sklearn.linear_model import LinearRegression\n",
    "import numpy as np \n",
    "\n",
    "X = np.array(X)\n",
    "Y = np.array(Y)\n",
    "\n",
    "# Iris Dataset을 Linear Regression으로 학습합니다. \n",
    "linear= LinearRegression()\n",
    "linear.fit(X.reshape(-1,1), Y)\n",
    "\n",
    "# Linear Regression의 기울기와 절편을 확인합니다. \n",
    "a, b=linear.coef_, linear.intercept_\n",
    "print(\"기울기 : %0.2f, 절편 : %0.2f\" %(a,b))"
   ]
  },
  {
   "cell_type": "code",
   "execution_count": 6,
   "id": "popular-smart",
   "metadata": {},
   "outputs": [
    {
     "data": {
      "image/png": "[encoded data removed]",
      "text/plain": [
       "<Figure size 360x360 with 1 Axes>"
      ]
     },
     "metadata": {
      "needs_background": "light"
     },
     "output_type": "display_data"
    }
   ],
   "source": [
    "#Linear regression 으로 구한 기울기와 절편을 가지고 일차함수를 만들어 산점도\n",
    "plt.figure(figsize=(5,5))\n",
    "plt.scatter(X,Y)\n",
    "plt.plot(X,linear.predict(X.reshape(-1,1)),'-b')\n",
    "plt.title('petal-sepal scatter with linear regression') \n",
    "plt.xlabel('petal length (cm)')\n",
    "plt.ylabel('sepal length (cm)')\n",
    "plt.grid()\n",
    "plt.show()"
   ]
  },
  {
   "cell_type": "code",
   "execution_count": 7,
   "id": "orange-potter",
   "metadata": {},
   "outputs": [
    {
     "name": "stdout",
     "output_type": "stream",
     "text": [
      "기울기 : 0.00, 절편 : 6.59\n"
     ]
    },
    {
     "data": {
      "image/png": "[encoded data removed]",
      "text/plain": [
       "<Figure size 360x360 with 1 Axes>"
      ]
     },
     "metadata": {
      "needs_background": "light"
     },
     "output_type": "display_data"
    }
   ],
   "source": [
    "#L1 regularization인 Lasso\n",
    "\n",
    "#L1 regularization은 Lasso로 import 합니다.\n",
    "from sklearn.linear_model import Lasso\n",
    "\n",
    "L1 = Lasso()\n",
    "L1.fit(X.reshape(-1,1), Y)\n",
    "a, b=L1.coef_, L1.intercept_\n",
    "print(\"기울기 : %0.2f, 절편 : %0.2f\" %(a,b))\n",
    "\n",
    "plt.figure(figsize=(5,5))\n",
    "plt.scatter(X,Y)\n",
    "plt.plot(X,L1.predict(X.reshape(-1,1)),'-b')\n",
    "plt.title('petal-sepal scatter with L1 regularization(Lasso)') \n",
    "plt.xlabel('petal length (cm)')\n",
    "plt.ylabel('sepal length (cm)')\n",
    "plt.grid()\n",
    "plt.show()"
   ]
  },
  {
   "cell_type": "code",
   "execution_count": 8,
   "id": "apart-classics",
   "metadata": {},
   "outputs": [
    {
     "name": "stdout",
     "output_type": "stream",
     "text": [
      "기울기 : 0.93, 절편 : 1.41\n"
     ]
    },
    {
     "data": {
      "image/png": "[encoded data removed]",
      "text/plain": [
       "<Figure size 360x360 with 1 Axes>"
      ]
     },
     "metadata": {
      "needs_background": "light"
     },
     "output_type": "display_data"
    }
   ],
   "source": [
    "# L2 regularization인 Ridge\n",
    "\n",
    "#L2 regularization은 Ridge로 import 합니다. \n",
    "from sklearn.linear_model import Ridge\n",
    "\n",
    "L2 = Ridge()\n",
    "L2.fit(X.reshape(-1,1), Y)\n",
    "a, b = L2.coef_, L2.intercept_\n",
    "print(\"기울기 : %0.2f, 절편 : %0.2f\" %(a,b))\n",
    "\n",
    "plt.figure(figsize=(5,5))\n",
    "plt.scatter(X,Y)\n",
    "plt.plot(X,L2.predict(X.reshape(-1,1)),'-b')\n",
    "plt.title('petal-sepal scatter with L2 regularization(Ridge)') \n",
    "plt.xlabel('petal length (cm)')\n",
    "plt.ylabel('sepal length (cm)')\n",
    "plt.grid()\n",
    "plt.show()"
   ]
  },
  {
   "cell_type": "markdown",
   "id": "alpha-pharmaceutical",
   "metadata": {},
   "source": [
    "- Linear Regression이 L2 Norm과 관련이 있음.\n",
    "- L2 Regularization을 쓰는 Ridge방법으로는 앞서 Linear Regression과 큰 차이가 없는 결과가 나옴."
   ]
  },
  {
   "cell_type": "markdown",
   "id": "compatible-adult",
   "metadata": {},
   "source": [
    "---"
   ]
  },
  {
   "cell_type": "markdown",
   "id": "identical-sweet",
   "metadata": {},
   "source": [
    "## L1 Regularization"
   ]
  },
  {
   "cell_type": "code",
   "execution_count": 9,
   "id": "incoming-boost",
   "metadata": {},
   "outputs": [
    {
     "data": {
      "text/html": [
       "<div>\n",
       "<style scoped>\n",
       "    .dataframe tbody tr th:only-of-type {\n",
       "        vertical-align: middle;\n",
       "    }\n",
       "\n",
       "    .dataframe tbody tr th {\n",
       "        vertical-align: top;\n",
       "    }\n",
       "\n",
       "    .dataframe thead th {\n",
       "        text-align: right;\n",
       "    }\n",
       "</style>\n",
       "<table border=\"1\" class=\"dataframe\">\n",
       "  <thead>\n",
       "    <tr style=\"text-align: right;\">\n",
       "      <th></th>\n",
       "      <th>sepal length (cm)</th>\n",
       "      <th>sepal width (cm)</th>\n",
       "      <th>petal length (cm)</th>\n",
       "      <th>petal width (cm)</th>\n",
       "      <th>species</th>\n",
       "    </tr>\n",
       "  </thead>\n",
       "  <tbody>\n",
       "    <tr>\n",
       "      <th>0</th>\n",
       "      <td>5.1</td>\n",
       "      <td>3.5</td>\n",
       "      <td>1.4</td>\n",
       "      <td>0.2</td>\n",
       "      <td>setosa</td>\n",
       "    </tr>\n",
       "    <tr>\n",
       "      <th>1</th>\n",
       "      <td>4.9</td>\n",
       "      <td>3.0</td>\n",
       "      <td>1.4</td>\n",
       "      <td>0.2</td>\n",
       "      <td>setosa</td>\n",
       "    </tr>\n",
       "    <tr>\n",
       "      <th>2</th>\n",
       "      <td>4.7</td>\n",
       "      <td>3.2</td>\n",
       "      <td>1.3</td>\n",
       "      <td>0.2</td>\n",
       "      <td>setosa</td>\n",
       "    </tr>\n",
       "    <tr>\n",
       "      <th>3</th>\n",
       "      <td>4.6</td>\n",
       "      <td>3.1</td>\n",
       "      <td>1.5</td>\n",
       "      <td>0.2</td>\n",
       "      <td>setosa</td>\n",
       "    </tr>\n",
       "    <tr>\n",
       "      <th>4</th>\n",
       "      <td>5.0</td>\n",
       "      <td>3.6</td>\n",
       "      <td>1.4</td>\n",
       "      <td>0.2</td>\n",
       "      <td>setosa</td>\n",
       "    </tr>\n",
       "  </tbody>\n",
       "</table>\n",
       "</div>"
      ],
      "text/plain": [
       "   sepal length (cm)  sepal width (cm)  petal length (cm)  petal width (cm)  \\\n",
       "0                5.1               3.5                1.4               0.2   \n",
       "1                4.9               3.0                1.4               0.2   \n",
       "2                4.7               3.2                1.3               0.2   \n",
       "3                4.6               3.1                1.5               0.2   \n",
       "4                5.0               3.6                1.4               0.2   \n",
       "\n",
       "  species  \n",
       "0  setosa  \n",
       "1  setosa  \n",
       "2  setosa  \n",
       "3  setosa  \n",
       "4  setosa  "
      ]
     },
     "execution_count": 9,
     "metadata": {},
     "output_type": "execute_result"
    }
   ],
   "source": [
    "from sklearn.datasets import load_iris\n",
    "import pandas as pd \n",
    "import matplotlib.pyplot as plt\n",
    "\n",
    "iris = load_iris()\n",
    "iris_df = pd.DataFrame(data=iris.data, columns=iris.feature_names)\n",
    "target_df = pd.DataFrame(data=iris.target, columns=['species'])\n",
    "\n",
    "def converter(species):\n",
    "    if species == 0:\n",
    "        return 'setosa'\n",
    "    elif species == 1:\n",
    "        return 'versicolor'\n",
    "    else:\n",
    "        return 'virginica'\n",
    "\n",
    "target_df['species'] = target_df['species'].apply(converter)\n",
    "\n",
    "iris_df = pd.concat([iris_df, target_df], axis=1)\n",
    "iris_df.head()"
   ]
  },
  {
   "cell_type": "code",
   "execution_count": 10,
   "id": "collectible-equivalent",
   "metadata": {},
   "outputs": [
    {
     "data": {
      "image/png": "[encoded data removed]",
      "text/plain": [
       "<Figure size 360x360 with 1 Axes>"
      ]
     },
     "metadata": {
      "needs_background": "light"
     },
     "output_type": "display_data"
    }
   ],
   "source": [
    "X = [iris_df['petal length (cm)'][a] for a in iris_df.index if iris_df['species'][a]=='virginica']\n",
    "Y = [iris_df['sepal length (cm)'][a] for a in iris_df.index if iris_df['species'][a]=='virginica']\n",
    "\n",
    "X = np.array(X)\n",
    "Y = np.array(Y)\n",
    "\n",
    "plt.figure(figsize=(5,5))\n",
    "plt.scatter(X,Y)\n",
    "plt.xlabel('petal length (cm)')\n",
    "plt.ylabel('sepal length (cm)')\n",
    "plt.grid()\n",
    "plt.show()"
   ]
  },
  {
   "cell_type": "code",
   "execution_count": 11,
   "id": "british-bristol",
   "metadata": {},
   "outputs": [
    {
     "name": "stdout",
     "output_type": "stream",
     "text": [
      "기울기 : 0.00, 절편 : 6.59\n"
     ]
    },
    {
     "data": {
      "image/png": "[encoded data removed]",
      "text/plain": [
       "<Figure size 360x360 with 1 Axes>"
      ]
     },
     "metadata": {
      "needs_background": "light"
     },
     "output_type": "display_data"
    }
   ],
   "source": [
    "from sklearn.linear_model import Lasso\n",
    "\n",
    "L1 = Lasso()\n",
    "L1.fit(X.reshape(-1,1), Y)\n",
    "a, b = L1.coef_, L1.intercept_\n",
    "print(\"기울기 : %0.2f, 절편 : %0.2f\" %(a,b))\n",
    "\n",
    "plt.figure(figsize=(5,5))\n",
    "plt.scatter(X,Y)\n",
    "plt.plot(X,L1.predict(X.reshape(-1,1)),'-b')\n",
    "plt.xlabel('petal length (cm)')\n",
    "plt.ylabel('sepal length (cm)')\n",
    "plt.grid()\n",
    "plt.show()"
   ]
  },
  {
   "cell_type": "markdown",
   "id": "first-interstate",
   "metadata": {},
   "source": [
    "- 기울기가 위에서와 마찬가지로 0이 나옴.\n",
    "- 계산하는 과정에서 람다가 사라지면서 regularization의 효과를 볼 수 없게 됨.\n",
    "- X가 1차원 값인 선형회귀분석 같은 경우에는 L1 Regularization이 의미가 없는 것.\n",
    "- L1을 사용할 땐 X가 2차원 이상인 여러 칼럼 값이 있는 데이터일 때만 효과를 볼 수 있음."
   ]
  },
  {
   "cell_type": "code",
   "execution_count": 12,
   "id": "quiet-elevation",
   "metadata": {},
   "outputs": [],
   "source": [
    "#wine dataset\n",
    "from sklearn.datasets import load_wine\n",
    "\n",
    "wine = load_wine()\n",
    "wine_df = pd.DataFrame(data=wine.data, columns=wine.feature_names)\n",
    "target_df = pd.DataFrame(data=wine.target, columns=['Y'])"
   ]
  },
  {
   "cell_type": "code",
   "execution_count": 13,
   "id": "confident-dealer",
   "metadata": {},
   "outputs": [
    {
     "data": {
      "text/html": [
       "<div>\n",
       "<style scoped>\n",
       "    .dataframe tbody tr th:only-of-type {\n",
       "        vertical-align: middle;\n",
       "    }\n",
       "\n",
       "    .dataframe tbody tr th {\n",
       "        vertical-align: top;\n",
       "    }\n",
       "\n",
       "    .dataframe thead th {\n",
       "        text-align: right;\n",
       "    }\n",
       "</style>\n",
       "<table border=\"1\" class=\"dataframe\">\n",
       "  <thead>\n",
       "    <tr style=\"text-align: right;\">\n",
       "      <th></th>\n",
       "      <th>alcohol</th>\n",
       "      <th>malic_acid</th>\n",
       "      <th>ash</th>\n",
       "      <th>alcalinity_of_ash</th>\n",
       "      <th>magnesium</th>\n",
       "      <th>total_phenols</th>\n",
       "      <th>flavanoids</th>\n",
       "      <th>nonflavanoid_phenols</th>\n",
       "      <th>proanthocyanins</th>\n",
       "      <th>color_intensity</th>\n",
       "      <th>hue</th>\n",
       "      <th>od280/od315_of_diluted_wines</th>\n",
       "      <th>proline</th>\n",
       "    </tr>\n",
       "  </thead>\n",
       "  <tbody>\n",
       "    <tr>\n",
       "      <th>0</th>\n",
       "      <td>14.23</td>\n",
       "      <td>1.71</td>\n",
       "      <td>2.43</td>\n",
       "      <td>15.6</td>\n",
       "      <td>127.0</td>\n",
       "      <td>2.80</td>\n",
       "      <td>3.06</td>\n",
       "      <td>0.28</td>\n",
       "      <td>2.29</td>\n",
       "      <td>5.64</td>\n",
       "      <td>1.04</td>\n",
       "      <td>3.92</td>\n",
       "      <td>1065.0</td>\n",
       "    </tr>\n",
       "    <tr>\n",
       "      <th>1</th>\n",
       "      <td>13.20</td>\n",
       "      <td>1.78</td>\n",
       "      <td>2.14</td>\n",
       "      <td>11.2</td>\n",
       "      <td>100.0</td>\n",
       "      <td>2.65</td>\n",
       "      <td>2.76</td>\n",
       "      <td>0.26</td>\n",
       "      <td>1.28</td>\n",
       "      <td>4.38</td>\n",
       "      <td>1.05</td>\n",
       "      <td>3.40</td>\n",
       "      <td>1050.0</td>\n",
       "    </tr>\n",
       "    <tr>\n",
       "      <th>2</th>\n",
       "      <td>13.16</td>\n",
       "      <td>2.36</td>\n",
       "      <td>2.67</td>\n",
       "      <td>18.6</td>\n",
       "      <td>101.0</td>\n",
       "      <td>2.80</td>\n",
       "      <td>3.24</td>\n",
       "      <td>0.30</td>\n",
       "      <td>2.81</td>\n",
       "      <td>5.68</td>\n",
       "      <td>1.03</td>\n",
       "      <td>3.17</td>\n",
       "      <td>1185.0</td>\n",
       "    </tr>\n",
       "    <tr>\n",
       "      <th>3</th>\n",
       "      <td>14.37</td>\n",
       "      <td>1.95</td>\n",
       "      <td>2.50</td>\n",
       "      <td>16.8</td>\n",
       "      <td>113.0</td>\n",
       "      <td>3.85</td>\n",
       "      <td>3.49</td>\n",
       "      <td>0.24</td>\n",
       "      <td>2.18</td>\n",
       "      <td>7.80</td>\n",
       "      <td>0.86</td>\n",
       "      <td>3.45</td>\n",
       "      <td>1480.0</td>\n",
       "    </tr>\n",
       "    <tr>\n",
       "      <th>4</th>\n",
       "      <td>13.24</td>\n",
       "      <td>2.59</td>\n",
       "      <td>2.87</td>\n",
       "      <td>21.0</td>\n",
       "      <td>118.0</td>\n",
       "      <td>2.80</td>\n",
       "      <td>2.69</td>\n",
       "      <td>0.39</td>\n",
       "      <td>1.82</td>\n",
       "      <td>4.32</td>\n",
       "      <td>1.04</td>\n",
       "      <td>2.93</td>\n",
       "      <td>735.0</td>\n",
       "    </tr>\n",
       "  </tbody>\n",
       "</table>\n",
       "</div>"
      ],
      "text/plain": [
       "   alcohol  malic_acid   ash  alcalinity_of_ash  magnesium  total_phenols  \\\n",
       "0    14.23        1.71  2.43               15.6      127.0           2.80   \n",
       "1    13.20        1.78  2.14               11.2      100.0           2.65   \n",
       "2    13.16        2.36  2.67               18.6      101.0           2.80   \n",
       "3    14.37        1.95  2.50               16.8      113.0           3.85   \n",
       "4    13.24        2.59  2.87               21.0      118.0           2.80   \n",
       "\n",
       "   flavanoids  nonflavanoid_phenols  proanthocyanins  color_intensity   hue  \\\n",
       "0        3.06                  0.28             2.29             5.64  1.04   \n",
       "1        2.76                  0.26             1.28             4.38  1.05   \n",
       "2        3.24                  0.30             2.81             5.68  1.03   \n",
       "3        3.49                  0.24             2.18             7.80  0.86   \n",
       "4        2.69                  0.39             1.82             4.32  1.04   \n",
       "\n",
       "   od280/od315_of_diluted_wines  proline  \n",
       "0                          3.92   1065.0  \n",
       "1                          3.40   1050.0  \n",
       "2                          3.17   1185.0  \n",
       "3                          3.45   1480.0  \n",
       "4                          2.93    735.0  "
      ]
     },
     "execution_count": 13,
     "metadata": {},
     "output_type": "execute_result"
    }
   ],
   "source": [
    "wine_df.head(5)"
   ]
  },
  {
   "cell_type": "code",
   "execution_count": 14,
   "id": "plain-sheet",
   "metadata": {},
   "outputs": [
    {
     "data": {
      "text/html": [
       "<div>\n",
       "<style scoped>\n",
       "    .dataframe tbody tr th:only-of-type {\n",
       "        vertical-align: middle;\n",
       "    }\n",
       "\n",
       "    .dataframe tbody tr th {\n",
       "        vertical-align: top;\n",
       "    }\n",
       "\n",
       "    .dataframe thead th {\n",
       "        text-align: right;\n",
       "    }\n",
       "</style>\n",
       "<table border=\"1\" class=\"dataframe\">\n",
       "  <thead>\n",
       "    <tr style=\"text-align: right;\">\n",
       "      <th></th>\n",
       "      <th>Y</th>\n",
       "    </tr>\n",
       "  </thead>\n",
       "  <tbody>\n",
       "    <tr>\n",
       "      <th>0</th>\n",
       "      <td>0</td>\n",
       "    </tr>\n",
       "    <tr>\n",
       "      <th>1</th>\n",
       "      <td>0</td>\n",
       "    </tr>\n",
       "    <tr>\n",
       "      <th>2</th>\n",
       "      <td>0</td>\n",
       "    </tr>\n",
       "    <tr>\n",
       "      <th>3</th>\n",
       "      <td>0</td>\n",
       "    </tr>\n",
       "    <tr>\n",
       "      <th>4</th>\n",
       "      <td>0</td>\n",
       "    </tr>\n",
       "  </tbody>\n",
       "</table>\n",
       "</div>"
      ],
      "text/plain": [
       "   Y\n",
       "0  0\n",
       "1  0\n",
       "2  0\n",
       "3  0\n",
       "4  0"
      ]
     },
     "execution_count": 14,
     "metadata": {},
     "output_type": "execute_result"
    }
   ],
   "source": [
    "target_df.head(5)"
   ]
  },
  {
   "cell_type": "code",
   "execution_count": 15,
   "id": "ideal-terrorist",
   "metadata": {},
   "outputs": [
    {
     "name": "stdout",
     "output_type": "stream",
     "text": [
      "result of linear regression\n",
      "Mean Absolute Error: 0.25128973939722626\n",
      "Mean Squared Error: 0.1062458740952556\n",
      "Mean Root Squared Error: 0.32595379134971814\n",
      "\n",
      "\n",
      " coefficient linear regression\n",
      "[[-8.09017190e-02  4.34817880e-02 -1.18857931e-01  3.65705449e-02\n",
      "  -4.68014203e-04  1.41423581e-01 -4.54107854e-01 -5.13172664e-01\n",
      "   9.69318443e-02  5.34311136e-02 -1.27626604e-01 -2.91381844e-01\n",
      "  -5.72238959e-04]]\n"
     ]
    }
   ],
   "source": [
    "#Linear regression 으로 문제를 풀고, \n",
    "#그 계수(coefficient)와 절대 오차(mean absolute error), \n",
    "#제곱 오차(mean squared error), 평균 제곱값 오차(root mean squared error)를 출력\n",
    "\n",
    "from sklearn.model_selection import train_test_split\n",
    "from sklearn.linear_model import LinearRegression\n",
    "from sklearn.metrics import mean_absolute_error, mean_squared_error\n",
    "\n",
    "# 데이터를 준비하고\n",
    "X_train, X_test, y_train, y_test = train_test_split(wine_df, target_df, test_size=0.3, random_state=101)\n",
    "\n",
    "# 모델을 훈련시킵니다.\n",
    "model = LinearRegression()\n",
    "model.fit(X_train, y_train)\n",
    "\n",
    "# 테스트를 해볼까요?\n",
    "model.predict(X_test)\n",
    "pred = model.predict(X_test)\n",
    "\n",
    "# 테스트 결과는 이렇습니다!\n",
    "print(\"result of linear regression\")\n",
    "print('Mean Absolute Error:', mean_absolute_error(y_test, pred))\n",
    "print('Mean Squared Error:', mean_squared_error(y_test, pred))\n",
    "print('Mean Root Squared Error:', np.sqrt(mean_squared_error(y_test, pred)))\n",
    "\n",
    "print(\"\\n\\n coefficient linear regression\")\n",
    "print(model.coef_)"
   ]
  },
  {
   "cell_type": "code",
   "execution_count": 16,
   "id": "together-pavilion",
   "metadata": {},
   "outputs": [
    {
     "name": "stdout",
     "output_type": "stream",
     "text": [
      "result of Lasso\n",
      "Mean Absolute Error: 0.24233731936122138\n",
      "Mean Squared Error: 0.0955956894578189\n",
      "Mean Root Squared Error: 0.3091855259513597\n",
      "\n",
      "\n",
      " coefficient of Lasso\n",
      "[-0.          0.01373795 -0.          0.03065716  0.00154719 -0.\n",
      " -0.34143614 -0.          0.          0.06755943 -0.         -0.14558153\n",
      " -0.00089635]\n"
     ]
    }
   ],
   "source": [
    "#L1 regularization\n",
    "\n",
    "from sklearn.linear_model import Lasso\n",
    "from sklearn.metrics import mean_absolute_error, mean_squared_error\n",
    "\n",
    "# 모델을 준비하고 훈련시킵니다.\n",
    "L1 = Lasso(alpha=0.05)\n",
    "L1.fit(X_train, y_train)\n",
    "\n",
    "# 테스트를 해봅시다.\n",
    "pred = L1.predict(X_test)\n",
    "\n",
    "# 모델 성능은 얼마나 좋을까요?\n",
    "print(\"result of Lasso\")\n",
    "print('Mean Absolute Error:', mean_absolute_error(y_test, pred))\n",
    "print('Mean Squared Error:', mean_squared_error(y_test, pred))\n",
    "print('Mean Root Squared Error:', np.sqrt(mean_squared_error(y_test, pred)))\n",
    "\n",
    "print(\"\\n\\n coefficient of Lasso\")\n",
    "print(L1.coef_)"
   ]
  },
  {
   "cell_type": "markdown",
   "id": "played-stand",
   "metadata": {},
   "source": [
    "-  Linear Regression에서는 모든 컬럼의 가중치를 탐색하여 구함.\n",
    "- L1 Regularization에서는 총 13개 중 7개를 제외한 나머지의 값들이 모두 0임.\n",
    "- rror 부분에서는 큰 차이가 없었지만, 우리가 어떤 컬럼이 결과에 영향을 더 크게 미치는지 확실히 확인할 수 있음.\n",
    "- 다른 문제에서도 error의 차이가 크게 나지 않는다면, 차원 축소와 비슷한 개념으로 변수의 값을 7개만 남겨도 충분히 결과를 예측할 수 있는 것."
   ]
  },
  {
   "cell_type": "markdown",
   "id": "fabulous-mambo",
   "metadata": {},
   "source": [
    "---"
   ]
  },
  {
   "cell_type": "markdown",
   "id": "rolled-fluid",
   "metadata": {},
   "source": [
    "## L2 Regularization\n",
    "- 원의 형태.\n",
    "- 0에 가지않고 0에 가깝게 감.\n",
    "- 제곱이 들어가 있어 절댓값으로 L1 Norm을 쓰는 Lasso보다 수렴이 빠름."
   ]
  },
  {
   "cell_type": "code",
   "execution_count": 17,
   "id": "beautiful-input",
   "metadata": {},
   "outputs": [
    {
     "name": "stdout",
     "output_type": "stream",
     "text": [
      "=3\n"
     ]
    }
   ],
   "source": [
    "from sklearn.datasets import load_wine\n",
    "import pandas as pd\n",
    "import numpy as np\n",
    "from sklearn.model_selection import train_test_split\n",
    "from sklearn.metrics import mean_absolute_error, mean_squared_error\n",
    "\n",
    "wine = load_wine()\n",
    "wine_df = pd.DataFrame(data=wine.data, columns=wine.feature_names)\n",
    "target_df = pd.DataFrame(data=wine.target, columns=['Y'])\n",
    "X_train, X_test, y_train, y_test = train_test_split(wine_df, target_df, test_size= 0.3, random_state=101)\n",
    "print('=3')"
   ]
  },
  {
   "cell_type": "code",
   "execution_count": 18,
   "id": "neither-nashville",
   "metadata": {},
   "outputs": [
    {
     "name": "stdout",
     "output_type": "stream",
     "text": [
      "result of Lasso\n",
      "Mean Absolute Error: 0.24845768841769436\n",
      "Mean Squared Error: 0.10262989110341268\n",
      "Mean Root Squared Error: 0.32035900346862844\n",
      "\n",
      "\n",
      " coefficient of Lasso\n",
      "[-0.          0.         -0.          0.03295564  0.00109495  0.\n",
      " -0.4027847   0.          0.          0.06023131 -0.         -0.12001119\n",
      " -0.00078971]\n"
     ]
    },
    {
     "name": "stderr",
     "output_type": "stream",
     "text": [
      "/opt/conda/lib/python3.7/site-packages/sklearn/linear_model/_coordinate_descent.py:529: ConvergenceWarning: Objective did not converge. You might want to increase the number of iterations. Duality gap: 3.924145836492522, tolerance: 0.007479838709677421\n",
      "  positive)\n"
     ]
    }
   ],
   "source": [
    "#L1 regularization, iteration=5회\n",
    "\n",
    "from sklearn.linear_model import Lasso\n",
    "\n",
    "L1 = Lasso(alpha=0.05, max_iter=5)\n",
    "L1.fit(X_train, y_train)\n",
    "pred = L1.predict(X_test)\n",
    "\n",
    "print(\"result of Lasso\")\n",
    "print('Mean Absolute Error:', mean_absolute_error(y_test, pred))\n",
    "print('Mean Squared Error:', mean_squared_error(y_test, pred))\n",
    "print('Mean Root Squared Error:', np.sqrt(mean_squared_error(y_test, pred)))\n",
    "\n",
    "print(\"\\n\\n coefficient of Lasso\")\n",
    "print(L1.coef_)"
   ]
  },
  {
   "cell_type": "code",
   "execution_count": 19,
   "id": "interpreted-language",
   "metadata": {},
   "outputs": [
    {
     "name": "stdout",
     "output_type": "stream",
     "text": [
      "result of Ridge\n",
      "Mean Absolute Error: 0.2511466959936429\n",
      "Mean Squared Error: 0.10568076460795563\n",
      "Mean Root Squared Error: 0.3250857803841251\n",
      "\n",
      "\n",
      " coefficient of Ridge\n",
      "[[-8.12456257e-02  4.35541496e-02 -1.21661565e-01  3.65979773e-02\n",
      "  -3.94014013e-04  1.39168707e-01 -4.50691113e-01 -4.87216747e-01\n",
      "   9.54111059e-02  5.37077039e-02 -1.28602933e-01 -2.89832790e-01\n",
      "  -5.73136185e-04]]\n"
     ]
    }
   ],
   "source": [
    "#L2 regularization, iteration=5회\n",
    "\n",
    "from sklearn.linear_model import Ridge\n",
    "\n",
    "L2 = Ridge(alpha=0.05,max_iter=5)\n",
    "L2.fit(X_train, y_train)\n",
    "pred = L2.predict(X_test)\n",
    "\n",
    "print(\"result of Ridge\")\n",
    "print('Mean Absolute Error:', mean_absolute_error(y_test, pred))\n",
    "print('Mean Squared Error:', mean_squared_error(y_test, pred))\n",
    "print('Mean Root Squared Error:', np.sqrt(mean_squared_error(y_test, pred)))\n",
    "\n",
    "print(\"\\n\\n coefficient of Ridge\")\n",
    "print(L2.coef_)"
   ]
  },
  {
   "cell_type": "markdown",
   "id": "every-wildlife",
   "metadata": {},
   "source": [
    "- L2는 Linear Regression과 같은 값이 나옴.\n",
    "- L1은 위의 과정과 같은 값을 확인할 수 없음. 수렴하지 않았다는 경고도 뜸.\n",
    "- 이는 아직 다른 조건들을 만족하는 답을 찾지 못했다는 의미."
   ]
  },
  {
   "cell_type": "markdown",
   "id": "unlimited-internet",
   "metadata": {},
   "source": [
    "### 정리하면,\n",
    "-  L1 Regularization은 가중치가 적은 벡터에 해당하는 계수를 0으로 보내면서 차원 축소와 비슷한 역할을 하는 것이 특징.\n",
    "- L2 Regularization은 0이 아닌 0에 가깝게 보내지만 제곱 텀이 있기 때문에 L1 Regularization보다는 수렴 속도가 빠름."
   ]
  },
  {
   "cell_type": "markdown",
   "id": "anonymous-denver",
   "metadata": {},
   "source": [
    "---"
   ]
  },
  {
   "cell_type": "markdown",
   "id": "remarkable-union",
   "metadata": {},
   "source": [
    "# Extra : Lp norm"
   ]
  },
  {
   "cell_type": "code",
   "execution_count": 20,
   "id": "affiliated-coordinate",
   "metadata": {},
   "outputs": [
    {
     "name": "stdout",
     "output_type": "stream",
     "text": [
      "result of numpy package norm function : 10.00008 \n",
      "result of making norm : 10.00008 \n"
     ]
    }
   ],
   "source": [
    "x=np.array([1,10,1,1,1])\n",
    "p=5\n",
    "norm_x=np.linalg.norm(x, ord=p)\n",
    "making_norm = (sum(x**p))**(1/p)\n",
    "print(\"result of numpy package norm function : %0.5f \"%norm_x) \n",
    "print(\"result of making norm : %0.5f \"%making_norm)"
   ]
  },
  {
   "cell_type": "code",
   "execution_count": 21,
   "id": "expressed-membership",
   "metadata": {},
   "outputs": [
    {
     "name": "stdout",
     "output_type": "stream",
     "text": [
      "result of infinite norm : 10.00000 \n"
     ]
    }
   ],
   "source": [
    "norm_x=np.linalg.norm(x, ord=np.inf)\n",
    "print(\"result of infinite norm : %0.5f \"%norm_x)"
   ]
  },
  {
   "cell_type": "markdown",
   "id": "characteristic-armor",
   "metadata": {},
   "source": [
    "- p가  Infinity norm의 경우는 가장 큰 숫자를 출력함."
   ]
  },
  {
   "cell_type": "code",
   "execution_count": 22,
   "id": "broken-giving",
   "metadata": {},
   "outputs": [
    {
     "name": "stdout",
     "output_type": "stream",
     "text": [
      "result inf norm of A : 18.0\n",
      "result one norm of A : 14.0\n"
     ]
    }
   ],
   "source": [
    "#matrix norm\n",
    "#주로 p가 1, 무한대인 경우만 알면 됨\n",
    "#p가 1인 경우 칼럼의 합이 가장 큰 값이 출력.\n",
    "#p가 무한대인 경우 로우의 합이 가장 큰 값이 출력 됨.\n",
    "\n",
    "A=np.array([[1,2,3],[1,2,3],[4,6,8]])\n",
    "inf_norm_A=np.linalg.norm(A, ord=np.inf)\n",
    "print(\"result inf norm of A :\", inf_norm_A)\n",
    "one_norm_A=np.linalg.norm(A, ord=1)\n",
    "print(\"result one norm of A :\", one_norm_A)"
   ]
  },
  {
   "cell_type": "markdown",
   "id": "protected-console",
   "metadata": {},
   "source": [
    "# Dropout\n",
    "-  몇 가지의 값들을 모든 뉴런에 전달하는 것이 아닌 확률적으로 버리면서 전달하는 기법.\n",
    "- 오버피팅을 막는 Regularization layer 중 하나.\n",
    "-  확률을 너무 높이면, 제대로 전달되지 않으므로 학습이 잘되지 않고, 확률을 너무 낮추는 경우는 fully connected layer와 같음. \n",
    "- fully connected layer에서 오버피팅이 생기는 경우에 주로 Dropout layer를 추가함."
   ]
  },
  {
   "cell_type": "code",
   "execution_count": 23,
   "id": "adjacent-answer",
   "metadata": {},
   "outputs": [
    {
     "name": "stdout",
     "output_type": "stream",
     "text": [
      "=3\n"
     ]
    }
   ],
   "source": [
    "import tensorflow as tf\n",
    "from tensorflow import keras\n",
    "import numpy as np\n",
    "import matplotlib.pyplot as plt\n",
    "from sklearn.model_selection import train_test_split\n",
    "\n",
    "fashion_mnist = keras.datasets.fashion_mnist\n",
    "print('=3')"
   ]
  },
  {
   "cell_type": "code",
   "execution_count": 24,
   "id": "arranged-asbestos",
   "metadata": {},
   "outputs": [],
   "source": [
    "(train_images, train_labels), (test_images, test_labels) = fashion_mnist.load_data()\n",
    "class_names = ['T-shirt/top', 'Trouser', 'Pullover', 'Dress', 'Coat',\n",
    "               'Sandal', 'Shirt', 'Sneaker', 'Bag', 'Ankle boot']\n",
    "\n",
    "train_images = train_images / 255.0\n",
    "test_images = test_images / 255.0"
   ]
  },
  {
   "cell_type": "code",
   "execution_count": 25,
   "id": "recent-elephant",
   "metadata": {},
   "outputs": [
    {
     "name": "stdout",
     "output_type": "stream",
     "text": [
      "Epoch 1/5\n",
      "1875/1875 [==============================] - 4s 2ms/step - loss: 1.6181 - accuracy: 0.3829\n",
      "Epoch 2/5\n",
      "1875/1875 [==============================] - 4s 2ms/step - loss: 1.1789 - accuracy: 0.5291\n",
      "Epoch 3/5\n",
      "1875/1875 [==============================] - 4s 2ms/step - loss: 1.1230 - accuracy: 0.5441\n",
      "Epoch 4/5\n",
      "1875/1875 [==============================] - 4s 2ms/step - loss: 1.0894 - accuracy: 0.5579\n",
      "Epoch 5/5\n",
      "1875/1875 [==============================] - 4s 2ms/step - loss: 1.0495 - accuracy: 0.5722\n"
     ]
    }
   ],
   "source": [
    "model = keras.Sequential([\n",
    "    keras.layers.Flatten(input_shape=(28, 28)),\n",
    "    keras.layers.Dense(128, activation='relu'),\n",
    "    # 여기에 dropout layer를 추가함.확률을 0.9로 준 것\n",
    "    keras.layers.Dropout(0.9),\n",
    "    keras.layers.Dense(10, activation='softmax')\n",
    "])\n",
    "\n",
    "model.compile(optimizer='adam',loss='sparse_categorical_crossentropy',\n",
    "              metrics=['accuracy'])\n",
    "\n",
    "history= model.fit(train_images, train_labels, epochs=5)"
   ]
  },
  {
   "cell_type": "code",
   "execution_count": 26,
   "id": "russian-navigator",
   "metadata": {},
   "outputs": [
    {
     "name": "stdout",
     "output_type": "stream",
     "text": [
      "Epoch 1/5\n",
      "1875/1875 [==============================] - 5s 2ms/step - loss: 0.6326 - accuracy: 0.7828\n",
      "Epoch 2/5\n",
      "1875/1875 [==============================] - 4s 2ms/step - loss: 0.3850 - accuracy: 0.8627\n",
      "Epoch 3/5\n",
      "1875/1875 [==============================] - 4s 2ms/step - loss: 0.3354 - accuracy: 0.8764\n",
      "Epoch 4/5\n",
      "1875/1875 [==============================] - 4s 2ms/step - loss: 0.3200 - accuracy: 0.8823\n",
      "Epoch 5/5\n",
      "1875/1875 [==============================] - 4s 2ms/step - loss: 0.2989 - accuracy: 0.8898\n"
     ]
    }
   ],
   "source": [
    "#dropout 없을 때 \n",
    "model = keras.Sequential([\n",
    "    keras.layers.Flatten(input_shape=(28, 28)),\n",
    "    # 이번에는 dropout layer가 없습니다. \n",
    "    keras.layers.Dense(128, activation='relu'),\n",
    "    keras.layers.Dense(10, activation='softmax')\n",
    "])\n",
    "\n",
    "model.compile(optimizer='adam',loss='sparse_categorical_crossentropy',\n",
    "              metrics=['accuracy'])\n",
    "\n",
    "history = model.fit(train_images, train_labels, epochs=5)"
   ]
  },
  {
   "cell_type": "code",
   "execution_count": 27,
   "id": "bizarre-tutorial",
   "metadata": {},
   "outputs": [
    {
     "name": "stdout",
     "output_type": "stream",
     "text": [
      "Epoch 1/200\n",
      "117/117 [==============================] - 1s 8ms/step - loss: 2.1995 - accuracy: 0.4094 - val_loss: 1.6453 - val_accuracy: 0.6033\n",
      "Epoch 2/200\n",
      "117/117 [==============================] - 0s 4ms/step - loss: 1.5225 - accuracy: 0.6062 - val_loss: 1.1782 - val_accuracy: 0.6767\n",
      "Epoch 3/200\n",
      "117/117 [==============================] - 0s 4ms/step - loss: 1.1345 - accuracy: 0.6653 - val_loss: 0.9509 - val_accuracy: 0.7317\n",
      "Epoch 4/200\n",
      "117/117 [==============================] - 0s 4ms/step - loss: 0.9331 - accuracy: 0.7120 - val_loss: 0.8197 - val_accuracy: 0.7600\n",
      "Epoch 5/200\n",
      "117/117 [==============================] - 0s 4ms/step - loss: 0.8123 - accuracy: 0.7350 - val_loss: 0.7357 - val_accuracy: 0.7700\n",
      "Epoch 6/200\n",
      "117/117 [==============================] - 0s 4ms/step - loss: 0.7403 - accuracy: 0.7455 - val_loss: 0.6836 - val_accuracy: 0.7817\n",
      "Epoch 7/200\n",
      "117/117 [==============================] - 0s 4ms/step - loss: 0.6876 - accuracy: 0.7566 - val_loss: 0.6528 - val_accuracy: 0.7883\n",
      "Epoch 8/200\n",
      "117/117 [==============================] - 0s 4ms/step - loss: 0.6585 - accuracy: 0.7641 - val_loss: 0.6289 - val_accuracy: 0.7850\n",
      "Epoch 9/200\n",
      "117/117 [==============================] - 0s 4ms/step - loss: 0.6341 - accuracy: 0.7723 - val_loss: 0.6025 - val_accuracy: 0.8000\n",
      "Epoch 10/200\n",
      "117/117 [==============================] - 0s 4ms/step - loss: 0.6108 - accuracy: 0.7817 - val_loss: 0.5843 - val_accuracy: 0.7950\n",
      "Epoch 11/200\n",
      "117/117 [==============================] - 0s 4ms/step - loss: 0.5919 - accuracy: 0.7891 - val_loss: 0.5733 - val_accuracy: 0.7983\n",
      "Epoch 12/200\n",
      "117/117 [==============================] - 0s 4ms/step - loss: 0.5736 - accuracy: 0.7957 - val_loss: 0.5537 - val_accuracy: 0.8017\n",
      "Epoch 13/200\n",
      "117/117 [==============================] - 0s 4ms/step - loss: 0.5675 - accuracy: 0.7994 - val_loss: 0.5438 - val_accuracy: 0.8000\n",
      "Epoch 14/200\n",
      "117/117 [==============================] - 0s 4ms/step - loss: 0.5447 - accuracy: 0.8083 - val_loss: 0.5348 - val_accuracy: 0.8033\n",
      "Epoch 15/200\n",
      "117/117 [==============================] - 0s 4ms/step - loss: 0.5318 - accuracy: 0.8129 - val_loss: 0.5241 - val_accuracy: 0.8033\n",
      "Epoch 16/200\n",
      "117/117 [==============================] - 0s 4ms/step - loss: 0.5207 - accuracy: 0.8168 - val_loss: 0.5143 - val_accuracy: 0.8033\n",
      "Epoch 17/200\n",
      "117/117 [==============================] - 0s 4ms/step - loss: 0.5128 - accuracy: 0.8209 - val_loss: 0.5099 - val_accuracy: 0.8117\n",
      "Epoch 18/200\n",
      "117/117 [==============================] - 0s 4ms/step - loss: 0.5085 - accuracy: 0.8210 - val_loss: 0.5020 - val_accuracy: 0.8133\n",
      "Epoch 19/200\n",
      "117/117 [==============================] - 0s 4ms/step - loss: 0.5001 - accuracy: 0.8258 - val_loss: 0.4950 - val_accuracy: 0.8167\n",
      "Epoch 20/200\n",
      "117/117 [==============================] - 0s 4ms/step - loss: 0.4925 - accuracy: 0.8289 - val_loss: 0.4906 - val_accuracy: 0.8183\n",
      "Epoch 21/200\n",
      "117/117 [==============================] - 0s 4ms/step - loss: 0.4924 - accuracy: 0.8267 - val_loss: 0.4861 - val_accuracy: 0.8217\n",
      "Epoch 22/200\n",
      "117/117 [==============================] - 0s 4ms/step - loss: 0.4767 - accuracy: 0.8335 - val_loss: 0.4778 - val_accuracy: 0.8217\n",
      "Epoch 23/200\n",
      "117/117 [==============================] - 0s 4ms/step - loss: 0.4760 - accuracy: 0.8304 - val_loss: 0.4752 - val_accuracy: 0.8167\n",
      "Epoch 24/200\n",
      "117/117 [==============================] - 0s 4ms/step - loss: 0.4715 - accuracy: 0.8335 - val_loss: 0.4718 - val_accuracy: 0.8233\n",
      "Epoch 25/200\n",
      "117/117 [==============================] - 0s 4ms/step - loss: 0.4696 - accuracy: 0.8331 - val_loss: 0.4654 - val_accuracy: 0.8267\n",
      "Epoch 26/200\n",
      "117/117 [==============================] - 0s 4ms/step - loss: 0.4640 - accuracy: 0.8387 - val_loss: 0.4648 - val_accuracy: 0.8300\n",
      "Epoch 27/200\n",
      "117/117 [==============================] - 0s 4ms/step - loss: 0.4624 - accuracy: 0.8381 - val_loss: 0.4592 - val_accuracy: 0.8233\n",
      "Epoch 28/200\n",
      "117/117 [==============================] - 0s 4ms/step - loss: 0.4533 - accuracy: 0.8400 - val_loss: 0.4568 - val_accuracy: 0.8283\n",
      "Epoch 29/200\n",
      "117/117 [==============================] - 0s 4ms/step - loss: 0.4479 - accuracy: 0.8416 - val_loss: 0.4576 - val_accuracy: 0.8317\n",
      "Epoch 30/200\n",
      "117/117 [==============================] - 0s 4ms/step - loss: 0.4460 - accuracy: 0.8442 - val_loss: 0.4504 - val_accuracy: 0.8283\n",
      "Epoch 31/200\n",
      "117/117 [==============================] - 0s 4ms/step - loss: 0.4413 - accuracy: 0.8449 - val_loss: 0.4447 - val_accuracy: 0.8300\n",
      "Epoch 32/200\n",
      "117/117 [==============================] - 0s 4ms/step - loss: 0.4393 - accuracy: 0.8451 - val_loss: 0.4436 - val_accuracy: 0.8317\n",
      "Epoch 33/200\n",
      "117/117 [==============================] - 0s 4ms/step - loss: 0.4367 - accuracy: 0.8463 - val_loss: 0.4386 - val_accuracy: 0.8367\n",
      "Epoch 34/200\n",
      "117/117 [==============================] - 0s 4ms/step - loss: 0.4396 - accuracy: 0.8466 - val_loss: 0.4389 - val_accuracy: 0.8317\n",
      "Epoch 35/200\n",
      "117/117 [==============================] - 0s 4ms/step - loss: 0.4361 - accuracy: 0.8467 - val_loss: 0.4384 - val_accuracy: 0.8333\n",
      "Epoch 36/200\n",
      "117/117 [==============================] - 0s 4ms/step - loss: 0.4300 - accuracy: 0.8500 - val_loss: 0.4320 - val_accuracy: 0.8367\n",
      "Epoch 37/200\n",
      "117/117 [==============================] - 0s 4ms/step - loss: 0.4281 - accuracy: 0.8503 - val_loss: 0.4311 - val_accuracy: 0.8383\n",
      "Epoch 38/200\n",
      "117/117 [==============================] - 0s 4ms/step - loss: 0.4272 - accuracy: 0.8516 - val_loss: 0.4317 - val_accuracy: 0.8383\n",
      "Epoch 39/200\n",
      "117/117 [==============================] - 0s 4ms/step - loss: 0.4281 - accuracy: 0.8490 - val_loss: 0.4287 - val_accuracy: 0.8350\n",
      "Epoch 40/200\n",
      "117/117 [==============================] - 0s 4ms/step - loss: 0.4222 - accuracy: 0.8546 - val_loss: 0.4279 - val_accuracy: 0.8350\n",
      "Epoch 41/200\n",
      "117/117 [==============================] - 0s 4ms/step - loss: 0.4205 - accuracy: 0.8520 - val_loss: 0.4243 - val_accuracy: 0.8417\n",
      "Epoch 42/200\n",
      "117/117 [==============================] - 0s 4ms/step - loss: 0.4117 - accuracy: 0.8573 - val_loss: 0.4218 - val_accuracy: 0.8383\n",
      "Epoch 43/200\n",
      "117/117 [==============================] - 0s 4ms/step - loss: 0.4164 - accuracy: 0.8546 - val_loss: 0.4229 - val_accuracy: 0.8417\n",
      "Epoch 44/200\n",
      "117/117 [==============================] - 0s 4ms/step - loss: 0.4063 - accuracy: 0.8587 - val_loss: 0.4170 - val_accuracy: 0.8300\n",
      "Epoch 45/200\n",
      "117/117 [==============================] - 0s 3ms/step - loss: 0.4094 - accuracy: 0.8541 - val_loss: 0.4153 - val_accuracy: 0.8367\n",
      "Epoch 46/200\n",
      "117/117 [==============================] - 0s 4ms/step - loss: 0.4072 - accuracy: 0.8579 - val_loss: 0.4169 - val_accuracy: 0.8333\n",
      "Epoch 47/200\n",
      "117/117 [==============================] - 0s 4ms/step - loss: 0.4050 - accuracy: 0.8581 - val_loss: 0.4151 - val_accuracy: 0.8367\n",
      "Epoch 48/200\n",
      "117/117 [==============================] - 0s 4ms/step - loss: 0.4056 - accuracy: 0.8573 - val_loss: 0.4105 - val_accuracy: 0.8417\n",
      "Epoch 49/200\n",
      "117/117 [==============================] - 0s 4ms/step - loss: 0.4058 - accuracy: 0.8583 - val_loss: 0.4129 - val_accuracy: 0.8417\n",
      "Epoch 50/200\n",
      "117/117 [==============================] - 0s 4ms/step - loss: 0.4060 - accuracy: 0.8588 - val_loss: 0.4122 - val_accuracy: 0.8350\n",
      "Epoch 51/200\n",
      "117/117 [==============================] - 0s 4ms/step - loss: 0.4029 - accuracy: 0.8581 - val_loss: 0.4060 - val_accuracy: 0.8350\n",
      "Epoch 52/200\n",
      "117/117 [==============================] - 0s 4ms/step - loss: 0.4005 - accuracy: 0.8594 - val_loss: 0.4033 - val_accuracy: 0.8383\n",
      "Epoch 53/200\n",
      "117/117 [==============================] - 0s 4ms/step - loss: 0.4001 - accuracy: 0.8589 - val_loss: 0.4071 - val_accuracy: 0.8300\n",
      "Epoch 54/200\n",
      "117/117 [==============================] - 0s 4ms/step - loss: 0.3944 - accuracy: 0.8616 - val_loss: 0.4085 - val_accuracy: 0.8350\n",
      "Epoch 55/200\n",
      "117/117 [==============================] - 0s 4ms/step - loss: 0.4030 - accuracy: 0.8583 - val_loss: 0.4046 - val_accuracy: 0.8283\n",
      "Epoch 56/200\n",
      "117/117 [==============================] - 0s 4ms/step - loss: 0.3902 - accuracy: 0.8632 - val_loss: 0.4044 - val_accuracy: 0.8383\n",
      "Epoch 57/200\n",
      "117/117 [==============================] - 0s 4ms/step - loss: 0.3984 - accuracy: 0.8596 - val_loss: 0.3974 - val_accuracy: 0.8450\n"
     ]
    },
    {
     "name": "stdout",
     "output_type": "stream",
     "text": [
      "Epoch 58/200\n",
      "117/117 [==============================] - 0s 4ms/step - loss: 0.3903 - accuracy: 0.8616 - val_loss: 0.3987 - val_accuracy: 0.8367\n",
      "Epoch 59/200\n",
      "117/117 [==============================] - 0s 4ms/step - loss: 0.3850 - accuracy: 0.8643 - val_loss: 0.4026 - val_accuracy: 0.8333\n",
      "Epoch 60/200\n",
      "117/117 [==============================] - 0s 4ms/step - loss: 0.3904 - accuracy: 0.8630 - val_loss: 0.3992 - val_accuracy: 0.8383\n",
      "Epoch 61/200\n",
      "117/117 [==============================] - 0s 4ms/step - loss: 0.3900 - accuracy: 0.8619 - val_loss: 0.3966 - val_accuracy: 0.8383\n",
      "Epoch 62/200\n",
      "117/117 [==============================] - 0s 4ms/step - loss: 0.3841 - accuracy: 0.8656 - val_loss: 0.3938 - val_accuracy: 0.8350\n",
      "Epoch 63/200\n",
      "117/117 [==============================] - 0s 4ms/step - loss: 0.3882 - accuracy: 0.8624 - val_loss: 0.3935 - val_accuracy: 0.8433\n",
      "Epoch 64/200\n",
      "117/117 [==============================] - 0s 4ms/step - loss: 0.3806 - accuracy: 0.8653 - val_loss: 0.3886 - val_accuracy: 0.8433\n",
      "Epoch 65/200\n",
      "117/117 [==============================] - 0s 4ms/step - loss: 0.3813 - accuracy: 0.8648 - val_loss: 0.3914 - val_accuracy: 0.8350\n",
      "Epoch 66/200\n",
      "117/117 [==============================] - 0s 4ms/step - loss: 0.3794 - accuracy: 0.8644 - val_loss: 0.3945 - val_accuracy: 0.8400\n",
      "Epoch 67/200\n",
      "117/117 [==============================] - 0s 4ms/step - loss: 0.3831 - accuracy: 0.8638 - val_loss: 0.3890 - val_accuracy: 0.8350\n",
      "Epoch 68/200\n",
      "117/117 [==============================] - 0s 4ms/step - loss: 0.3826 - accuracy: 0.8660 - val_loss: 0.3868 - val_accuracy: 0.8433\n",
      "Epoch 69/200\n",
      "117/117 [==============================] - 0s 4ms/step - loss: 0.3786 - accuracy: 0.8666 - val_loss: 0.3875 - val_accuracy: 0.8400\n",
      "Epoch 70/200\n",
      "117/117 [==============================] - 0s 4ms/step - loss: 0.3788 - accuracy: 0.8652 - val_loss: 0.3839 - val_accuracy: 0.8433\n",
      "Epoch 71/200\n",
      "117/117 [==============================] - 0s 4ms/step - loss: 0.3769 - accuracy: 0.8681 - val_loss: 0.3869 - val_accuracy: 0.8367\n",
      "Epoch 72/200\n",
      "117/117 [==============================] - 0s 4ms/step - loss: 0.3774 - accuracy: 0.8666 - val_loss: 0.3919 - val_accuracy: 0.8400\n",
      "Epoch 73/200\n",
      "117/117 [==============================] - 0s 4ms/step - loss: 0.3809 - accuracy: 0.8658 - val_loss: 0.3824 - val_accuracy: 0.8383\n",
      "Epoch 74/200\n",
      "117/117 [==============================] - 0s 4ms/step - loss: 0.3704 - accuracy: 0.8686 - val_loss: 0.3826 - val_accuracy: 0.8467\n",
      "Epoch 75/200\n",
      "117/117 [==============================] - 0s 4ms/step - loss: 0.3768 - accuracy: 0.8679 - val_loss: 0.3841 - val_accuracy: 0.8500\n",
      "Epoch 76/200\n",
      "117/117 [==============================] - 0s 4ms/step - loss: 0.3689 - accuracy: 0.8696 - val_loss: 0.3879 - val_accuracy: 0.8417\n",
      "Epoch 77/200\n",
      "117/117 [==============================] - 0s 4ms/step - loss: 0.3700 - accuracy: 0.8693 - val_loss: 0.3788 - val_accuracy: 0.8417\n",
      "Epoch 78/200\n",
      "117/117 [==============================] - 0s 4ms/step - loss: 0.3725 - accuracy: 0.8683 - val_loss: 0.3783 - val_accuracy: 0.8400\n",
      "Epoch 79/200\n",
      "117/117 [==============================] - 0s 4ms/step - loss: 0.3653 - accuracy: 0.8720 - val_loss: 0.3812 - val_accuracy: 0.8417\n",
      "Epoch 80/200\n",
      "117/117 [==============================] - 0s 4ms/step - loss: 0.3659 - accuracy: 0.8709 - val_loss: 0.3807 - val_accuracy: 0.8400\n",
      "Epoch 81/200\n",
      "117/117 [==============================] - 0s 4ms/step - loss: 0.3681 - accuracy: 0.8705 - val_loss: 0.3774 - val_accuracy: 0.8433\n",
      "Epoch 82/200\n",
      "117/117 [==============================] - 0s 4ms/step - loss: 0.3671 - accuracy: 0.8710 - val_loss: 0.3792 - val_accuracy: 0.8433\n",
      "Epoch 83/200\n",
      "117/117 [==============================] - 0s 4ms/step - loss: 0.3703 - accuracy: 0.8706 - val_loss: 0.3779 - val_accuracy: 0.8433\n",
      "Epoch 84/200\n",
      "117/117 [==============================] - 0s 4ms/step - loss: 0.3552 - accuracy: 0.8750 - val_loss: 0.3824 - val_accuracy: 0.8433\n",
      "Epoch 85/200\n",
      "117/117 [==============================] - 0s 4ms/step - loss: 0.3682 - accuracy: 0.8691 - val_loss: 0.3751 - val_accuracy: 0.8450\n",
      "Epoch 86/200\n",
      "117/117 [==============================] - 0s 4ms/step - loss: 0.3627 - accuracy: 0.8731 - val_loss: 0.3816 - val_accuracy: 0.8417\n",
      "Epoch 87/200\n",
      "117/117 [==============================] - 0s 4ms/step - loss: 0.3646 - accuracy: 0.8721 - val_loss: 0.3737 - val_accuracy: 0.8483\n",
      "Epoch 88/200\n",
      "117/117 [==============================] - 0s 4ms/step - loss: 0.3617 - accuracy: 0.8722 - val_loss: 0.3727 - val_accuracy: 0.8417\n",
      "Epoch 89/200\n",
      "117/117 [==============================] - 0s 4ms/step - loss: 0.3535 - accuracy: 0.8754 - val_loss: 0.3756 - val_accuracy: 0.8367\n",
      "Epoch 90/200\n",
      "117/117 [==============================] - 0s 4ms/step - loss: 0.3602 - accuracy: 0.8726 - val_loss: 0.3692 - val_accuracy: 0.8433\n",
      "Epoch 91/200\n",
      "117/117 [==============================] - 0s 4ms/step - loss: 0.3611 - accuracy: 0.8744 - val_loss: 0.3677 - val_accuracy: 0.8350\n",
      "Epoch 92/200\n",
      "117/117 [==============================] - 0s 4ms/step - loss: 0.3578 - accuracy: 0.8733 - val_loss: 0.3728 - val_accuracy: 0.8483\n",
      "Epoch 93/200\n",
      "117/117 [==============================] - 0s 4ms/step - loss: 0.3564 - accuracy: 0.8758 - val_loss: 0.3685 - val_accuracy: 0.8417\n",
      "Epoch 94/200\n",
      "117/117 [==============================] - 0s 4ms/step - loss: 0.3522 - accuracy: 0.8740 - val_loss: 0.3710 - val_accuracy: 0.8450\n",
      "Epoch 95/200\n",
      "117/117 [==============================] - 0s 4ms/step - loss: 0.3549 - accuracy: 0.8752 - val_loss: 0.3667 - val_accuracy: 0.8433\n",
      "Epoch 96/200\n",
      "117/117 [==============================] - 0s 4ms/step - loss: 0.3459 - accuracy: 0.8782 - val_loss: 0.3700 - val_accuracy: 0.8500\n",
      "Epoch 97/200\n",
      "117/117 [==============================] - 0s 4ms/step - loss: 0.3530 - accuracy: 0.8757 - val_loss: 0.3736 - val_accuracy: 0.8517\n",
      "Epoch 98/200\n",
      "117/117 [==============================] - 0s 4ms/step - loss: 0.3536 - accuracy: 0.8763 - val_loss: 0.3695 - val_accuracy: 0.8450\n",
      "Epoch 99/200\n",
      "117/117 [==============================] - 0s 4ms/step - loss: 0.3449 - accuracy: 0.8778 - val_loss: 0.3662 - val_accuracy: 0.8517\n",
      "Epoch 100/200\n",
      "117/117 [==============================] - 0s 4ms/step - loss: 0.3485 - accuracy: 0.8774 - val_loss: 0.3647 - val_accuracy: 0.8500\n",
      "Epoch 101/200\n",
      "117/117 [==============================] - 0s 4ms/step - loss: 0.3480 - accuracy: 0.8771 - val_loss: 0.3633 - val_accuracy: 0.8467\n",
      "Epoch 102/200\n",
      "117/117 [==============================] - 0s 4ms/step - loss: 0.3500 - accuracy: 0.8789 - val_loss: 0.3635 - val_accuracy: 0.8517\n",
      "Epoch 103/200\n",
      "117/117 [==============================] - 0s 4ms/step - loss: 0.3503 - accuracy: 0.8772 - val_loss: 0.3636 - val_accuracy: 0.8433\n",
      "Epoch 104/200\n",
      "117/117 [==============================] - 0s 4ms/step - loss: 0.3484 - accuracy: 0.8766 - val_loss: 0.3622 - val_accuracy: 0.8383\n",
      "Epoch 105/200\n",
      "117/117 [==============================] - 0s 4ms/step - loss: 0.3459 - accuracy: 0.8777 - val_loss: 0.3676 - val_accuracy: 0.8550\n",
      "Epoch 106/200\n",
      "117/117 [==============================] - 0s 4ms/step - loss: 0.3375 - accuracy: 0.8812 - val_loss: 0.3677 - val_accuracy: 0.8467\n",
      "Epoch 107/200\n",
      "117/117 [==============================] - 0s 4ms/step - loss: 0.3415 - accuracy: 0.8804 - val_loss: 0.3632 - val_accuracy: 0.8483\n",
      "Epoch 108/200\n",
      "117/117 [==============================] - 0s 4ms/step - loss: 0.3416 - accuracy: 0.8791 - val_loss: 0.3633 - val_accuracy: 0.8483\n",
      "Epoch 109/200\n",
      "117/117 [==============================] - 0s 4ms/step - loss: 0.3401 - accuracy: 0.8802 - val_loss: 0.3595 - val_accuracy: 0.8500\n",
      "Epoch 110/200\n",
      "117/117 [==============================] - 0s 4ms/step - loss: 0.3407 - accuracy: 0.8792 - val_loss: 0.3609 - val_accuracy: 0.8550\n",
      "Epoch 111/200\n",
      "117/117 [==============================] - 0s 4ms/step - loss: 0.3360 - accuracy: 0.8799 - val_loss: 0.3622 - val_accuracy: 0.8467\n",
      "Epoch 112/200\n",
      "117/117 [==============================] - 0s 4ms/step - loss: 0.3383 - accuracy: 0.8801 - val_loss: 0.3573 - val_accuracy: 0.8517\n",
      "Epoch 113/200\n",
      "117/117 [==============================] - 0s 4ms/step - loss: 0.3373 - accuracy: 0.8810 - val_loss: 0.3585 - val_accuracy: 0.8450\n",
      "Epoch 114/200\n",
      "117/117 [==============================] - 0s 4ms/step - loss: 0.3381 - accuracy: 0.8809 - val_loss: 0.3600 - val_accuracy: 0.8567\n"
     ]
    },
    {
     "name": "stdout",
     "output_type": "stream",
     "text": [
      "Epoch 115/200\n",
      "117/117 [==============================] - 0s 4ms/step - loss: 0.3318 - accuracy: 0.8827 - val_loss: 0.3561 - val_accuracy: 0.8517\n",
      "Epoch 116/200\n",
      "117/117 [==============================] - 0s 4ms/step - loss: 0.3364 - accuracy: 0.8807 - val_loss: 0.3545 - val_accuracy: 0.8533\n",
      "Epoch 117/200\n",
      "117/117 [==============================] - 0s 4ms/step - loss: 0.3382 - accuracy: 0.8809 - val_loss: 0.3563 - val_accuracy: 0.8467\n",
      "Epoch 118/200\n",
      "117/117 [==============================] - 0s 4ms/step - loss: 0.3332 - accuracy: 0.8829 - val_loss: 0.3560 - val_accuracy: 0.8550\n",
      "Epoch 119/200\n",
      "117/117 [==============================] - 0s 4ms/step - loss: 0.3312 - accuracy: 0.8841 - val_loss: 0.3533 - val_accuracy: 0.8533\n",
      "Epoch 120/200\n",
      "117/117 [==============================] - 0s 4ms/step - loss: 0.3374 - accuracy: 0.8821 - val_loss: 0.3531 - val_accuracy: 0.8500\n",
      "Epoch 121/200\n",
      "117/117 [==============================] - 0s 4ms/step - loss: 0.3300 - accuracy: 0.8845 - val_loss: 0.3512 - val_accuracy: 0.8500\n",
      "Epoch 122/200\n",
      "117/117 [==============================] - 0s 4ms/step - loss: 0.3299 - accuracy: 0.8845 - val_loss: 0.3498 - val_accuracy: 0.8500\n",
      "Epoch 123/200\n",
      "117/117 [==============================] - 0s 4ms/step - loss: 0.3307 - accuracy: 0.8837 - val_loss: 0.3553 - val_accuracy: 0.8517\n",
      "Epoch 124/200\n",
      "117/117 [==============================] - 0s 4ms/step - loss: 0.3266 - accuracy: 0.8833 - val_loss: 0.3538 - val_accuracy: 0.8517\n",
      "Epoch 125/200\n",
      "117/117 [==============================] - 0s 4ms/step - loss: 0.3321 - accuracy: 0.8821 - val_loss: 0.3478 - val_accuracy: 0.8533\n",
      "Epoch 126/200\n",
      "117/117 [==============================] - 0s 4ms/step - loss: 0.3240 - accuracy: 0.8861 - val_loss: 0.3509 - val_accuracy: 0.8583\n",
      "Epoch 127/200\n",
      "117/117 [==============================] - 0s 4ms/step - loss: 0.3267 - accuracy: 0.8850 - val_loss: 0.3552 - val_accuracy: 0.8533\n",
      "Epoch 128/200\n",
      "117/117 [==============================] - 0s 4ms/step - loss: 0.3264 - accuracy: 0.8843 - val_loss: 0.3587 - val_accuracy: 0.8567\n",
      "Epoch 129/200\n",
      "117/117 [==============================] - 0s 4ms/step - loss: 0.3269 - accuracy: 0.8849 - val_loss: 0.3548 - val_accuracy: 0.8533\n",
      "Epoch 130/200\n",
      "117/117 [==============================] - 0s 4ms/step - loss: 0.3318 - accuracy: 0.8818 - val_loss: 0.3481 - val_accuracy: 0.8567\n",
      "Epoch 131/200\n",
      "117/117 [==============================] - 0s 4ms/step - loss: 0.3263 - accuracy: 0.8852 - val_loss: 0.3456 - val_accuracy: 0.8617\n",
      "Epoch 132/200\n",
      "117/117 [==============================] - 0s 4ms/step - loss: 0.3265 - accuracy: 0.8843 - val_loss: 0.3475 - val_accuracy: 0.8550\n",
      "Epoch 133/200\n",
      "117/117 [==============================] - 0s 4ms/step - loss: 0.3267 - accuracy: 0.8842 - val_loss: 0.3439 - val_accuracy: 0.8633\n",
      "Epoch 134/200\n",
      "117/117 [==============================] - 0s 4ms/step - loss: 0.3229 - accuracy: 0.8861 - val_loss: 0.3508 - val_accuracy: 0.8533\n",
      "Epoch 135/200\n",
      "117/117 [==============================] - 0s 4ms/step - loss: 0.3241 - accuracy: 0.8846 - val_loss: 0.3434 - val_accuracy: 0.8583\n",
      "Epoch 136/200\n",
      "117/117 [==============================] - 0s 4ms/step - loss: 0.3237 - accuracy: 0.8852 - val_loss: 0.3454 - val_accuracy: 0.8600\n",
      "Epoch 137/200\n",
      "117/117 [==============================] - 0s 4ms/step - loss: 0.3237 - accuracy: 0.8857 - val_loss: 0.3461 - val_accuracy: 0.8567\n",
      "Epoch 138/200\n",
      "117/117 [==============================] - 0s 4ms/step - loss: 0.3231 - accuracy: 0.8872 - val_loss: 0.3473 - val_accuracy: 0.8583\n",
      "Epoch 139/200\n",
      "117/117 [==============================] - 0s 4ms/step - loss: 0.3201 - accuracy: 0.8858 - val_loss: 0.3437 - val_accuracy: 0.8600\n",
      "Epoch 140/200\n",
      "117/117 [==============================] - 0s 4ms/step - loss: 0.3176 - accuracy: 0.8876 - val_loss: 0.3472 - val_accuracy: 0.8583\n",
      "Epoch 141/200\n",
      "117/117 [==============================] - 0s 4ms/step - loss: 0.3203 - accuracy: 0.8865 - val_loss: 0.3449 - val_accuracy: 0.8633\n",
      "Epoch 142/200\n",
      "117/117 [==============================] - 0s 4ms/step - loss: 0.3219 - accuracy: 0.8847 - val_loss: 0.3463 - val_accuracy: 0.8633\n",
      "Epoch 143/200\n",
      "117/117 [==============================] - 0s 4ms/step - loss: 0.3218 - accuracy: 0.8849 - val_loss: 0.3433 - val_accuracy: 0.8633\n",
      "Epoch 144/200\n",
      "117/117 [==============================] - 0s 4ms/step - loss: 0.3106 - accuracy: 0.8896 - val_loss: 0.3418 - val_accuracy: 0.8617\n",
      "Epoch 145/200\n",
      "117/117 [==============================] - 0s 4ms/step - loss: 0.3124 - accuracy: 0.8893 - val_loss: 0.3424 - val_accuracy: 0.8667\n",
      "Epoch 146/200\n",
      "117/117 [==============================] - 0s 4ms/step - loss: 0.3167 - accuracy: 0.8873 - val_loss: 0.3453 - val_accuracy: 0.8633\n",
      "Epoch 147/200\n",
      "117/117 [==============================] - 0s 4ms/step - loss: 0.3169 - accuracy: 0.8890 - val_loss: 0.3436 - val_accuracy: 0.8633\n",
      "Epoch 148/200\n",
      "117/117 [==============================] - 0s 4ms/step - loss: 0.3162 - accuracy: 0.8896 - val_loss: 0.3420 - val_accuracy: 0.8633\n",
      "Epoch 149/200\n",
      "117/117 [==============================] - 0s 4ms/step - loss: 0.3121 - accuracy: 0.8885 - val_loss: 0.3406 - val_accuracy: 0.8617\n",
      "Epoch 150/200\n",
      "117/117 [==============================] - 0s 4ms/step - loss: 0.3115 - accuracy: 0.8918 - val_loss: 0.3426 - val_accuracy: 0.8650\n",
      "Epoch 151/200\n",
      "117/117 [==============================] - 0s 4ms/step - loss: 0.3100 - accuracy: 0.8916 - val_loss: 0.3412 - val_accuracy: 0.8600\n",
      "Epoch 152/200\n",
      "117/117 [==============================] - 0s 4ms/step - loss: 0.3139 - accuracy: 0.8886 - val_loss: 0.3451 - val_accuracy: 0.8700\n",
      "Epoch 153/200\n",
      "117/117 [==============================] - 0s 4ms/step - loss: 0.3131 - accuracy: 0.8891 - val_loss: 0.3367 - val_accuracy: 0.8667\n",
      "Epoch 154/200\n",
      "117/117 [==============================] - 0s 4ms/step - loss: 0.3087 - accuracy: 0.8904 - val_loss: 0.3418 - val_accuracy: 0.8683\n",
      "Epoch 155/200\n",
      "117/117 [==============================] - 0s 4ms/step - loss: 0.3107 - accuracy: 0.8917 - val_loss: 0.3371 - val_accuracy: 0.8633\n",
      "Epoch 156/200\n",
      "117/117 [==============================] - 0s 4ms/step - loss: 0.3101 - accuracy: 0.8895 - val_loss: 0.3393 - val_accuracy: 0.8633\n",
      "Epoch 157/200\n",
      "117/117 [==============================] - 0s 4ms/step - loss: 0.3055 - accuracy: 0.8917 - val_loss: 0.3368 - val_accuracy: 0.8650\n",
      "Epoch 158/200\n",
      "117/117 [==============================] - 0s 4ms/step - loss: 0.3100 - accuracy: 0.8911 - val_loss: 0.3403 - val_accuracy: 0.8667\n",
      "Epoch 159/200\n",
      "117/117 [==============================] - 0s 4ms/step - loss: 0.3079 - accuracy: 0.8900 - val_loss: 0.3388 - val_accuracy: 0.8667\n",
      "Epoch 160/200\n",
      "117/117 [==============================] - 0s 4ms/step - loss: 0.3019 - accuracy: 0.8940 - val_loss: 0.3396 - val_accuracy: 0.8667\n",
      "Epoch 161/200\n",
      "117/117 [==============================] - 0s 4ms/step - loss: 0.3042 - accuracy: 0.8922 - val_loss: 0.3370 - val_accuracy: 0.8717\n",
      "Epoch 162/200\n",
      "117/117 [==============================] - 0s 4ms/step - loss: 0.3012 - accuracy: 0.8934 - val_loss: 0.3372 - val_accuracy: 0.8667\n",
      "Epoch 163/200\n",
      "117/117 [==============================] - 0s 4ms/step - loss: 0.3010 - accuracy: 0.8924 - val_loss: 0.3334 - val_accuracy: 0.8667\n",
      "Epoch 164/200\n",
      "117/117 [==============================] - 0s 4ms/step - loss: 0.3012 - accuracy: 0.8937 - val_loss: 0.3357 - val_accuracy: 0.8750\n",
      "Epoch 165/200\n",
      "117/117 [==============================] - 0s 4ms/step - loss: 0.2984 - accuracy: 0.8942 - val_loss: 0.3326 - val_accuracy: 0.8683\n",
      "Epoch 166/200\n",
      "117/117 [==============================] - 0s 4ms/step - loss: 0.3019 - accuracy: 0.8924 - val_loss: 0.3327 - val_accuracy: 0.8733\n",
      "Epoch 167/200\n",
      "117/117 [==============================] - 0s 4ms/step - loss: 0.3026 - accuracy: 0.8935 - val_loss: 0.3382 - val_accuracy: 0.8683\n",
      "Epoch 168/200\n",
      "117/117 [==============================] - 0s 4ms/step - loss: 0.3020 - accuracy: 0.8929 - val_loss: 0.3363 - val_accuracy: 0.8700\n",
      "Epoch 169/200\n",
      "117/117 [==============================] - 0s 4ms/step - loss: 0.2984 - accuracy: 0.8949 - val_loss: 0.3361 - val_accuracy: 0.8750\n",
      "Epoch 170/200\n",
      "117/117 [==============================] - 0s 4ms/step - loss: 0.3035 - accuracy: 0.8921 - val_loss: 0.3363 - val_accuracy: 0.8750\n",
      "Epoch 171/200\n"
     ]
    },
    {
     "name": "stdout",
     "output_type": "stream",
     "text": [
      "117/117 [==============================] - 0s 4ms/step - loss: 0.3015 - accuracy: 0.8927 - val_loss: 0.3342 - val_accuracy: 0.8717\n",
      "Epoch 172/200\n",
      "117/117 [==============================] - 0s 4ms/step - loss: 0.2997 - accuracy: 0.8926 - val_loss: 0.3384 - val_accuracy: 0.8650\n",
      "Epoch 173/200\n",
      "117/117 [==============================] - 0s 4ms/step - loss: 0.3019 - accuracy: 0.8931 - val_loss: 0.3393 - val_accuracy: 0.8750\n",
      "Epoch 174/200\n",
      "117/117 [==============================] - 0s 4ms/step - loss: 0.3010 - accuracy: 0.8934 - val_loss: 0.3332 - val_accuracy: 0.8683\n",
      "Epoch 175/200\n",
      "117/117 [==============================] - 0s 4ms/step - loss: 0.3011 - accuracy: 0.8924 - val_loss: 0.3329 - val_accuracy: 0.8633\n",
      "Epoch 176/200\n",
      "117/117 [==============================] - 0s 4ms/step - loss: 0.2965 - accuracy: 0.8938 - val_loss: 0.3360 - val_accuracy: 0.8750\n",
      "Epoch 177/200\n",
      "117/117 [==============================] - 0s 4ms/step - loss: 0.2950 - accuracy: 0.8956 - val_loss: 0.3331 - val_accuracy: 0.8633\n",
      "Epoch 178/200\n",
      "117/117 [==============================] - 0s 4ms/step - loss: 0.2978 - accuracy: 0.8966 - val_loss: 0.3303 - val_accuracy: 0.8650\n",
      "Epoch 179/200\n",
      "117/117 [==============================] - 0s 4ms/step - loss: 0.2971 - accuracy: 0.8947 - val_loss: 0.3331 - val_accuracy: 0.8633\n",
      "Epoch 180/200\n",
      "117/117 [==============================] - 0s 4ms/step - loss: 0.2925 - accuracy: 0.8951 - val_loss: 0.3335 - val_accuracy: 0.8733\n",
      "Epoch 181/200\n",
      "117/117 [==============================] - 0s 4ms/step - loss: 0.3003 - accuracy: 0.8941 - val_loss: 0.3300 - val_accuracy: 0.8733\n",
      "Epoch 182/200\n",
      "117/117 [==============================] - 0s 4ms/step - loss: 0.2887 - accuracy: 0.8976 - val_loss: 0.3376 - val_accuracy: 0.8617\n",
      "Epoch 183/200\n",
      "117/117 [==============================] - 0s 4ms/step - loss: 0.2949 - accuracy: 0.8950 - val_loss: 0.3351 - val_accuracy: 0.8733\n",
      "Epoch 184/200\n",
      "117/117 [==============================] - 0s 4ms/step - loss: 0.2925 - accuracy: 0.8957 - val_loss: 0.3312 - val_accuracy: 0.8700\n",
      "Epoch 185/200\n",
      "117/117 [==============================] - 0s 4ms/step - loss: 0.2949 - accuracy: 0.8964 - val_loss: 0.3287 - val_accuracy: 0.8650\n",
      "Epoch 186/200\n",
      "117/117 [==============================] - 0s 4ms/step - loss: 0.2964 - accuracy: 0.8951 - val_loss: 0.3273 - val_accuracy: 0.8683\n",
      "Epoch 187/200\n",
      "117/117 [==============================] - 0s 4ms/step - loss: 0.2845 - accuracy: 0.8988 - val_loss: 0.3314 - val_accuracy: 0.8733\n",
      "Epoch 188/200\n",
      "117/117 [==============================] - 0s 4ms/step - loss: 0.2881 - accuracy: 0.8965 - val_loss: 0.3323 - val_accuracy: 0.8683\n",
      "Epoch 189/200\n",
      "117/117 [==============================] - 0s 3ms/step - loss: 0.2948 - accuracy: 0.8937 - val_loss: 0.3322 - val_accuracy: 0.8717\n",
      "Epoch 190/200\n",
      "117/117 [==============================] - 0s 3ms/step - loss: 0.2894 - accuracy: 0.8965 - val_loss: 0.3256 - val_accuracy: 0.8667\n",
      "Epoch 191/200\n",
      "117/117 [==============================] - 0s 3ms/step - loss: 0.2882 - accuracy: 0.8978 - val_loss: 0.3316 - val_accuracy: 0.8700\n",
      "Epoch 192/200\n",
      "117/117 [==============================] - 0s 3ms/step - loss: 0.2901 - accuracy: 0.8951 - val_loss: 0.3277 - val_accuracy: 0.8667\n",
      "Epoch 193/200\n",
      "117/117 [==============================] - 0s 3ms/step - loss: 0.2883 - accuracy: 0.8979 - val_loss: 0.3248 - val_accuracy: 0.8633\n",
      "Epoch 194/200\n",
      "117/117 [==============================] - 0s 3ms/step - loss: 0.2914 - accuracy: 0.8955 - val_loss: 0.3253 - val_accuracy: 0.8633\n",
      "Epoch 195/200\n",
      "117/117 [==============================] - 0s 3ms/step - loss: 0.2870 - accuracy: 0.8975 - val_loss: 0.3298 - val_accuracy: 0.8683\n",
      "Epoch 196/200\n",
      "117/117 [==============================] - 0s 3ms/step - loss: 0.2883 - accuracy: 0.8967 - val_loss: 0.3292 - val_accuracy: 0.8700\n",
      "Epoch 197/200\n",
      "117/117 [==============================] - 0s 3ms/step - loss: 0.2901 - accuracy: 0.8977 - val_loss: 0.3256 - val_accuracy: 0.8717\n",
      "Epoch 198/200\n",
      "117/117 [==============================] - 0s 3ms/step - loss: 0.2901 - accuracy: 0.8960 - val_loss: 0.3283 - val_accuracy: 0.8667\n",
      "Epoch 199/200\n",
      "117/117 [==============================] - 0s 3ms/step - loss: 0.2895 - accuracy: 0.8954 - val_loss: 0.3248 - val_accuracy: 0.8733\n",
      "Epoch 200/200\n",
      "117/117 [==============================] - 0s 3ms/step - loss: 0.2848 - accuracy: 0.8991 - val_loss: 0.3330 - val_accuracy: 0.8750\n"
     ]
    }
   ],
   "source": [
    "#overfitting 확인\n",
    "\n",
    "X_train, X_valid, y_train, y_valid = train_test_split(train_images, train_labels, test_size=0.01, random_state=101)\n",
    "X_train = X_train / 255.0\n",
    "X_valid = X_valid / 255.0\n",
    "\n",
    "#Dense layer만으로 만들어 낸 classification 모델입니다.\n",
    "model = keras.Sequential([\n",
    "    keras.layers.Flatten(input_shape=(28, 28)),\n",
    "    keras.layers.Dense(256, activation='relu'),\n",
    "    keras.layers.Dense(10, activation='softmax')\n",
    "])\n",
    "\n",
    "model.compile(optimizer='adam',loss='sparse_categorical_crossentropy',\n",
    "              metrics=['accuracy'])\n",
    "\n",
    "history= model.fit(X_train, y_train, epochs=200, batch_size=512, validation_data=(X_valid, y_valid))"
   ]
  },
  {
   "cell_type": "markdown",
   "id": "miniature-christmas",
   "metadata": {},
   "source": [
    "- overfitting이 되는지 확인해보려면 train set과 validation set의 loss function을 그려보는 것이 가장 첫 번째 시도임.\n",
    "- overfitting이 나는 fully connected layer를 만들기 위해 위의 데이터를 trian:val = 99:1로 나눈 후 loss function  값을 그려볼 것."
   ]
  },
  {
   "cell_type": "code",
   "execution_count": 28,
   "id": "endless-gnome",
   "metadata": {},
   "outputs": [
    {
     "data": {
      "image/png": "[encoded data removed]",
      "text/plain": [
       "<Figure size 432x288 with 1 Axes>"
      ]
     },
     "metadata": {
      "needs_background": "light"
     },
     "output_type": "display_data"
    }
   ],
   "source": [
    "# loss 값을 plot 해보겠습니다.\n",
    "y_vloss = history.history['val_loss']\n",
    "y_loss = history.history['loss']\n",
    "x_len = np.arange(len(y_loss))\n",
    "\n",
    "plt.plot(x_len, y_vloss, marker='.', c='red', label=\"Validation-set Loss\")\n",
    "plt.plot(x_len, y_loss, marker='.', c='blue', label=\"Train-set Loss\")\n",
    "plt.legend(loc='upper right')\n",
    "plt.grid()\n",
    "plt.title('Loss graph without dropout layer') \n",
    "plt.ylim(0,1)\n",
    "plt.xlabel('epoch')\n",
    "plt.ylabel('loss')\n",
    "plt.show()"
   ]
  },
  {
   "cell_type": "code",
   "execution_count": 29,
   "id": "statewide-lighting",
   "metadata": {},
   "outputs": [
    {
     "data": {
      "image/png": "[encoded data removed]",
      "text/plain": [
       "<Figure size 432x288 with 1 Axes>"
      ]
     },
     "metadata": {
      "needs_background": "light"
     },
     "output_type": "display_data"
    }
   ],
   "source": [
    "# accuracy 값을 plot 해보겠습니다.\n",
    "y_vacc = history.history['val_accuracy']\n",
    "y_acc = history.history['accuracy']\n",
    "x_len = np.arange(len(y_acc))\n",
    "\n",
    "plt.plot(x_len, y_vacc, marker='.', c='red', label=\"Validation-set accuracy\")\n",
    "plt.plot(x_len, y_acc, marker='.', c='blue', label=\"Train-set accuracy\")\n",
    "plt.legend(loc='lower right')\n",
    "plt.grid()\n",
    "plt.ylim(0.5,1) \n",
    "plt.title('Accuracy graph without dropout layer') \n",
    "plt.xlabel('epoch')\n",
    "plt.ylabel('accuracy')\n",
    "plt.show()"
   ]
  },
  {
   "cell_type": "code",
   "execution_count": 30,
   "id": "small-initial",
   "metadata": {},
   "outputs": [
    {
     "name": "stdout",
     "output_type": "stream",
     "text": [
      "Epoch 1/200\n",
      "117/117 [==============================] - 1s 6ms/step - loss: 2.2136 - accuracy: 0.3236 - val_loss: 1.6969 - val_accuracy: 0.6367\n",
      "Epoch 2/200\n",
      "117/117 [==============================] - 1s 4ms/step - loss: 1.5837 - accuracy: 0.5491 - val_loss: 1.2335 - val_accuracy: 0.6467\n",
      "Epoch 3/200\n",
      "117/117 [==============================] - 0s 4ms/step - loss: 1.2221 - accuracy: 0.6026 - val_loss: 1.0228 - val_accuracy: 0.6983\n",
      "Epoch 4/200\n",
      "117/117 [==============================] - 0s 4ms/step - loss: 1.0366 - accuracy: 0.6558 - val_loss: 0.8899 - val_accuracy: 0.7383\n",
      "Epoch 5/200\n",
      "117/117 [==============================] - 0s 4ms/step - loss: 0.9248 - accuracy: 0.6874 - val_loss: 0.8022 - val_accuracy: 0.7633\n",
      "Epoch 6/200\n",
      "117/117 [==============================] - 0s 4ms/step - loss: 0.8450 - accuracy: 0.7099 - val_loss: 0.7398 - val_accuracy: 0.7617\n",
      "Epoch 7/200\n",
      "117/117 [==============================] - 0s 4ms/step - loss: 0.7913 - accuracy: 0.7241 - val_loss: 0.7038 - val_accuracy: 0.7783\n",
      "Epoch 8/200\n",
      "117/117 [==============================] - 0s 4ms/step - loss: 0.7547 - accuracy: 0.7332 - val_loss: 0.6701 - val_accuracy: 0.7750\n",
      "Epoch 9/200\n",
      "117/117 [==============================] - 0s 4ms/step - loss: 0.7250 - accuracy: 0.7420 - val_loss: 0.6446 - val_accuracy: 0.7833\n",
      "Epoch 10/200\n",
      "117/117 [==============================] - 0s 4ms/step - loss: 0.7029 - accuracy: 0.7477 - val_loss: 0.6295 - val_accuracy: 0.7883\n",
      "Epoch 11/200\n",
      "117/117 [==============================] - 0s 4ms/step - loss: 0.6724 - accuracy: 0.7580 - val_loss: 0.6085 - val_accuracy: 0.7900\n",
      "Epoch 12/200\n",
      "117/117 [==============================] - 0s 4ms/step - loss: 0.6624 - accuracy: 0.7628 - val_loss: 0.5944 - val_accuracy: 0.7917\n",
      "Epoch 13/200\n",
      "117/117 [==============================] - 0s 4ms/step - loss: 0.6357 - accuracy: 0.7715 - val_loss: 0.5805 - val_accuracy: 0.7933\n",
      "Epoch 14/200\n",
      "117/117 [==============================] - 0s 4ms/step - loss: 0.6252 - accuracy: 0.7780 - val_loss: 0.5714 - val_accuracy: 0.7983\n",
      "Epoch 15/200\n",
      "117/117 [==============================] - 0s 4ms/step - loss: 0.6066 - accuracy: 0.7838 - val_loss: 0.5571 - val_accuracy: 0.7967\n",
      "Epoch 16/200\n",
      "117/117 [==============================] - 0s 4ms/step - loss: 0.6017 - accuracy: 0.7843 - val_loss: 0.5490 - val_accuracy: 0.7950\n",
      "Epoch 17/200\n",
      "117/117 [==============================] - 0s 4ms/step - loss: 0.5872 - accuracy: 0.7900 - val_loss: 0.5407 - val_accuracy: 0.7967\n",
      "Epoch 18/200\n",
      "117/117 [==============================] - 0s 4ms/step - loss: 0.5792 - accuracy: 0.7940 - val_loss: 0.5314 - val_accuracy: 0.7950\n",
      "Epoch 19/200\n",
      "117/117 [==============================] - 0s 4ms/step - loss: 0.5694 - accuracy: 0.7980 - val_loss: 0.5266 - val_accuracy: 0.8083\n",
      "Epoch 20/200\n",
      "117/117 [==============================] - 0s 4ms/step - loss: 0.5621 - accuracy: 0.8001 - val_loss: 0.5180 - val_accuracy: 0.8083\n",
      "Epoch 21/200\n",
      "117/117 [==============================] - 0s 4ms/step - loss: 0.5501 - accuracy: 0.8048 - val_loss: 0.5118 - val_accuracy: 0.8033\n",
      "Epoch 22/200\n",
      "117/117 [==============================] - 0s 4ms/step - loss: 0.5528 - accuracy: 0.8030 - val_loss: 0.5064 - val_accuracy: 0.8117\n",
      "Epoch 23/200\n",
      "117/117 [==============================] - 0s 4ms/step - loss: 0.5403 - accuracy: 0.8082 - val_loss: 0.4980 - val_accuracy: 0.8133\n",
      "Epoch 24/200\n",
      "117/117 [==============================] - 0s 4ms/step - loss: 0.5408 - accuracy: 0.8084 - val_loss: 0.4986 - val_accuracy: 0.8117\n",
      "Epoch 25/200\n",
      "117/117 [==============================] - 0s 4ms/step - loss: 0.5227 - accuracy: 0.8133 - val_loss: 0.4897 - val_accuracy: 0.8217\n",
      "Epoch 26/200\n",
      "117/117 [==============================] - 0s 4ms/step - loss: 0.5183 - accuracy: 0.8170 - val_loss: 0.4836 - val_accuracy: 0.8217\n",
      "Epoch 27/200\n",
      "117/117 [==============================] - 0s 4ms/step - loss: 0.5163 - accuracy: 0.8185 - val_loss: 0.4829 - val_accuracy: 0.8200\n",
      "Epoch 28/200\n",
      "117/117 [==============================] - 0s 4ms/step - loss: 0.5167 - accuracy: 0.8168 - val_loss: 0.4785 - val_accuracy: 0.8217\n",
      "Epoch 29/200\n",
      "117/117 [==============================] - 0s 4ms/step - loss: 0.5038 - accuracy: 0.8213 - val_loss: 0.4738 - val_accuracy: 0.8200\n",
      "Epoch 30/200\n",
      "117/117 [==============================] - 0s 4ms/step - loss: 0.5063 - accuracy: 0.8207 - val_loss: 0.4705 - val_accuracy: 0.8233\n",
      "Epoch 31/200\n",
      "117/117 [==============================] - 0s 4ms/step - loss: 0.5029 - accuracy: 0.8233 - val_loss: 0.4640 - val_accuracy: 0.8233\n",
      "Epoch 32/200\n",
      "117/117 [==============================] - 0s 4ms/step - loss: 0.4994 - accuracy: 0.8230 - val_loss: 0.4614 - val_accuracy: 0.8267\n",
      "Epoch 33/200\n",
      "117/117 [==============================] - 0s 4ms/step - loss: 0.4893 - accuracy: 0.8282 - val_loss: 0.4593 - val_accuracy: 0.8283\n",
      "Epoch 34/200\n",
      "117/117 [==============================] - 0s 4ms/step - loss: 0.4883 - accuracy: 0.8279 - val_loss: 0.4567 - val_accuracy: 0.8283\n",
      "Epoch 35/200\n",
      "117/117 [==============================] - 0s 4ms/step - loss: 0.4863 - accuracy: 0.8295 - val_loss: 0.4557 - val_accuracy: 0.8250\n",
      "Epoch 36/200\n",
      "117/117 [==============================] - 0s 4ms/step - loss: 0.4809 - accuracy: 0.8302 - val_loss: 0.4523 - val_accuracy: 0.8267\n",
      "Epoch 37/200\n",
      "117/117 [==============================] - 0s 4ms/step - loss: 0.4769 - accuracy: 0.8304 - val_loss: 0.4472 - val_accuracy: 0.8300\n",
      "Epoch 38/200\n",
      "117/117 [==============================] - 0s 4ms/step - loss: 0.4784 - accuracy: 0.8334 - val_loss: 0.4438 - val_accuracy: 0.8283\n",
      "Epoch 39/200\n",
      "117/117 [==============================] - 0s 4ms/step - loss: 0.4614 - accuracy: 0.8377 - val_loss: 0.4425 - val_accuracy: 0.8283\n",
      "Epoch 40/200\n",
      "117/117 [==============================] - 0s 4ms/step - loss: 0.4658 - accuracy: 0.8381 - val_loss: 0.4412 - val_accuracy: 0.8250\n",
      "Epoch 41/200\n",
      "117/117 [==============================] - 0s 4ms/step - loss: 0.4659 - accuracy: 0.8360 - val_loss: 0.4389 - val_accuracy: 0.8333\n",
      "Epoch 42/200\n",
      "117/117 [==============================] - 0s 4ms/step - loss: 0.4635 - accuracy: 0.8343 - val_loss: 0.4347 - val_accuracy: 0.8300\n",
      "Epoch 43/200\n",
      "117/117 [==============================] - 0s 4ms/step - loss: 0.4619 - accuracy: 0.8388 - val_loss: 0.4336 - val_accuracy: 0.8317\n",
      "Epoch 44/200\n",
      "117/117 [==============================] - 0s 4ms/step - loss: 0.4595 - accuracy: 0.8365 - val_loss: 0.4296 - val_accuracy: 0.8317\n",
      "Epoch 45/200\n",
      "117/117 [==============================] - 0s 4ms/step - loss: 0.4611 - accuracy: 0.8369 - val_loss: 0.4288 - val_accuracy: 0.8300\n",
      "Epoch 46/200\n",
      "117/117 [==============================] - 0s 4ms/step - loss: 0.4511 - accuracy: 0.8414 - val_loss: 0.4261 - val_accuracy: 0.8333\n",
      "Epoch 47/200\n",
      "117/117 [==============================] - 0s 4ms/step - loss: 0.4538 - accuracy: 0.8402 - val_loss: 0.4288 - val_accuracy: 0.8300\n",
      "Epoch 48/200\n",
      "117/117 [==============================] - 0s 4ms/step - loss: 0.4528 - accuracy: 0.8404 - val_loss: 0.4204 - val_accuracy: 0.8300\n",
      "Epoch 49/200\n",
      "117/117 [==============================] - 0s 4ms/step - loss: 0.4412 - accuracy: 0.8444 - val_loss: 0.4210 - val_accuracy: 0.8383\n",
      "Epoch 50/200\n",
      "117/117 [==============================] - 0s 4ms/step - loss: 0.4470 - accuracy: 0.8406 - val_loss: 0.4191 - val_accuracy: 0.8367\n",
      "Epoch 51/200\n",
      "117/117 [==============================] - 0s 4ms/step - loss: 0.4407 - accuracy: 0.8450 - val_loss: 0.4175 - val_accuracy: 0.8333\n",
      "Epoch 52/200\n",
      "117/117 [==============================] - 0s 4ms/step - loss: 0.4344 - accuracy: 0.8465 - val_loss: 0.4135 - val_accuracy: 0.8333\n",
      "Epoch 53/200\n",
      "117/117 [==============================] - 0s 4ms/step - loss: 0.4386 - accuracy: 0.8480 - val_loss: 0.4163 - val_accuracy: 0.8383\n",
      "Epoch 54/200\n",
      "117/117 [==============================] - 0s 4ms/step - loss: 0.4304 - accuracy: 0.8482 - val_loss: 0.4132 - val_accuracy: 0.8400\n",
      "Epoch 55/200\n",
      "117/117 [==============================] - 0s 4ms/step - loss: 0.4279 - accuracy: 0.8499 - val_loss: 0.4109 - val_accuracy: 0.8350\n",
      "Epoch 56/200\n",
      "117/117 [==============================] - 0s 4ms/step - loss: 0.4358 - accuracy: 0.8476 - val_loss: 0.4078 - val_accuracy: 0.8367\n",
      "Epoch 57/200\n",
      "117/117 [==============================] - 0s 4ms/step - loss: 0.4286 - accuracy: 0.8508 - val_loss: 0.4093 - val_accuracy: 0.8350\n"
     ]
    },
    {
     "name": "stdout",
     "output_type": "stream",
     "text": [
      "Epoch 58/200\n",
      "117/117 [==============================] - 0s 4ms/step - loss: 0.4344 - accuracy: 0.8480 - val_loss: 0.4046 - val_accuracy: 0.8350\n",
      "Epoch 59/200\n",
      "117/117 [==============================] - 0s 4ms/step - loss: 0.4355 - accuracy: 0.8454 - val_loss: 0.4063 - val_accuracy: 0.8400\n",
      "Epoch 60/200\n",
      "117/117 [==============================] - 0s 4ms/step - loss: 0.4283 - accuracy: 0.8477 - val_loss: 0.4069 - val_accuracy: 0.8333\n",
      "Epoch 61/200\n",
      "117/117 [==============================] - 0s 4ms/step - loss: 0.4226 - accuracy: 0.8485 - val_loss: 0.4023 - val_accuracy: 0.8483\n",
      "Epoch 62/200\n",
      "117/117 [==============================] - 0s 4ms/step - loss: 0.4307 - accuracy: 0.8476 - val_loss: 0.4022 - val_accuracy: 0.8383\n",
      "Epoch 63/200\n",
      "117/117 [==============================] - 0s 4ms/step - loss: 0.4249 - accuracy: 0.8495 - val_loss: 0.3990 - val_accuracy: 0.8367\n",
      "Epoch 64/200\n",
      "117/117 [==============================] - 0s 4ms/step - loss: 0.4212 - accuracy: 0.8502 - val_loss: 0.3975 - val_accuracy: 0.8433\n",
      "Epoch 65/200\n",
      "117/117 [==============================] - 0s 4ms/step - loss: 0.4157 - accuracy: 0.8533 - val_loss: 0.3963 - val_accuracy: 0.8417\n",
      "Epoch 66/200\n",
      "117/117 [==============================] - 0s 4ms/step - loss: 0.4182 - accuracy: 0.8535 - val_loss: 0.3955 - val_accuracy: 0.8383\n",
      "Epoch 67/200\n",
      "117/117 [==============================] - 0s 4ms/step - loss: 0.4223 - accuracy: 0.8533 - val_loss: 0.3956 - val_accuracy: 0.8417\n",
      "Epoch 68/200\n",
      "117/117 [==============================] - 0s 4ms/step - loss: 0.4081 - accuracy: 0.8541 - val_loss: 0.3912 - val_accuracy: 0.8417\n",
      "Epoch 69/200\n",
      "117/117 [==============================] - 0s 4ms/step - loss: 0.4141 - accuracy: 0.8528 - val_loss: 0.3911 - val_accuracy: 0.8417\n",
      "Epoch 70/200\n",
      "117/117 [==============================] - 0s 4ms/step - loss: 0.4112 - accuracy: 0.8549 - val_loss: 0.3916 - val_accuracy: 0.8417\n",
      "Epoch 71/200\n",
      "117/117 [==============================] - 0s 4ms/step - loss: 0.4119 - accuracy: 0.8551 - val_loss: 0.3912 - val_accuracy: 0.8417\n",
      "Epoch 72/200\n",
      "117/117 [==============================] - 0s 4ms/step - loss: 0.4082 - accuracy: 0.8560 - val_loss: 0.3903 - val_accuracy: 0.8467\n",
      "Epoch 73/200\n",
      "117/117 [==============================] - 0s 4ms/step - loss: 0.4116 - accuracy: 0.8541 - val_loss: 0.3868 - val_accuracy: 0.8500\n",
      "Epoch 74/200\n",
      "117/117 [==============================] - 0s 4ms/step - loss: 0.4065 - accuracy: 0.8557 - val_loss: 0.3876 - val_accuracy: 0.8433\n",
      "Epoch 75/200\n",
      "117/117 [==============================] - 0s 4ms/step - loss: 0.4031 - accuracy: 0.8579 - val_loss: 0.3854 - val_accuracy: 0.8433\n",
      "Epoch 76/200\n",
      "117/117 [==============================] - 0s 4ms/step - loss: 0.4004 - accuracy: 0.8573 - val_loss: 0.3861 - val_accuracy: 0.8400\n",
      "Epoch 77/200\n",
      "117/117 [==============================] - 0s 4ms/step - loss: 0.4044 - accuracy: 0.8566 - val_loss: 0.3865 - val_accuracy: 0.8433\n",
      "Epoch 78/200\n",
      "117/117 [==============================] - 0s 4ms/step - loss: 0.3985 - accuracy: 0.8575 - val_loss: 0.3826 - val_accuracy: 0.8450\n",
      "Epoch 79/200\n",
      "117/117 [==============================] - 0s 4ms/step - loss: 0.4028 - accuracy: 0.8563 - val_loss: 0.3815 - val_accuracy: 0.8483\n",
      "Epoch 80/200\n",
      "117/117 [==============================] - 0s 4ms/step - loss: 0.3994 - accuracy: 0.8592 - val_loss: 0.3797 - val_accuracy: 0.8467\n",
      "Epoch 81/200\n",
      "117/117 [==============================] - 0s 4ms/step - loss: 0.3951 - accuracy: 0.8609 - val_loss: 0.3783 - val_accuracy: 0.8467\n",
      "Epoch 82/200\n",
      "117/117 [==============================] - 0s 4ms/step - loss: 0.3987 - accuracy: 0.8593 - val_loss: 0.3781 - val_accuracy: 0.8417\n",
      "Epoch 83/200\n",
      "117/117 [==============================] - 0s 4ms/step - loss: 0.4001 - accuracy: 0.8571 - val_loss: 0.3759 - val_accuracy: 0.8533\n",
      "Epoch 84/200\n",
      "117/117 [==============================] - 0s 4ms/step - loss: 0.3939 - accuracy: 0.8592 - val_loss: 0.3750 - val_accuracy: 0.8433\n",
      "Epoch 85/200\n",
      "117/117 [==============================] - 0s 4ms/step - loss: 0.3932 - accuracy: 0.8607 - val_loss: 0.3751 - val_accuracy: 0.8450\n",
      "Epoch 86/200\n",
      "117/117 [==============================] - 0s 4ms/step - loss: 0.3945 - accuracy: 0.8615 - val_loss: 0.3741 - val_accuracy: 0.8433\n",
      "Epoch 87/200\n",
      "117/117 [==============================] - 0s 4ms/step - loss: 0.3892 - accuracy: 0.8633 - val_loss: 0.3740 - val_accuracy: 0.8500\n",
      "Epoch 88/200\n",
      "117/117 [==============================] - 0s 4ms/step - loss: 0.3882 - accuracy: 0.8618 - val_loss: 0.3755 - val_accuracy: 0.8467\n",
      "Epoch 89/200\n",
      "117/117 [==============================] - 0s 4ms/step - loss: 0.3896 - accuracy: 0.8620 - val_loss: 0.3739 - val_accuracy: 0.8500\n",
      "Epoch 90/200\n",
      "117/117 [==============================] - 0s 4ms/step - loss: 0.3900 - accuracy: 0.8642 - val_loss: 0.3723 - val_accuracy: 0.8450\n",
      "Epoch 91/200\n",
      "117/117 [==============================] - 0s 4ms/step - loss: 0.3868 - accuracy: 0.8625 - val_loss: 0.3707 - val_accuracy: 0.8500\n",
      "Epoch 92/200\n",
      "117/117 [==============================] - 0s 4ms/step - loss: 0.3885 - accuracy: 0.8619 - val_loss: 0.3675 - val_accuracy: 0.8500\n",
      "Epoch 93/200\n",
      "117/117 [==============================] - 0s 4ms/step - loss: 0.3840 - accuracy: 0.8613 - val_loss: 0.3662 - val_accuracy: 0.8483\n",
      "Epoch 94/200\n",
      "117/117 [==============================] - 0s 4ms/step - loss: 0.3865 - accuracy: 0.8606 - val_loss: 0.3683 - val_accuracy: 0.8433\n",
      "Epoch 95/200\n",
      "117/117 [==============================] - 0s 4ms/step - loss: 0.3849 - accuracy: 0.8649 - val_loss: 0.3677 - val_accuracy: 0.8500\n",
      "Epoch 96/200\n",
      "117/117 [==============================] - 0s 4ms/step - loss: 0.3812 - accuracy: 0.8650 - val_loss: 0.3679 - val_accuracy: 0.8483\n",
      "Epoch 97/200\n",
      "117/117 [==============================] - 0s 4ms/step - loss: 0.3835 - accuracy: 0.8639 - val_loss: 0.3647 - val_accuracy: 0.8483\n",
      "Epoch 98/200\n",
      "117/117 [==============================] - 0s 4ms/step - loss: 0.3820 - accuracy: 0.8657 - val_loss: 0.3638 - val_accuracy: 0.8517\n",
      "Epoch 99/200\n",
      "117/117 [==============================] - 0s 4ms/step - loss: 0.3837 - accuracy: 0.8640 - val_loss: 0.3634 - val_accuracy: 0.8517\n",
      "Epoch 100/200\n",
      "117/117 [==============================] - 0s 4ms/step - loss: 0.3780 - accuracy: 0.8655 - val_loss: 0.3622 - val_accuracy: 0.8483\n",
      "Epoch 101/200\n",
      "117/117 [==============================] - 0s 4ms/step - loss: 0.3763 - accuracy: 0.8659 - val_loss: 0.3617 - val_accuracy: 0.8483\n",
      "Epoch 102/200\n",
      "117/117 [==============================] - 0s 4ms/step - loss: 0.3787 - accuracy: 0.8660 - val_loss: 0.3605 - val_accuracy: 0.8467\n",
      "Epoch 103/200\n",
      "117/117 [==============================] - 0s 4ms/step - loss: 0.3784 - accuracy: 0.8667 - val_loss: 0.3614 - val_accuracy: 0.8517\n",
      "Epoch 104/200\n",
      "117/117 [==============================] - 0s 4ms/step - loss: 0.3836 - accuracy: 0.8628 - val_loss: 0.3636 - val_accuracy: 0.8467\n",
      "Epoch 105/200\n",
      "117/117 [==============================] - 0s 4ms/step - loss: 0.3700 - accuracy: 0.8690 - val_loss: 0.3597 - val_accuracy: 0.8467\n",
      "Epoch 106/200\n",
      "117/117 [==============================] - 0s 4ms/step - loss: 0.3705 - accuracy: 0.8712 - val_loss: 0.3565 - val_accuracy: 0.8467\n",
      "Epoch 107/200\n",
      "117/117 [==============================] - 0s 4ms/step - loss: 0.3739 - accuracy: 0.8679 - val_loss: 0.3585 - val_accuracy: 0.8450\n",
      "Epoch 108/200\n",
      "117/117 [==============================] - 0s 4ms/step - loss: 0.3721 - accuracy: 0.8679 - val_loss: 0.3572 - val_accuracy: 0.8517\n",
      "Epoch 109/200\n",
      "117/117 [==============================] - 0s 4ms/step - loss: 0.3692 - accuracy: 0.8698 - val_loss: 0.3564 - val_accuracy: 0.8500\n",
      "Epoch 110/200\n",
      "117/117 [==============================] - 0s 4ms/step - loss: 0.3735 - accuracy: 0.8666 - val_loss: 0.3557 - val_accuracy: 0.8517\n",
      "Epoch 111/200\n",
      "117/117 [==============================] - 0s 4ms/step - loss: 0.3632 - accuracy: 0.8712 - val_loss: 0.3549 - val_accuracy: 0.8533\n",
      "Epoch 112/200\n",
      "117/117 [==============================] - 0s 4ms/step - loss: 0.3663 - accuracy: 0.8689 - val_loss: 0.3544 - val_accuracy: 0.8550\n",
      "Epoch 113/200\n",
      "117/117 [==============================] - 0s 4ms/step - loss: 0.3708 - accuracy: 0.8696 - val_loss: 0.3542 - val_accuracy: 0.8500\n",
      "Epoch 114/200\n",
      "117/117 [==============================] - 0s 4ms/step - loss: 0.3581 - accuracy: 0.8735 - val_loss: 0.3499 - val_accuracy: 0.8550\n"
     ]
    },
    {
     "name": "stdout",
     "output_type": "stream",
     "text": [
      "Epoch 115/200\n",
      "117/117 [==============================] - 0s 4ms/step - loss: 0.3690 - accuracy: 0.8703 - val_loss: 0.3502 - val_accuracy: 0.8567\n",
      "Epoch 116/200\n",
      "117/117 [==============================] - 0s 4ms/step - loss: 0.3712 - accuracy: 0.8697 - val_loss: 0.3494 - val_accuracy: 0.8583\n",
      "Epoch 117/200\n",
      "117/117 [==============================] - 0s 4ms/step - loss: 0.3693 - accuracy: 0.8710 - val_loss: 0.3499 - val_accuracy: 0.8483\n",
      "Epoch 118/200\n",
      "117/117 [==============================] - 0s 4ms/step - loss: 0.3653 - accuracy: 0.8712 - val_loss: 0.3505 - val_accuracy: 0.8550\n",
      "Epoch 119/200\n",
      "117/117 [==============================] - 0s 4ms/step - loss: 0.3649 - accuracy: 0.8709 - val_loss: 0.3538 - val_accuracy: 0.8550\n",
      "Epoch 120/200\n",
      "117/117 [==============================] - 0s 4ms/step - loss: 0.3652 - accuracy: 0.8710 - val_loss: 0.3515 - val_accuracy: 0.8550\n",
      "Epoch 121/200\n",
      "117/117 [==============================] - 0s 4ms/step - loss: 0.3599 - accuracy: 0.8743 - val_loss: 0.3509 - val_accuracy: 0.8550\n",
      "Epoch 122/200\n",
      "117/117 [==============================] - 0s 4ms/step - loss: 0.3576 - accuracy: 0.8723 - val_loss: 0.3510 - val_accuracy: 0.8483\n",
      "Epoch 123/200\n",
      "117/117 [==============================] - 0s 4ms/step - loss: 0.3626 - accuracy: 0.8696 - val_loss: 0.3471 - val_accuracy: 0.8517\n",
      "Epoch 124/200\n",
      "117/117 [==============================] - 0s 4ms/step - loss: 0.3611 - accuracy: 0.8736 - val_loss: 0.3466 - val_accuracy: 0.8550\n",
      "Epoch 125/200\n",
      "117/117 [==============================] - 0s 4ms/step - loss: 0.3639 - accuracy: 0.8710 - val_loss: 0.3481 - val_accuracy: 0.8567\n",
      "Epoch 126/200\n",
      "117/117 [==============================] - 0s 4ms/step - loss: 0.3630 - accuracy: 0.8725 - val_loss: 0.3444 - val_accuracy: 0.8550\n",
      "Epoch 127/200\n",
      "117/117 [==============================] - 0s 4ms/step - loss: 0.3621 - accuracy: 0.8696 - val_loss: 0.3465 - val_accuracy: 0.8550\n",
      "Epoch 128/200\n",
      "117/117 [==============================] - 0s 4ms/step - loss: 0.3607 - accuracy: 0.8718 - val_loss: 0.3432 - val_accuracy: 0.8517\n",
      "Epoch 129/200\n",
      "117/117 [==============================] - 0s 4ms/step - loss: 0.3561 - accuracy: 0.8739 - val_loss: 0.3458 - val_accuracy: 0.8550\n",
      "Epoch 130/200\n",
      "117/117 [==============================] - 0s 4ms/step - loss: 0.3608 - accuracy: 0.8722 - val_loss: 0.3442 - val_accuracy: 0.8567\n",
      "Epoch 131/200\n",
      "117/117 [==============================] - 0s 4ms/step - loss: 0.3537 - accuracy: 0.8744 - val_loss: 0.3456 - val_accuracy: 0.8533\n",
      "Epoch 132/200\n",
      "117/117 [==============================] - 0s 4ms/step - loss: 0.3537 - accuracy: 0.8748 - val_loss: 0.3432 - val_accuracy: 0.8550\n",
      "Epoch 133/200\n",
      "117/117 [==============================] - 0s 4ms/step - loss: 0.3528 - accuracy: 0.8740 - val_loss: 0.3429 - val_accuracy: 0.8550\n",
      "Epoch 134/200\n",
      "117/117 [==============================] - 0s 4ms/step - loss: 0.3543 - accuracy: 0.8744 - val_loss: 0.3435 - val_accuracy: 0.8550\n",
      "Epoch 135/200\n",
      "117/117 [==============================] - 0s 4ms/step - loss: 0.3546 - accuracy: 0.8745 - val_loss: 0.3426 - val_accuracy: 0.8567\n",
      "Epoch 136/200\n",
      "117/117 [==============================] - 0s 4ms/step - loss: 0.3534 - accuracy: 0.8730 - val_loss: 0.3459 - val_accuracy: 0.8550\n",
      "Epoch 137/200\n",
      "117/117 [==============================] - 0s 4ms/step - loss: 0.3572 - accuracy: 0.8727 - val_loss: 0.3389 - val_accuracy: 0.8567\n",
      "Epoch 138/200\n",
      "117/117 [==============================] - 0s 4ms/step - loss: 0.3529 - accuracy: 0.8739 - val_loss: 0.3387 - val_accuracy: 0.8583\n",
      "Epoch 139/200\n",
      "117/117 [==============================] - 0s 4ms/step - loss: 0.3491 - accuracy: 0.8744 - val_loss: 0.3434 - val_accuracy: 0.8583\n",
      "Epoch 140/200\n",
      "117/117 [==============================] - 0s 4ms/step - loss: 0.3502 - accuracy: 0.8745 - val_loss: 0.3416 - val_accuracy: 0.8583\n",
      "Epoch 141/200\n",
      "117/117 [==============================] - 0s 4ms/step - loss: 0.3526 - accuracy: 0.8745 - val_loss: 0.3388 - val_accuracy: 0.8550\n",
      "Epoch 142/200\n",
      "117/117 [==============================] - 0s 4ms/step - loss: 0.3497 - accuracy: 0.8752 - val_loss: 0.3361 - val_accuracy: 0.8600\n",
      "Epoch 143/200\n",
      "117/117 [==============================] - 0s 4ms/step - loss: 0.3479 - accuracy: 0.8764 - val_loss: 0.3340 - val_accuracy: 0.8617\n",
      "Epoch 144/200\n",
      "117/117 [==============================] - 0s 4ms/step - loss: 0.3441 - accuracy: 0.8759 - val_loss: 0.3397 - val_accuracy: 0.8550\n",
      "Epoch 145/200\n",
      "117/117 [==============================] - 0s 4ms/step - loss: 0.3442 - accuracy: 0.8787 - val_loss: 0.3385 - val_accuracy: 0.8567\n",
      "Epoch 146/200\n",
      "117/117 [==============================] - 0s 3ms/step - loss: 0.3471 - accuracy: 0.8772 - val_loss: 0.3352 - val_accuracy: 0.8583\n",
      "Epoch 147/200\n",
      "117/117 [==============================] - 0s 3ms/step - loss: 0.3429 - accuracy: 0.8789 - val_loss: 0.3350 - val_accuracy: 0.8600\n",
      "Epoch 148/200\n",
      "117/117 [==============================] - 0s 3ms/step - loss: 0.3495 - accuracy: 0.8747 - val_loss: 0.3360 - val_accuracy: 0.8600\n",
      "Epoch 149/200\n",
      "117/117 [==============================] - 0s 3ms/step - loss: 0.3446 - accuracy: 0.8772 - val_loss: 0.3362 - val_accuracy: 0.8550\n",
      "Epoch 150/200\n",
      "117/117 [==============================] - 0s 3ms/step - loss: 0.3498 - accuracy: 0.8745 - val_loss: 0.3325 - val_accuracy: 0.8600\n",
      "Epoch 151/200\n",
      "117/117 [==============================] - 0s 3ms/step - loss: 0.3491 - accuracy: 0.8776 - val_loss: 0.3368 - val_accuracy: 0.8583\n",
      "Epoch 152/200\n",
      "117/117 [==============================] - 0s 3ms/step - loss: 0.3437 - accuracy: 0.8762 - val_loss: 0.3321 - val_accuracy: 0.8633\n",
      "Epoch 153/200\n",
      "117/117 [==============================] - 0s 4ms/step - loss: 0.3357 - accuracy: 0.8817 - val_loss: 0.3340 - val_accuracy: 0.8617\n",
      "Epoch 154/200\n",
      "117/117 [==============================] - 0s 4ms/step - loss: 0.3428 - accuracy: 0.8777 - val_loss: 0.3341 - val_accuracy: 0.8617\n",
      "Epoch 155/200\n",
      "117/117 [==============================] - 0s 4ms/step - loss: 0.3405 - accuracy: 0.8794 - val_loss: 0.3299 - val_accuracy: 0.8683\n",
      "Epoch 156/200\n",
      "117/117 [==============================] - 0s 4ms/step - loss: 0.3442 - accuracy: 0.8772 - val_loss: 0.3345 - val_accuracy: 0.8567\n",
      "Epoch 157/200\n",
      "117/117 [==============================] - 0s 4ms/step - loss: 0.3378 - accuracy: 0.8818 - val_loss: 0.3291 - val_accuracy: 0.8567\n",
      "Epoch 158/200\n",
      "117/117 [==============================] - 0s 4ms/step - loss: 0.3422 - accuracy: 0.8782 - val_loss: 0.3291 - val_accuracy: 0.8650\n",
      "Epoch 159/200\n",
      "117/117 [==============================] - 0s 4ms/step - loss: 0.3446 - accuracy: 0.8776 - val_loss: 0.3283 - val_accuracy: 0.8567\n",
      "Epoch 160/200\n",
      "117/117 [==============================] - 0s 4ms/step - loss: 0.3401 - accuracy: 0.8790 - val_loss: 0.3301 - val_accuracy: 0.8633\n",
      "Epoch 161/200\n",
      "117/117 [==============================] - 0s 4ms/step - loss: 0.3380 - accuracy: 0.8790 - val_loss: 0.3299 - val_accuracy: 0.8567\n",
      "Epoch 162/200\n",
      "117/117 [==============================] - 0s 4ms/step - loss: 0.3397 - accuracy: 0.8797 - val_loss: 0.3276 - val_accuracy: 0.8600\n",
      "Epoch 163/200\n",
      "117/117 [==============================] - 0s 4ms/step - loss: 0.3445 - accuracy: 0.8775 - val_loss: 0.3277 - val_accuracy: 0.8600\n",
      "Epoch 164/200\n",
      "117/117 [==============================] - 0s 4ms/step - loss: 0.3356 - accuracy: 0.8819 - val_loss: 0.3269 - val_accuracy: 0.8600\n",
      "Epoch 165/200\n",
      "117/117 [==============================] - 0s 4ms/step - loss: 0.3439 - accuracy: 0.8784 - val_loss: 0.3255 - val_accuracy: 0.8650\n",
      "Epoch 166/200\n",
      "117/117 [==============================] - 0s 4ms/step - loss: 0.3384 - accuracy: 0.8813 - val_loss: 0.3267 - val_accuracy: 0.8583\n",
      "Epoch 167/200\n",
      "117/117 [==============================] - 0s 4ms/step - loss: 0.3398 - accuracy: 0.8802 - val_loss: 0.3255 - val_accuracy: 0.8667\n",
      "Epoch 168/200\n",
      "117/117 [==============================] - 0s 4ms/step - loss: 0.3328 - accuracy: 0.8820 - val_loss: 0.3287 - val_accuracy: 0.8583\n",
      "Epoch 169/200\n",
      "117/117 [==============================] - 0s 4ms/step - loss: 0.3337 - accuracy: 0.8802 - val_loss: 0.3242 - val_accuracy: 0.8683\n",
      "Epoch 170/200\n",
      "117/117 [==============================] - 0s 4ms/step - loss: 0.3292 - accuracy: 0.8836 - val_loss: 0.3265 - val_accuracy: 0.8667\n",
      "Epoch 171/200\n"
     ]
    },
    {
     "name": "stdout",
     "output_type": "stream",
     "text": [
      "117/117 [==============================] - 0s 4ms/step - loss: 0.3394 - accuracy: 0.8815 - val_loss: 0.3265 - val_accuracy: 0.8617\n",
      "Epoch 172/200\n",
      "117/117 [==============================] - 0s 4ms/step - loss: 0.3391 - accuracy: 0.8788 - val_loss: 0.3313 - val_accuracy: 0.8567\n",
      "Epoch 173/200\n",
      "117/117 [==============================] - 0s 4ms/step - loss: 0.3477 - accuracy: 0.8780 - val_loss: 0.3261 - val_accuracy: 0.8700\n",
      "Epoch 174/200\n",
      "117/117 [==============================] - 0s 4ms/step - loss: 0.3335 - accuracy: 0.8806 - val_loss: 0.3294 - val_accuracy: 0.8633\n",
      "Epoch 175/200\n",
      "117/117 [==============================] - 0s 4ms/step - loss: 0.3329 - accuracy: 0.8811 - val_loss: 0.3251 - val_accuracy: 0.8650\n",
      "Epoch 176/200\n",
      "117/117 [==============================] - 0s 4ms/step - loss: 0.3310 - accuracy: 0.8833 - val_loss: 0.3231 - val_accuracy: 0.8650\n",
      "Epoch 177/200\n",
      "117/117 [==============================] - 0s 4ms/step - loss: 0.3300 - accuracy: 0.8835 - val_loss: 0.3226 - val_accuracy: 0.8617\n",
      "Epoch 178/200\n",
      "117/117 [==============================] - 0s 4ms/step - loss: 0.3326 - accuracy: 0.8817 - val_loss: 0.3227 - val_accuracy: 0.8683\n",
      "Epoch 179/200\n",
      "117/117 [==============================] - 0s 4ms/step - loss: 0.3301 - accuracy: 0.8836 - val_loss: 0.3255 - val_accuracy: 0.8633\n",
      "Epoch 180/200\n",
      "117/117 [==============================] - 0s 4ms/step - loss: 0.3279 - accuracy: 0.8834 - val_loss: 0.3235 - val_accuracy: 0.8633\n",
      "Epoch 181/200\n",
      "117/117 [==============================] - 0s 4ms/step - loss: 0.3286 - accuracy: 0.8833 - val_loss: 0.3243 - val_accuracy: 0.8650\n",
      "Epoch 182/200\n",
      "117/117 [==============================] - 0s 4ms/step - loss: 0.3315 - accuracy: 0.8794 - val_loss: 0.3256 - val_accuracy: 0.8583\n",
      "Epoch 183/200\n",
      "117/117 [==============================] - 0s 4ms/step - loss: 0.3222 - accuracy: 0.8850 - val_loss: 0.3251 - val_accuracy: 0.8633\n",
      "Epoch 184/200\n",
      "117/117 [==============================] - 0s 4ms/step - loss: 0.3303 - accuracy: 0.8831 - val_loss: 0.3233 - val_accuracy: 0.8683\n",
      "Epoch 185/200\n",
      "117/117 [==============================] - 0s 4ms/step - loss: 0.3331 - accuracy: 0.8812 - val_loss: 0.3214 - val_accuracy: 0.8617\n",
      "Epoch 186/200\n",
      "117/117 [==============================] - 0s 4ms/step - loss: 0.3229 - accuracy: 0.8854 - val_loss: 0.3237 - val_accuracy: 0.8650\n",
      "Epoch 187/200\n",
      "117/117 [==============================] - 0s 4ms/step - loss: 0.3221 - accuracy: 0.8861 - val_loss: 0.3226 - val_accuracy: 0.8633\n",
      "Epoch 188/200\n",
      "117/117 [==============================] - 0s 4ms/step - loss: 0.3269 - accuracy: 0.8828 - val_loss: 0.3208 - val_accuracy: 0.8667\n",
      "Epoch 189/200\n",
      "117/117 [==============================] - 0s 4ms/step - loss: 0.3218 - accuracy: 0.8845 - val_loss: 0.3194 - val_accuracy: 0.8633\n",
      "Epoch 190/200\n",
      "117/117 [==============================] - 0s 4ms/step - loss: 0.3250 - accuracy: 0.8834 - val_loss: 0.3242 - val_accuracy: 0.8717\n",
      "Epoch 191/200\n",
      "117/117 [==============================] - 0s 4ms/step - loss: 0.3296 - accuracy: 0.8846 - val_loss: 0.3201 - val_accuracy: 0.8683\n",
      "Epoch 192/200\n",
      "117/117 [==============================] - 0s 4ms/step - loss: 0.3288 - accuracy: 0.8849 - val_loss: 0.3179 - val_accuracy: 0.8683\n",
      "Epoch 193/200\n",
      "117/117 [==============================] - 0s 4ms/step - loss: 0.3283 - accuracy: 0.8830 - val_loss: 0.3163 - val_accuracy: 0.8717\n",
      "Epoch 194/200\n",
      "117/117 [==============================] - 0s 4ms/step - loss: 0.3258 - accuracy: 0.8837 - val_loss: 0.3212 - val_accuracy: 0.8667\n",
      "Epoch 195/200\n",
      "117/117 [==============================] - 0s 4ms/step - loss: 0.3284 - accuracy: 0.8844 - val_loss: 0.3193 - val_accuracy: 0.8667\n",
      "Epoch 196/200\n",
      "117/117 [==============================] - 0s 4ms/step - loss: 0.3273 - accuracy: 0.8820 - val_loss: 0.3196 - val_accuracy: 0.8667\n",
      "Epoch 197/200\n",
      "117/117 [==============================] - 0s 4ms/step - loss: 0.3193 - accuracy: 0.8879 - val_loss: 0.3194 - val_accuracy: 0.8633\n",
      "Epoch 198/200\n",
      "117/117 [==============================] - 0s 4ms/step - loss: 0.3208 - accuracy: 0.8832 - val_loss: 0.3191 - val_accuracy: 0.8733\n",
      "Epoch 199/200\n",
      "117/117 [==============================] - 0s 4ms/step - loss: 0.3154 - accuracy: 0.8887 - val_loss: 0.3182 - val_accuracy: 0.8650\n",
      "Epoch 200/200\n",
      "117/117 [==============================] - 0s 4ms/step - loss: 0.3187 - accuracy: 0.8853 - val_loss: 0.3162 - val_accuracy: 0.8717\n"
     ]
    }
   ],
   "source": [
    "#오버피팅 환경은 동일, dorpoutlayer를 추가한 뒤 같은 실험 반복\n",
    "model = keras.Sequential([\n",
    "    keras.layers.Flatten(input_shape=(28, 28)),\n",
    "    keras.layers.Dense(256, activation='relu'),\n",
    "    # 여기에 dropout layer를 추가해보았습니다. 나머지 layer는 위의 실습과 같습니다. \n",
    "    keras.layers.Dropout(0.5),\n",
    "    keras.layers.Dense(10, activation='softmax')\n",
    "])\n",
    "\n",
    "model.compile(optimizer='adam',loss='sparse_categorical_crossentropy',\n",
    "              metrics=['accuracy'])\n",
    "\n",
    "history= model.fit(X_train, y_train, epochs=200, batch_size=512, validation_data=(X_valid, y_valid))"
   ]
  },
  {
   "cell_type": "code",
   "execution_count": 32,
   "id": "colored-proceeding",
   "metadata": {},
   "outputs": [
    {
     "data": {
      "image/png": "[encoded data removed]",
      "text/plain": [
       "<Figure size 432x288 with 1 Axes>"
      ]
     },
     "metadata": {
      "needs_background": "light"
     },
     "output_type": "display_data"
    }
   ],
   "source": [
    "# loss 값을 plot 해보겠습니다. \n",
    "y_vloss = history.history['val_loss']\n",
    "y_loss = history.history['loss']\n",
    "x_len = np.arange(len(y_loss))\n",
    "\n",
    "plt.plot(x_len, y_vloss, marker='.', c='red', label=\"Validation-set Loss\")\n",
    "plt.plot(x_len, y_loss, marker='.', c='blue', label=\"Train-set Loss\")\n",
    "plt.legend(loc='upper right')\n",
    "plt.grid()\n",
    "plt.ylim(0,1)\n",
    "plt.title('Loss graph with dropout layer') \n",
    "plt.xlabel('epoch')\n",
    "plt.ylabel('loss')\n",
    "plt.show()"
   ]
  },
  {
   "cell_type": "code",
   "execution_count": 33,
   "id": "regular-apple",
   "metadata": {},
   "outputs": [
    {
     "data": {
      "image/png": "[encoded data removed]",
      "text/plain": [
       "<Figure size 432x288 with 1 Axes>"
      ]
     },
     "metadata": {
      "needs_background": "light"
     },
     "output_type": "display_data"
    }
   ],
   "source": [
    "# accuracy 값을 plot 해보겠습니다. \n",
    "y_vacc = history.history['val_accuracy']\n",
    "y_acc = history.history['accuracy']\n",
    "x_len = np.arange(len(y_acc))\n",
    "\n",
    "plt.plot(x_len, y_vacc, marker='.', c='red', label=\"Validation-set accuracy\")\n",
    "plt.plot(x_len, y_acc, marker='.', c='blue', label=\"Train-set accuracy\")\n",
    "plt.legend(loc='lower right')\n",
    "plt.grid()\n",
    "plt.ylim(0.5,1) \n",
    "plt.title('Accuracy graph with dropout layer') \n",
    "plt.xlabel('epoch')\n",
    "plt.ylabel('accuracy')\n",
    "plt.show()"
   ]
  },
  {
   "cell_type": "markdown",
   "id": "international-courtesy",
   "metadata": {},
   "source": [
    "# Batch Normalization\n",
    "- gradient vanishing, explode 문제를 해결하는 방법.\n",
    "- normalize 부분에서 분모에 ϵ이 추가됨. \n",
    "- 이 부분으로 인해 normalize 과정에서 gradient가 사라지거나(vanishing), 폭등하는(explode) 것을 막을 수 있음.\n",
    "- ϵ 부분만 제외하면, 기존의 z-score로 normalize하는 과정과 같지만, 이 부분을 추가하는 것만으로도 오버피팅이나 학습이 잘되지 않는 것을 막을 수 있게 됨."
   ]
  },
  {
   "cell_type": "code",
   "execution_count": 34,
   "id": "placed-reducing",
   "metadata": {},
   "outputs": [
    {
     "name": "stdout",
     "output_type": "stream",
     "text": [
      "=3\n"
     ]
    }
   ],
   "source": [
    "import tensorflow as tf\n",
    "from tensorflow import keras\n",
    "import numpy as np\n",
    "import matplotlib.pyplot as plt\n",
    "\n",
    "fashion_mnist = keras.datasets.fashion_mnist\n",
    "print('=3')"
   ]
  },
  {
   "cell_type": "code",
   "execution_count": 35,
   "id": "opening-picking",
   "metadata": {},
   "outputs": [],
   "source": [
    "(train_images, train_labels), (test_images, test_labels) = fashion_mnist.load_data()\n",
    "class_names = ['T-shirt/top', 'Trouser', 'Pullover', 'Dress', 'Coat',\n",
    "               'Sandal', 'Shirt', 'Sneaker', 'Bag', 'Ankle boot']\n",
    "\n",
    "train_images = train_images / 255.0\n",
    "test_images = test_images / 255.0"
   ]
  },
  {
   "cell_type": "code",
   "execution_count": 36,
   "id": "coordinate-mounting",
   "metadata": {
    "scrolled": true
   },
   "outputs": [
    {
     "name": "stdout",
     "output_type": "stream",
     "text": [
      "Epoch 1/20\n",
      "21/21 [==============================] - 1s 23ms/step - loss: 1.5992 - accuracy: 0.4705 - val_loss: 0.7476 - val_accuracy: 0.7397\n",
      "Epoch 2/20\n",
      "21/21 [==============================] - 0s 10ms/step - loss: 0.6828 - accuracy: 0.7660 - val_loss: 0.5945 - val_accuracy: 0.8007\n",
      "Epoch 3/20\n",
      "21/21 [==============================] - 0s 11ms/step - loss: 0.5698 - accuracy: 0.8075 - val_loss: 0.5350 - val_accuracy: 0.8208\n",
      "Epoch 4/20\n",
      "21/21 [==============================] - 0s 11ms/step - loss: 0.5180 - accuracy: 0.8266 - val_loss: 0.5022 - val_accuracy: 0.8277\n",
      "Epoch 5/20\n",
      "21/21 [==============================] - 0s 11ms/step - loss: 0.4805 - accuracy: 0.8388 - val_loss: 0.4900 - val_accuracy: 0.8337\n",
      "Epoch 6/20\n",
      "21/21 [==============================] - 0s 11ms/step - loss: 0.4684 - accuracy: 0.8423 - val_loss: 0.4667 - val_accuracy: 0.8395\n",
      "Epoch 7/20\n",
      "21/21 [==============================] - 0s 11ms/step - loss: 0.4466 - accuracy: 0.8508 - val_loss: 0.4496 - val_accuracy: 0.8465\n",
      "Epoch 8/20\n",
      "21/21 [==============================] - 0s 11ms/step - loss: 0.4367 - accuracy: 0.8516 - val_loss: 0.4404 - val_accuracy: 0.8490\n",
      "Epoch 9/20\n",
      "21/21 [==============================] - 0s 11ms/step - loss: 0.4213 - accuracy: 0.8575 - val_loss: 0.4292 - val_accuracy: 0.8529\n",
      "Epoch 10/20\n",
      "21/21 [==============================] - 0s 10ms/step - loss: 0.4093 - accuracy: 0.8614 - val_loss: 0.4259 - val_accuracy: 0.8528\n",
      "Epoch 11/20\n",
      "21/21 [==============================] - 0s 10ms/step - loss: 0.4028 - accuracy: 0.8612 - val_loss: 0.4197 - val_accuracy: 0.8540\n",
      "Epoch 12/20\n",
      "21/21 [==============================] - 0s 10ms/step - loss: 0.3948 - accuracy: 0.8642 - val_loss: 0.4082 - val_accuracy: 0.8602\n",
      "Epoch 13/20\n",
      "21/21 [==============================] - 0s 9ms/step - loss: 0.3814 - accuracy: 0.8691 - val_loss: 0.4057 - val_accuracy: 0.8585\n",
      "Epoch 14/20\n",
      "21/21 [==============================] - 0s 8ms/step - loss: 0.3694 - accuracy: 0.8746 - val_loss: 0.3982 - val_accuracy: 0.8620\n",
      "Epoch 15/20\n",
      "21/21 [==============================] - 0s 9ms/step - loss: 0.3700 - accuracy: 0.8735 - val_loss: 0.3952 - val_accuracy: 0.8632\n",
      "Epoch 16/20\n",
      "21/21 [==============================] - 0s 8ms/step - loss: 0.3615 - accuracy: 0.8745 - val_loss: 0.3874 - val_accuracy: 0.8661\n",
      "Epoch 17/20\n",
      "21/21 [==============================] - 0s 8ms/step - loss: 0.3587 - accuracy: 0.8781 - val_loss: 0.3921 - val_accuracy: 0.8640\n",
      "Epoch 18/20\n",
      "21/21 [==============================] - 0s 8ms/step - loss: 0.3518 - accuracy: 0.8785 - val_loss: 0.3860 - val_accuracy: 0.8642\n",
      "Epoch 19/20\n",
      "21/21 [==============================] - 0s 8ms/step - loss: 0.3460 - accuracy: 0.8817 - val_loss: 0.3849 - val_accuracy: 0.8642\n",
      "Epoch 20/20\n",
      "21/21 [==============================] - 0s 8ms/step - loss: 0.3445 - accuracy: 0.8820 - val_loss: 0.3765 - val_accuracy: 0.8681\n"
     ]
    }
   ],
   "source": [
    "#이미지를 트레이닝하기 위해서 train / valid 를 7:3으로 분리하고, Dense layer 를 쌓아서 트레이닝\n",
    "\n",
    "from sklearn.model_selection import train_test_split\n",
    "\n",
    "X_train, X_valid, y_train, y_valid = train_test_split(train_images, train_labels, test_size=0.3, random_state=101)\n",
    "\n",
    "model = keras.Sequential([\n",
    "    keras.layers.Flatten(input_shape=(28, 28)),\n",
    "    keras.layers.Dense(128, activation='relu'),\n",
    "    keras.layers.Dense(10, activation='softmax')\n",
    "])\n",
    "\n",
    "model.compile(optimizer='adam',loss='sparse_categorical_crossentropy',\n",
    "              metrics=['accuracy'])\n",
    "\n",
    "history= model.fit(X_train, y_train, epochs=20, batch_size=2048, validation_data=(X_valid, y_valid))"
   ]
  },
  {
   "cell_type": "code",
   "execution_count": 37,
   "id": "worth-inside",
   "metadata": {},
   "outputs": [
    {
     "data": {
      "image/png": "[encoded data removed]",
      "text/plain": [
       "<Figure size 432x288 with 1 Axes>"
      ]
     },
     "metadata": {
      "needs_background": "light"
     },
     "output_type": "display_data"
    }
   ],
   "source": [
    "# loss 값을 plot 해보겠습니다. \n",
    "y_vloss = history.history['val_loss']\n",
    "y_loss = history.history['loss']\n",
    "x_len = np.arange(len(y_loss))\n",
    "\n",
    "plt.plot(x_len, y_vloss, marker='.', c='red', label=\"Validation-set Loss\")\n",
    "plt.plot(x_len, y_loss, marker='.', c='blue', label=\"Train-set Loss\")\n",
    "plt.legend(loc='upper right')\n",
    "plt.grid()\n",
    "plt.ylim(0,1)\n",
    "plt.title('Loss graph without batch normalization') \n",
    "plt.xlabel('epoch')\n",
    "plt.ylabel('loss')\n",
    "plt.show()"
   ]
  },
  {
   "cell_type": "code",
   "execution_count": 38,
   "id": "champion-wholesale",
   "metadata": {},
   "outputs": [
    {
     "data": {
      "image/png": "[encoded data removed]",
      "text/plain": [
       "<Figure size 432x288 with 1 Axes>"
      ]
     },
     "metadata": {
      "needs_background": "light"
     },
     "output_type": "display_data"
    }
   ],
   "source": [
    "# accuracy 값을 plot 해보겠습니다. \n",
    "y_vacc = history.history['val_accuracy']\n",
    "y_acc = history.history['accuracy']\n",
    "x_len = np.arange(len(y_acc))\n",
    "\n",
    "plt.plot(x_len, y_vacc, marker='.', c='red', label=\"Validation-set accuracy\")\n",
    "plt.plot(x_len, y_acc, marker='.', c='blue', label=\"Train-set accuracy\")\n",
    "plt.legend(loc='lower right')\n",
    "plt.grid()\n",
    "plt.ylim(0.5,1)\n",
    "plt.title('Accuracy graph without batch normalization') \n",
    "plt.xlabel('epoch')\n",
    "plt.ylabel('accuracy')\n",
    "plt.show()"
   ]
  },
  {
   "cell_type": "code",
   "execution_count": 39,
   "id": "satisfied-difference",
   "metadata": {
    "scrolled": true
   },
   "outputs": [
    {
     "name": "stdout",
     "output_type": "stream",
     "text": [
      "Epoch 1/20\n",
      "21/21 [==============================] - 1s 21ms/step - loss: 1.4954 - accuracy: 0.5220 - val_loss: 1.1024 - val_accuracy: 0.6153\n",
      "Epoch 2/20\n",
      "21/21 [==============================] - 0s 9ms/step - loss: 0.5625 - accuracy: 0.8094 - val_loss: 0.8639 - val_accuracy: 0.7370\n",
      "Epoch 3/20\n",
      "21/21 [==============================] - 0s 9ms/step - loss: 0.4685 - accuracy: 0.8395 - val_loss: 0.7621 - val_accuracy: 0.7789\n",
      "Epoch 4/20\n",
      "21/21 [==============================] - 0s 10ms/step - loss: 0.4210 - accuracy: 0.8543 - val_loss: 0.6793 - val_accuracy: 0.8169\n",
      "Epoch 5/20\n",
      "21/21 [==============================] - 0s 9ms/step - loss: 0.3905 - accuracy: 0.8649 - val_loss: 0.6495 - val_accuracy: 0.8265\n",
      "Epoch 6/20\n",
      "21/21 [==============================] - 0s 9ms/step - loss: 0.3628 - accuracy: 0.8746 - val_loss: 0.5936 - val_accuracy: 0.8433\n",
      "Epoch 7/20\n",
      "21/21 [==============================] - 0s 9ms/step - loss: 0.3489 - accuracy: 0.8777 - val_loss: 0.5620 - val_accuracy: 0.8454\n",
      "Epoch 8/20\n",
      "21/21 [==============================] - 0s 9ms/step - loss: 0.3416 - accuracy: 0.8814 - val_loss: 0.5188 - val_accuracy: 0.8559\n",
      "Epoch 9/20\n",
      "21/21 [==============================] - 0s 9ms/step - loss: 0.3246 - accuracy: 0.8852 - val_loss: 0.4823 - val_accuracy: 0.8625\n",
      "Epoch 10/20\n",
      "21/21 [==============================] - 0s 9ms/step - loss: 0.3168 - accuracy: 0.8882 - val_loss: 0.4629 - val_accuracy: 0.8656\n",
      "Epoch 11/20\n",
      "21/21 [==============================] - 0s 9ms/step - loss: 0.2993 - accuracy: 0.8940 - val_loss: 0.4403 - val_accuracy: 0.8681\n",
      "Epoch 12/20\n",
      "21/21 [==============================] - 0s 9ms/step - loss: 0.2871 - accuracy: 0.8977 - val_loss: 0.4332 - val_accuracy: 0.8660\n",
      "Epoch 13/20\n",
      "21/21 [==============================] - 0s 10ms/step - loss: 0.2785 - accuracy: 0.9017 - val_loss: 0.4133 - val_accuracy: 0.8653\n",
      "Epoch 14/20\n",
      "21/21 [==============================] - 0s 11ms/step - loss: 0.2756 - accuracy: 0.9024 - val_loss: 0.3934 - val_accuracy: 0.8704\n",
      "Epoch 15/20\n",
      "21/21 [==============================] - 0s 9ms/step - loss: 0.2636 - accuracy: 0.9068 - val_loss: 0.4032 - val_accuracy: 0.8593\n",
      "Epoch 16/20\n",
      "21/21 [==============================] - 0s 9ms/step - loss: 0.2616 - accuracy: 0.9070 - val_loss: 0.3929 - val_accuracy: 0.8619\n",
      "Epoch 17/20\n",
      "21/21 [==============================] - 0s 9ms/step - loss: 0.2490 - accuracy: 0.9107 - val_loss: 0.3813 - val_accuracy: 0.8717\n",
      "Epoch 18/20\n",
      "21/21 [==============================] - 0s 9ms/step - loss: 0.2479 - accuracy: 0.9128 - val_loss: 0.3560 - val_accuracy: 0.8784\n",
      "Epoch 19/20\n",
      "21/21 [==============================] - 0s 10ms/step - loss: 0.2320 - accuracy: 0.9182 - val_loss: 0.3505 - val_accuracy: 0.8799\n",
      "Epoch 20/20\n",
      "21/21 [==============================] - 0s 9ms/step - loss: 0.2270 - accuracy: 0.9199 - val_loss: 0.3389 - val_accuracy: 0.8835\n"
     ]
    }
   ],
   "source": [
    "#BatchNoramlization layer를 추가\n",
    "\n",
    "model = keras.Sequential([\n",
    "    keras.layers.Flatten(input_shape=(28, 28)),\n",
    "    keras.layers.Dense(128, activation='relu'),\n",
    "    #여기에 batchnormalization layer를 추가.\n",
    "    keras.layers.BatchNormalization(),\n",
    "    keras.layers.Dense(10, activation='softmax')\n",
    "])\n",
    "\n",
    "model.compile(optimizer='adam',loss='sparse_categorical_crossentropy',\n",
    "              metrics=['accuracy'])\n",
    "\n",
    "history= model.fit(X_train, y_train, epochs=20, batch_size=2048, validation_data=(X_valid, y_valid))"
   ]
  },
  {
   "cell_type": "code",
   "execution_count": 40,
   "id": "naughty-jerusalem",
   "metadata": {},
   "outputs": [
    {
     "data": {
      "image/png": "[encoded data removed]",
      "text/plain": [
       "<Figure size 432x288 with 1 Axes>"
      ]
     },
     "metadata": {
      "needs_background": "light"
     },
     "output_type": "display_data"
    }
   ],
   "source": [
    "# loss 값을 plot 해보겠습니다. \n",
    "y_vloss = history.history['val_loss']\n",
    "y_loss = history.history['loss']\n",
    "x_len = np.arange(len(y_loss))\n",
    "\n",
    "plt.plot(x_len, y_vloss, marker='.', c='red', label=\"Validation-set Loss\")\n",
    "plt.plot(x_len, y_loss, marker='.', c='blue', label=\"Train-set Loss\")\n",
    "plt.legend(loc='upper right')\n",
    "plt.grid()\n",
    "plt.ylim(0,1)\n",
    "plt.title('Loss graph with batch normalization') \n",
    "plt.xlabel('epoch')\n",
    "plt.ylabel('loss')\n",
    "plt.show()"
   ]
  },
  {
   "cell_type": "code",
   "execution_count": 41,
   "id": "primary-insertion",
   "metadata": {},
   "outputs": [
    {
     "data": {
      "image/png": "[encoded data removed]",
      "text/plain": [
       "<Figure size 432x288 with 1 Axes>"
      ]
     },
     "metadata": {
      "needs_background": "light"
     },
     "output_type": "display_data"
    }
   ],
   "source": [
    "# accuracy 값을 plot 해보겠습니다. \n",
    "y_vacc = history.history['val_accuracy']\n",
    "y_acc = history.history['accuracy']\n",
    "x_len = np.arange(len(y_acc))\n",
    "\n",
    "plt.plot(x_len, y_vacc, marker='.', c='red', label=\"Validation-set accuracy\")\n",
    "plt.plot(x_len, y_acc, marker='.', c='blue', label=\"Train-set accuracy\")\n",
    "plt.legend(loc='lower right')\n",
    "plt.grid()\n",
    "plt.ylim(0.5,1) \n",
    "plt.title('Accurcy graph with batch normalization') \n",
    "plt.xlabel('epoch')\n",
    "plt.ylabel('accuracy')\n",
    "plt.show()"
   ]
  },
  {
   "cell_type": "markdown",
   "id": "alpine-amino",
   "metadata": {},
   "source": [
    "- Batch Normalization을 추가하니 좀 더 빠르게 정확도 상승이 있음을 확인할 수 있음.\n",
    "- loss 함수의 감소도 더 빨라짐을 확인할 수 있음.\n",
    "- Batch Normalization으로 인해 이미지가 정규화되면서 좀 더 고른 분포를 가지기도 하며, ϵ 부분으로 인해 안정적인 학습이 가능해짐."
   ]
  },
  {
   "cell_type": "code",
   "execution_count": null,
   "id": "german-comedy",
   "metadata": {},
   "outputs": [],
   "source": []
  }
 ],
 "metadata": {
  "kernelspec": {
   "display_name": "Python 3",
   "language": "python",
   "name": "python3"
  },
  "language_info": {
   "codemirror_mode": {
    "name": "ipython",
    "version": 3
   },
   "file_extension": ".py",
   "mimetype": "text/x-python",
   "name": "python",
   "nbconvert_exporter": "python",
   "pygments_lexer": "ipython3",
   "version": "3.7.9"
  }
 },
 "nbformat": 4,
 "nbformat_minor": 5
}
