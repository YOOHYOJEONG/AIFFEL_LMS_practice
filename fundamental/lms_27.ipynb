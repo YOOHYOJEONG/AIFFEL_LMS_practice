{
 "cells": [
  {
   "cell_type": "markdown",
   "id": "quantitative-enzyme",
   "metadata": {},
   "source": [
    "# SQL(Structured Query Language)\n",
    "- 데이터베이스(DB)에서 데이터를 조회하고자 할 때 필요한 컴퓨터 언어.\n",
    "- DB를 특정 언어로 조회해서 가져오는데, 그때 사용하는 언어가 바로 SQL임.\n",
    "- 테이블을 삽입하거나 삭제, 갱신, 조회하는 등 본인이 원하는 형태로 데이터를 만들어 가져올 수 있음."
   ]
  },
  {
   "cell_type": "markdown",
   "id": "affected-wireless",
   "metadata": {},
   "source": [
    "## Python Database API(DB-API)\n",
    "- DB를 연결한다.\n",
    "- SQL문을 실행한다.\n",
    "- DB 연결을 닫는다.\n",
    "- 파이썬 DB-API는 기본적으로 PEP249 인터페이스를 따르도록 권장.\n",
    "- 각 DB에 상응하는 별도의 DB 모듈을 다운받아야함.\n",
    "- 파이썬은 MySQL, PostgreSQL, MSSQL, Sqlite, Oracle, Sybase, informix, mSQL 등 대표적인 DB를 모두 Python DB-API를 통해 지원함."
   ]
  },
  {
   "cell_type": "markdown",
   "id": "connected-riverside",
   "metadata": {},
   "source": [
    "## SQLite\n",
    "- 서버의 필요 없이 DB의 파일에 기초하여 DB 처리를 구현한 임베디드 SQL DB 엔진.\n",
    "- 파이썬과 DB는 sqlite3라는 전화 중계기를 이용해 대화를 함.\n",
    "- sqlite3 모듈은 파이썬 표준 라이브러리로 SQLite에 대한 인터페이스를 기본적으로 제공함."
   ]
  },
  {
   "cell_type": "code",
   "execution_count": 1,
   "id": "advance-handy",
   "metadata": {},
   "outputs": [
    {
     "name": "stdout",
     "output_type": "stream",
     "text": [
      "뿅💛\n"
     ]
    }
   ],
   "source": [
    "import sqlite3\n",
    "print(\"뿅💛\")"
   ]
  },
  {
   "cell_type": "code",
   "execution_count": 2,
   "id": "nonprofit-sellers",
   "metadata": {},
   "outputs": [
    {
     "name": "stdout",
     "output_type": "stream",
     "text": [
      "<sqlite3.Connection object at 0x7fb772258490>\n"
     ]
    }
   ],
   "source": [
    "#conn에 DB 이름을 정하여 입력.\n",
    "#[이름].[확장자명]의 형태로 저장.\n",
    "\n",
    "import os\n",
    "db_path = os.getenv('HOME')+'/mydb.db'\n",
    "\n",
    "#mydb.db에 연결.\n",
    "conn = sqlite3.connect(db_path)  \n",
    "print(conn)"
   ]
  },
  {
   "cell_type": "markdown",
   "id": "given-merchant",
   "metadata": {},
   "source": [
    "- conn 객체에는 SQL 연결과 관련된 셋팅이 포함되어 있음."
   ]
  },
  {
   "cell_type": "code",
   "execution_count": 3,
   "id": "junior-consensus",
   "metadata": {},
   "outputs": [
    {
     "name": "stdout",
     "output_type": "stream",
     "text": [
      "<sqlite3.Cursor object at 0x7fb7721d3730>\n"
     ]
    }
   ],
   "source": [
    "#Connect() 함수의 연결을 사용하는 새로운 Cursor 객체 생성.\n",
    "c = conn.cursor()\n",
    "print(c)"
   ]
  },
  {
   "cell_type": "markdown",
   "id": "critical-christmas",
   "metadata": {},
   "source": [
    "- Cursor는 SQL 질의(Query)를 수행하고 결과를 얻는데 사용하는 객체.\n",
    "- SELECT와 같이 데이터를 불러올 때는 SQL 질의 수행 결과에 접근하기 위한 Cursor가 반드시 필요함.\n",
    "- 때문에 습관적으로 conn.cursor()를 사용하는 것이 좋음."
   ]
  },
  {
   "cell_type": "code",
   "execution_count": 4,
   "id": "diagnostic-match",
   "metadata": {},
   "outputs": [
    {
     "name": "stdout",
     "output_type": "stream",
     "text": [
      "('20200701', 'TEST', 'AIFFEL', 1.0, 10000.0)\n"
     ]
    }
   ],
   "source": [
    "#질의의 실행은 execute()를 이용\n",
    "\n",
    "#stocks이라는 이름의 테이블을 하나 생성. 이미 생성되었다면 생략. \n",
    "c.execute(\"CREATE TABLE  IF NOT EXISTS  stocks (date text, trans text, symbol text, qty real, price real)\")\n",
    "\n",
    "#stocks 테이블에 데이터를 하나 인서트. \n",
    "c.execute(\"INSERT INTO stocks VALUES ('20200701', 'TEST', 'AIFFEL', 1, 10000)\")\n",
    "\n",
    "#방금 인서트한 데이터 조회.\n",
    "c.execute(\"SELECT * FROM stocks\")\n",
    "\n",
    "#조회된 내역을 커서를 통해 가져와 출력.\n",
    "print(c.fetchone())"
   ]
  },
  {
   "cell_type": "markdown",
   "id": "exclusive-camcorder",
   "metadata": {},
   "source": [
    "## commit\n",
    "- conn.commit()를 호출해야 DB가 실제로 업데이트 됨.\n",
    "- commit()을 하기 전에는 DB에 데이터가 업데이트된 것 같아 보여도 임시로만 바뀐 것이니 주의해야 함.\n",
    "- onnection을 통해 인서트 된 데이터는 conn.commit()를 호출하기 전까지는 그 connection 안에서만 유효함.\n",
    "- 때문에 원본 데이터에 실제로 적용하기 위해서는 commit() 명령어를 이용하면 됨.\n",
    "- select처럼 데이터를 가져오기만 하는 경우에는 commit() 필요 없음."
   ]
  },
  {
   "cell_type": "code",
   "execution_count": 5,
   "id": "consecutive-supervisor",
   "metadata": {},
   "outputs": [
    {
     "name": "stdout",
     "output_type": "stream",
     "text": [
      "뿅💛\n"
     ]
    }
   ],
   "source": [
    "conn.commit()   #commit()은 cursor의 메소드가 아니라 connection의 메소드임. \n",
    "print(\"뿅💛\")"
   ]
  },
  {
   "cell_type": "markdown",
   "id": "stuck-democrat",
   "metadata": {},
   "source": [
    "- commit()을 통해 데이터베이스에 데이터 변경이 실제적으로 반영되었음.\n",
    "- 이런 것을 데이터베이스에서는 트랜잭션(transaction) 관리라고 함."
   ]
  },
  {
   "cell_type": "code",
   "execution_count": 6,
   "id": "suited-machine",
   "metadata": {},
   "outputs": [
    {
     "name": "stdout",
     "output_type": "stream",
     "text": [
      "뿅💛\n"
     ]
    }
   ],
   "source": [
    "c.close()      #커서를 닫은 후\n",
    "conn.close()    #DB 연결을 닫음.\n",
    "print(\"뿅💛\")"
   ]
  },
  {
   "cell_type": "markdown",
   "id": "scenic-ebony",
   "metadata": {},
   "source": [
    "## DDL문으로 테이블 생성"
   ]
  },
  {
   "cell_type": "code",
   "execution_count": 7,
   "id": "fossil-raising",
   "metadata": {},
   "outputs": [
    {
     "name": "stdout",
     "output_type": "stream",
     "text": [
      "뿅💛\n"
     ]
    }
   ],
   "source": [
    "import sqlite3\n",
    "import os\n",
    "db_path = os.getenv('HOME')+'/mydb.db'\n",
    "\n",
    "conn = sqlite3.connect(db_path)\n",
    "c = conn.cursor()\n",
    "\n",
    "#- ! 재실행 시 테이블이 존재할 수 있으므로 아래처럼 해당 테이블들을 모두 지워줍니다.\n",
    "c.execute(\"DROP TABLE IF EXISTS 도서대출내역\")\n",
    "c.execute(\"DROP TABLE IF EXISTS 도서대출내역2\")\n",
    "c.execute(\"DROP TABLE IF EXISTS 대출내역\")\n",
    "c.execute(\"DROP TABLE IF EXISTS 도서명\")\n",
    "\n",
    "\n",
    "#----- 1st table : 도서대출내역 -----#\n",
    "c.execute(\"CREATE TABLE IF NOT EXISTS 도서대출내역 (ID varchar, 이름 varchar, 도서ID varchar, 대출일 varchar, 반납일 varchar)\")\n",
    "#- 생성(create)문 : 테이블명, 변수명, 변수타입을 지정\n",
    "\n",
    "data = [('101','문강태','aaa','2020-06-01','2020-06-05'),\n",
    "             ('101','문강태','ccc','2020-06-20','2020-06-25'),\n",
    "             ('102','고문영','bbb','2020-06-01',None),\n",
    "             ('102','고문영','ddd','2020-06-08',None),\n",
    "             ('103','문상태','ccc','2020-06-01','2020-06-05'),\n",
    "             ('104','강기둥',None,None,None)]\n",
    "#- 입력할 데이터를 그대로 입력 (변수명 순서 기준대로)\n",
    "\n",
    "c.executemany('INSERT INTO 도서대출내역 VALUES (?,?,?,?,?)', data)\n",
    "#- 입력할 데이터를 실제 테이블에 insert하기\n",
    "#-----------------------------------------------#\n",
    "\n",
    "\n",
    "#----- 2nd table : 도서대출내역2 -----#\n",
    "c.execute(\"CREATE TABLE IF NOT EXISTS 도서대출내역2 (ID varchar, 이름 varchar, 대출년월 varchar, 대출일수 varchar)\")\n",
    "\n",
    "data = [('101','문강태','2020-06','20일'),\n",
    "             ('102','고문영','2020-06','10일'),\n",
    "             ('103','문상태','2020-06','8일'),\n",
    "             ('104','강기둥','2020-06','3일')]\n",
    "c.executemany('INSERT INTO 도서대출내역2 VALUES (?,?,?,?)', data)\n",
    "#--------------------------------------------------#\n",
    "\n",
    "\n",
    "#----- 3rd table : 대출내역 -----#\n",
    "c.execute(\"CREATE TABLE IF NOT EXISTS 대출내역 (ID varchar, 이름 varchar, 도서ID varchar)\")\n",
    "\n",
    "data = [('101','문강태','aaa'),\n",
    "             ('102','고문영','bbb'),\n",
    "             ('102','고문영','fff'),\n",
    "             ('103','문상태','ccc'),\n",
    "             ('104','강기둥',None)]\n",
    "c.executemany('INSERT INTO 대출내역 VALUES (?,?,?)', data)\n",
    "#-----------------------------------------#\n",
    "\n",
    "\n",
    "#----- 4th table : 도서명 -----#\n",
    "#테이블이 존재하지 않으면 생성, 변수명과 변수 타입은 아래와 같이 설정\n",
    "c.execute(\"CREATE TABLE IF NOT EXISTS 도서명 (도서ID varchar, 도서명 varchar)\")    #테이블은 도서명 테이블이 되는 것\n",
    "\n",
    "#각 변수명에 맞게 데이터를 실제로 생성\n",
    "data = [('aaa','악몽을 먹고 자란 소년'),\n",
    "             ('bbb','좀비아이'),\n",
    "             ('ccc','공룡백과사전'),\n",
    "             ('ddd','빨간구두'),\n",
    "             ('eee','잠자는 숲속의 미녀')]\n",
    "\n",
    "#각 테이블의 변수에 위에서 입력한 데이터를 넣음\n",
    "c.executemany('INSERT INTO 도서명 VALUES (?,?)', data)    #executemany()는 한꺼번에 여러개의 데이터 처리를 가능하게 함.\n",
    "                                                          #입력해야 할 데이터를 list로 관리하고 있는 경우 매우 유용함.\n",
    "#--------------------------------------#\n",
    "\n",
    "conn.commit()\n",
    "conn.close()\n",
    "print(\"뿅💛\")"
   ]
  },
  {
   "cell_type": "code",
   "execution_count": 8,
   "id": "incorrect-birthday",
   "metadata": {},
   "outputs": [
    {
     "name": "stdout",
     "output_type": "stream",
     "text": [
      "('aaa', '악몽을 먹고 자란 소년')\n",
      "('bbb', '좀비아이')\n",
      "('ccc', '공룡백과사전')\n",
      "('ddd', '빨간구두')\n",
      "('eee', '잠자는 숲속의 미녀')\n"
     ]
    }
   ],
   "source": [
    "conn = sqlite3.connect(db_path)\n",
    "c = conn.cursor()\n",
    "\n",
    "for row in c.execute('SELECT * FROM 도서명'):\n",
    "  print(row)"
   ]
  },
  {
   "cell_type": "markdown",
   "id": "floral-moore",
   "metadata": {},
   "source": [
    "## 쿼리 기본 구조\n",
    "- SELECT ~ : 조회할 컬럼명을 선택\n",
    "- FROM ~ : 조회할 테이블명을 지정 (위치와 테이블명을 입력)\n",
    "- WHERE ~ : 질의할 때 필요한 조건을 설정\n",
    "- GROUP BY ~ : 특정 컬럼을 기준으로 그룹을 지어 출력\n",
    "- ORDER BY ~ : SELECT 다음에 오는 컬럼 중 정렬이 필요한 부분을 정렬 (기본 설정 : 오름차순)\n",
    "- LIMIT 숫자 : Display하고자 하는 행의 수를 설정"
   ]
  },
  {
   "cell_type": "code",
   "execution_count": 9,
   "id": "periodic-construction",
   "metadata": {},
   "outputs": [
    {
     "name": "stdout",
     "output_type": "stream",
     "text": [
      "('101', '문강태', 'aaa', '2020-06-01', '2020-06-05')\n",
      "('101', '문강태', 'ccc', '2020-06-20', '2020-06-25')\n",
      "('102', '고문영', 'bbb', '2020-06-01', None)\n",
      "('102', '고문영', 'ddd', '2020-06-08', None)\n",
      "('103', '문상태', 'ccc', '2020-06-01', '2020-06-05')\n",
      "('104', '강기둥', None, None, None)\n"
     ]
    }
   ],
   "source": [
    "#- 참고 : 실제 조회를 해보려면 아래처럼 쓰면 됩니다.\n",
    "#- c.execute() 괄호 안에 SQL문을 넣으면 됩니다.\n",
    "\n",
    "import os\n",
    "db_path = os.getenv('HOME')+'/mydb.db'\n",
    "conn = sqlite3.connect(db_path)  # mydb.db에 연결합니다.\n",
    "c = conn.cursor()\n",
    "\n",
    "for row in c.execute('SELECT * FROM 도서대출내역'):\n",
    "  print(row)\n",
    "\n",
    "#- ! 출력 시 'NULL' 대신 'None'으로 출력될 수 있으나 동일하게 이해하시면 됩니다."
   ]
  },
  {
   "cell_type": "code",
   "execution_count": 10,
   "id": "ideal-ticket",
   "metadata": {},
   "outputs": [
    {
     "name": "stdout",
     "output_type": "stream",
     "text": [
      "('101', '문강태', 'aaa', '2020-06-01', '2020-06-05')\n",
      "('101', '문강태', 'ccc', '2020-06-20', '2020-06-25')\n",
      "('102', '고문영', 'bbb', '2020-06-01', None)\n",
      "('102', '고문영', 'ddd', '2020-06-08', None)\n",
      "('103', '문상태', 'ccc', '2020-06-01', '2020-06-05')\n",
      "('104', '강기둥', None, None, None)\n"
     ]
    }
   ],
   "source": [
    "#전체 조회\n",
    "#별(*)을 입력하게 되면 '테이블 전체를 다 가져와라'라는 명령어가 됨.\n",
    "for row in c.execute('SELECT * FROM 도서대출내역'):\n",
    "  print(row) "
   ]
  },
  {
   "cell_type": "code",
   "execution_count": 11,
   "id": "sized-steel",
   "metadata": {},
   "outputs": [
    {
     "name": "stdout",
     "output_type": "stream",
     "text": [
      "('101',)\n",
      "('101',)\n",
      "('102',)\n",
      "('102',)\n",
      "('103',)\n",
      "('104',)\n"
     ]
    }
   ],
   "source": [
    "#특정 칼럼 지정\n",
    "for row in c.execute('SELECT ID FROM 도서대출내역'):\n",
    "  print(row)"
   ]
  },
  {
   "cell_type": "code",
   "execution_count": 12,
   "id": "downtown-charlotte",
   "metadata": {},
   "outputs": [
    {
     "name": "stdout",
     "output_type": "stream",
     "text": [
      "('101', '문강태', 'aaa', '2020-06-01', '2020-06-05')\n",
      "('101', '문강태', 'ccc', '2020-06-20', '2020-06-25')\n"
     ]
    }
   ],
   "source": [
    "#조건 입력\n",
    "#WHERE절 이후에는 특정 조건을 입력할 수 있음.\n",
    "for row in c.execute('SELECT * FROM 도서대출내역 WHERE 이름 = \"문강태\";'):\n",
    "  print(row)"
   ]
  },
  {
   "cell_type": "code",
   "execution_count": 13,
   "id": "lonely-phone",
   "metadata": {},
   "outputs": [
    {
     "name": "stdout",
     "output_type": "stream",
     "text": [
      "('강기둥',)\n",
      "('고문영',)\n",
      "('문강태',)\n",
      "('문상태',)\n"
     ]
    }
   ],
   "source": [
    "#GROUP BY로 중복 제거\n",
    "#GROUP BY는 이름 그대로 데이터를 그룹화시키는 역할.\n",
    "for row in c.execute('SELECT 이름 FROM 도서대출내역 GROUP BY 이름;'):\n",
    "  print(row)\n",
    "#'가나다라' 순으로 재정렬해서 출력함."
   ]
  },
  {
   "cell_type": "code",
   "execution_count": 14,
   "id": "printable-spray",
   "metadata": {},
   "outputs": [
    {
     "name": "stdout",
     "output_type": "stream",
     "text": [
      "('문강태',)\n",
      "('고문영',)\n",
      "('문상태',)\n",
      "('강기둥',)\n"
     ]
    }
   ],
   "source": [
    "#DISTINCT로 중복 제거\n",
    "#DISTINCT를 특정 컬럼 앞에 쓰면 해당 컬럼 값 중에서 중복되는 값들을 모두 제거한 후 출력\n",
    "for row in c.execute('SELECT DISTINCT 이름 FROM 도서대출내역;'):\n",
    "  print(row)"
   ]
  },
  {
   "cell_type": "code",
   "execution_count": 16,
   "id": "raised-aging",
   "metadata": {},
   "outputs": [
    {
     "name": "stdout",
     "output_type": "stream",
     "text": [
      "('101', '문강태', 'aaa', '2020-06-01', '2020-06-05')\n",
      "('101', '문강태', 'ccc', '2020-06-20', '2020-06-25')\n",
      "('102', '고문영', 'bbb', '2020-06-01', None)\n",
      "('102', '고문영', 'ddd', '2020-06-08', None)\n",
      "('103', '문상태', 'ccc', '2020-06-01', '2020-06-05')\n",
      "('104', '강기둥', None, None, None)\n"
     ]
    }
   ],
   "source": [
    "#ORDER BY로 정렬\n",
    "#ORDER BY 뒤에 특정 컬럼명을 적으면, 그 컬럼을 기준 값으로 정렬.\n",
    "for row in c.execute('SELECT * FROM 도서대출내역 ORDER BY ID ;'):   #전체 컬럼을 가져오되 ID를 기준으로 정렬하라는 의미가 됨.\n",
    "  print(row)"
   ]
  },
  {
   "cell_type": "markdown",
   "id": "polyphonic-logan",
   "metadata": {},
   "source": [
    "- ORDER BY 뒤에는 (ASC)가 생략되어 있음.\n",
    "- 오름차순이 기본 설정인 것.\n",
    "- 내림차순은 DESC."
   ]
  },
  {
   "cell_type": "code",
   "execution_count": 17,
   "id": "compound-mapping",
   "metadata": {},
   "outputs": [
    {
     "name": "stdout",
     "output_type": "stream",
     "text": [
      "('104', '강기둥', None, None, None)\n",
      "('103', '문상태', 'ccc', '2020-06-01', '2020-06-05')\n",
      "('102', '고문영', 'bbb', '2020-06-01', None)\n",
      "('102', '고문영', 'ddd', '2020-06-08', None)\n",
      "('101', '문강태', 'aaa', '2020-06-01', '2020-06-05')\n",
      "('101', '문강태', 'ccc', '2020-06-20', '2020-06-25')\n"
     ]
    }
   ],
   "source": [
    "for row in c.execute('SELECT * FROM 도서대출내역 ORDER BY ID DESC ;'):\n",
    "  print(row)"
   ]
  },
  {
   "cell_type": "code",
   "execution_count": 18,
   "id": "harmful-desperate",
   "metadata": {},
   "outputs": [
    {
     "name": "stdout",
     "output_type": "stream",
     "text": [
      "('101', '문강태', 'aaa', '2020-06-01', '2020-06-05')\n",
      "('101', '문강태', 'ccc', '2020-06-20', '2020-06-25')\n",
      "('102', '고문영', 'bbb', '2020-06-01', None)\n",
      "('102', '고문영', 'ddd', '2020-06-08', None)\n",
      "('103', '문상태', 'ccc', '2020-06-01', '2020-06-05')\n"
     ]
    }
   ],
   "source": [
    "#몇 개의 row만 조회\n",
    "#LIMIT 구문 뒤에 숫자를 적으면 그 숫자만큼의 행(row)만 출력됨.\n",
    "#주로 처음 테이블들을 조회할 때 그 테이블의 구조를 파악하고, 어떤 값들이 존재하는지를 샘플로 파악하고자 할 때 사용.\n",
    "for row in c.execute('SELECT * FROM 도서대출내역 LIMIT 5 ;'):\n",
    "  print(row)"
   ]
  },
  {
   "cell_type": "code",
   "execution_count": 22,
   "id": "frank-advancement",
   "metadata": {},
   "outputs": [
    {
     "name": "stdout",
     "output_type": "stream",
     "text": [
      "('문강태', '2020-06-20', '2020-06-25')\n"
     ]
    }
   ],
   "source": [
    "for row in c.execute('SELECT 이름, 대출일, 반납일 FROM 도서대출내역 ORDER BY 대출일 DESC LIMIT 1;') :\n",
    "    print(row)"
   ]
  },
  {
   "cell_type": "markdown",
   "id": "jewish-casting",
   "metadata": {},
   "source": [
    "## data type"
   ]
  },
  {
   "cell_type": "code",
   "execution_count": 23,
   "id": "wrapped-chamber",
   "metadata": {},
   "outputs": [
    {
     "name": "stdout",
     "output_type": "stream",
     "text": [
      "('101', '문강태', '2020-06', '20일')\n",
      "('102', '고문영', '2020-06', '10일')\n",
      "('103', '문상태', '2020-06', '8일')\n",
      "('104', '강기둥', '2020-06', '3일')\n"
     ]
    }
   ],
   "source": [
    "for row in c.execute('SELECT * FROM 도서대출내역2;'):\n",
    "  print(row)"
   ]
  },
  {
   "cell_type": "code",
   "execution_count": 24,
   "id": "sweet-louisiana",
   "metadata": {},
   "outputs": [
    {
     "name": "stdout",
     "output_type": "stream",
     "text": [
      "(0, 'ID', 'varchar', 0, None, 0)\n",
      "(1, '이름', 'varchar', 0, None, 0)\n",
      "(2, '도서ID', 'varchar', 0, None, 0)\n",
      "(3, '대출일', 'varchar', 0, None, 0)\n",
      "(4, '반납일', 'varchar', 0, None, 0)\n"
     ]
    }
   ],
   "source": [
    "#데이터 타입 확인\n",
    "import os\n",
    "db_path = os.getenv('HOME')+'/mydb.db'\n",
    "conn = sqlite3.connect(db_path)  #mydb.db에 연결.\n",
    "c = conn.cursor()\n",
    "\n",
    "for row in c.execute('pragma table_info(도서대출내역)'):\n",
    "  print(row)"
   ]
  },
  {
   "cell_type": "markdown",
   "id": "acoustic-perfume",
   "metadata": {},
   "source": [
    "- varchar : 문자형\n",
    "- 대출일수를 숫자로 바꾸기 위해 '일'을 데어낼 것.\n",
    "- SQLite를 사용하니까 SUBSTR()을 사용.\n",
    "- 자리수가 다른 경우 length-1을 해도 되지만 split_part()를 사용할 수도 있음."
   ]
  },
  {
   "cell_type": "code",
   "execution_count": 25,
   "id": "imported-multiple",
   "metadata": {},
   "outputs": [
    {
     "name": "stdout",
     "output_type": "stream",
     "text": [
      "('101', '문강태', '2020-06', '20일', '20')\n",
      "('102', '고문영', '2020-06', '10일', '10')\n",
      "('103', '문상태', '2020-06', '8일', '8')\n",
      "('104', '강기둥', '2020-06', '3일', '3')\n"
     ]
    }
   ],
   "source": [
    "for row in c.execute('SELECT *, SUBSTR(대출일수, 1, (length(대출일수)-1)) AS 대출일수_수정 FROM 도서대출내역2;'):\n",
    "  print(row)"
   ]
  },
  {
   "cell_type": "code",
   "execution_count": 26,
   "id": "composite-address",
   "metadata": {},
   "outputs": [
    {
     "name": "stdout",
     "output_type": "stream",
     "text": [
      "('101', '문강태', '2020-06', '20일', 20)\n",
      "('102', '고문영', '2020-06', '10일', 10)\n",
      "('103', '문상태', '2020-06', '8일', 8)\n",
      "('104', '강기둥', '2020-06', '3일', 3)\n"
     ]
    }
   ],
   "source": [
    "#CAST로 잘라낸 부분에 더해 숫자로 변환.\n",
    "for row in c.execute('SELECT *, CAST(SUBSTR(대출일수, 1, (length(대출일수)-1)) AS INT) AS 대출일수_수정 FROM 도서대출내역2 ;'):\n",
    "  print(row)"
   ]
  },
  {
   "cell_type": "code",
   "execution_count": 27,
   "id": "forbidden-lover",
   "metadata": {},
   "outputs": [
    {
     "name": "stdout",
     "output_type": "stream",
     "text": [
      "('101', '문강태', '2020-06', 20.0)\n",
      "('102', '고문영', '2020-06', 10.0)\n",
      "('103', '문상태', '2020-06', 8.0)\n",
      "('104', '강기둥', '2020-06', 3.0)\n"
     ]
    }
   ],
   "source": [
    "#필요한 칼럼만 가져옴.\n",
    "for row in c.execute('SELECT ID, 이름, 대출년월, AVG(CAST(SUBSTR(대출일수, 1, (length(대출일수)-1)) AS INT)) AS 대출일수_평균 FROM 도서대출내역2 GROUP BY 1,2,3;'):\n",
    "  print(row)"
   ]
  },
  {
   "cell_type": "markdown",
   "id": "accredited-opportunity",
   "metadata": {},
   "source": [
    "## WHERE 조건\n",
    "- 특정 문자를 포함하는 row를 가져오고 싶을 때\n",
    "- 특정 기간 혹은 특정 날짜의 전 또는 이후의 row를 가져오고 싶을 때\n",
    "- 특정 숫자 이상 또는 이하의 row를 가져오고 싶을 때   \n",
    "WHERE 조건절 안에서 사용할 수 있음."
   ]
  },
  {
   "cell_type": "markdown",
   "id": "decent-lloyd",
   "metadata": {},
   "source": [
    "### 1. 특정 문자를 포함하는 row를 가져오고 싶을 때"
   ]
  },
  {
   "cell_type": "code",
   "execution_count": 28,
   "id": "democratic-index",
   "metadata": {},
   "outputs": [
    {
     "name": "stdout",
     "output_type": "stream",
     "text": [
      "('101', '문강태', '2020-06', '20일')\n",
      "('103', '문상태', '2020-06', '8일')\n"
     ]
    }
   ],
   "source": [
    "#문씨 형제의 결과만 가져오기\n",
    "for row in c.execute('SELECT * FROM 도서대출내역2 WHERE 이름 LIKE \"문%\" ;'):\n",
    "  print(row)"
   ]
  },
  {
   "cell_type": "markdown",
   "id": "fleet-roman",
   "metadata": {},
   "source": [
    "- LIKE는 문자열 컬럼에서 사용할 수 있는 것으로 해당 문자를 포함 또는 해당 문자로 시작 또는 종료하는 것을 불러올 수 있음.\n",
    "- \"문%\"은 '문'으로 시작하는 모든 문자열을 다 가져오라는 명령.\n",
    "- 문자열은 꼭 큰따옴표(\")를 이용해 감싸주어야 함!!!!"
   ]
  },
  {
   "cell_type": "markdown",
   "id": "spectacular-possession",
   "metadata": {},
   "source": [
    "### 2. 특정 기간 혹은 특정 날짜의 전 또는 이후의 row를 가져오고 싶을 때"
   ]
  },
  {
   "cell_type": "code",
   "execution_count": 29,
   "id": "found-favor",
   "metadata": {},
   "outputs": [
    {
     "name": "stdout",
     "output_type": "stream",
     "text": [
      "('101', '문강태', 'aaa', '2020-06-01', '2020-06-05')\n",
      "('102', '고문영', 'bbb', '2020-06-01', None)\n",
      "('103', '문상태', 'ccc', '2020-06-01', '2020-06-05')\n"
     ]
    }
   ],
   "source": [
    "#6월 첫째 주에 대출한 사람들의 정보\n",
    "for row in c.execute('SELECT * FROM 도서대출내역 WHERE 대출일 >= \"2020-06-01\" AND 대출일 <= \"2020-06-07\" ;'):\n",
    "  print(row)"
   ]
  },
  {
   "cell_type": "code",
   "execution_count": 30,
   "id": "executive-wales",
   "metadata": {},
   "outputs": [
    {
     "name": "stdout",
     "output_type": "stream",
     "text": [
      "('101', '문강태', 'aaa', '2020-06-01', '2020-06-05')\n",
      "('102', '고문영', 'bbb', '2020-06-01', None)\n",
      "('103', '문상태', 'ccc', '2020-06-01', '2020-06-05')\n"
     ]
    }
   ],
   "source": [
    "#부등호 사용 말고도 BETWEEN을 사용할 수도 있음.\n",
    "for row in c.execute('SELECT * FROM 도서대출내역 WHERE 대출일 BETWEEN \"2020-06-01\" AND \"2020-06-07\" ;'):\n",
    "  print(row)"
   ]
  },
  {
   "cell_type": "markdown",
   "id": "dramatic-romania",
   "metadata": {},
   "source": [
    "### 3. 특정 숫자 이상 또는 이하의 row를 가져오고 싶을 때"
   ]
  },
  {
   "cell_type": "code",
   "execution_count": 31,
   "id": "consecutive-rugby",
   "metadata": {},
   "outputs": [
    {
     "name": "stdout",
     "output_type": "stream",
     "text": [
      "('101', '문강태', '2020-06', '20일', 20)\n",
      "('102', '고문영', '2020-06', '10일', 10)\n",
      "('103', '문상태', '2020-06', '8일', 8)\n"
     ]
    }
   ],
   "source": [
    "#대출일수가 5일을 초과하는 사람들의 정보\n",
    "for row in c.execute('SELECT *, CAST(SUBSTR(대출일수, 1, (length(대출일수)-1)) AS INT) AS 대출일수_수정 FROM 도서대출내역2 WHERE 대출일수_수정 > 5 '):\n",
    "  print(row)"
   ]
  },
  {
   "cell_type": "markdown",
   "id": "secure-series",
   "metadata": {},
   "source": [
    "### 4. NULL 조건 다루는 방법"
   ]
  },
  {
   "cell_type": "code",
   "execution_count": 32,
   "id": "metric-coral",
   "metadata": {},
   "outputs": [
    {
     "name": "stdout",
     "output_type": "stream",
     "text": [
      "('101', '문강태', 'aaa', '2020-06-01', '2020-06-05')\n",
      "('101', '문강태', 'ccc', '2020-06-20', '2020-06-25')\n",
      "('103', '문상태', 'ccc', '2020-06-01', '2020-06-05')\n"
     ]
    }
   ],
   "source": [
    "for row in c.execute('SELECT * FROM 도서대출내역 WHERE 반납일 IS NOT NULL;'):\n",
    "  print(row)"
   ]
  },
  {
   "cell_type": "code",
   "execution_count": 33,
   "id": "intellectual-copper",
   "metadata": {},
   "outputs": [
    {
     "name": "stdout",
     "output_type": "stream",
     "text": [
      "('102', '고문영', 'bbb', '2020-06-01', None)\n",
      "('102', '고문영', 'ddd', '2020-06-08', None)\n",
      "('104', '강기둥', None, None, None)\n"
     ]
    }
   ],
   "source": [
    "for row in c.execute('SELECT * FROM 도서대출내역 WHERE 반납일 IS NULL;'):\n",
    "  print(row)"
   ]
  },
  {
   "cell_type": "code",
   "execution_count": 34,
   "id": "occupational-drain",
   "metadata": {},
   "outputs": [
    {
     "name": "stdout",
     "output_type": "stream",
     "text": [
      "('문강태',)\n"
     ]
    }
   ],
   "source": [
    "for row in c.execute('SELECT 이름 FROM 도서대출내역 WHERE 이름 LIKE \"%태\" AND 대출일 >= \"2020-06-19\" AND ID < 102 AND 반납일 IS NOT NULL;') :\n",
    "    print(row)"
   ]
  },
  {
   "cell_type": "markdown",
   "id": "bronze-darwin",
   "metadata": {},
   "source": [
    "## Join\n",
    "- INNER JOIN : A 테이블과 B 테이블의 교집합을 조회\n",
    "- LEFT JOIN : (기준은 A 테이블) A 테이블을 기준으로 해서 B 테이블은 공통되는 부분만 조회\n",
    "- RIGHT JOIN : (기준은 B 테이블) B 테이블을 기준으로 해서 A 테이블은 공통되는 부분만 조회\n",
    "- FULL JOIN : A 테이블과 B 테이블 모두에서 빠트리는 부분 없이 모두 조회"
   ]
  },
  {
   "cell_type": "code",
   "execution_count": 35,
   "id": "moderate-producer",
   "metadata": {},
   "outputs": [],
   "source": [
    "import os\n",
    "db_path = os.getenv('HOME')+'/mydb.db'\n",
    "conn = sqlite3.connect(db_path)  # mydb.db에 연결합니다.\n",
    "c = conn.cursor()"
   ]
  },
  {
   "cell_type": "markdown",
   "id": "embedded-forth",
   "metadata": {},
   "source": [
    "### 1. INNER JOIN"
   ]
  },
  {
   "cell_type": "code",
   "execution_count": 36,
   "id": "increased-dealer",
   "metadata": {},
   "outputs": [
    {
     "name": "stdout",
     "output_type": "stream",
     "text": [
      "대출내역 테이블\n",
      "('101', '문강태', 'aaa')\n",
      "('102', '고문영', 'bbb')\n",
      "('102', '고문영', 'fff')\n",
      "('103', '문상태', 'ccc')\n",
      "('104', '강기둥', None)\n",
      "\n",
      "도서명 테이블\n",
      "('aaa', '악몽을 먹고 자란 소년')\n",
      "('bbb', '좀비아이')\n",
      "('ccc', '공룡백과사전')\n",
      "('ddd', '빨간구두')\n",
      "('eee', '잠자는 숲속의 미녀')\n"
     ]
    }
   ],
   "source": [
    "print('대출내역 테이블')\n",
    "for row in c.execute('SELECT * FROM 대출내역;'):\n",
    "  print(row)\n",
    "print('')\n",
    "print('도서명 테이블')\n",
    "for row in c.execute('SELECT * FROM 도서명;'):\n",
    "  print(row)"
   ]
  },
  {
   "cell_type": "code",
   "execution_count": 37,
   "id": "orange-completion",
   "metadata": {},
   "outputs": [
    {
     "name": "stdout",
     "output_type": "stream",
     "text": [
      "('101', '문강태', 'aaa', '악몽을 먹고 자란 소년')\n",
      "('102', '고문영', 'bbb', '좀비아이')\n",
      "('103', '문상태', 'ccc', '공룡백과사전')\n"
     ]
    }
   ],
   "source": [
    "#도서 ID를 기준으로 연결\n",
    "query = '''\n",
    "SELECT A.*, B.도서명 \n",
    "FROM 대출내역 AS A \n",
    "INNER JOIN 도서명 AS B\n",
    "ON A.도서ID = B.도서ID;\n",
    "'''\n",
    "for row in c.execute(query):\n",
    "  print(row)"
   ]
  },
  {
   "cell_type": "markdown",
   "id": "hungarian-injury",
   "metadata": {},
   "source": [
    "### - LEFT JOIN\n",
    "- 왼쪽 A 테이블을 기준으로 오른쪽 테이블을 붙이는 것.\n",
    "- A 테이블에 있는 데이터는 모두 가져오고 B 테이블과 공통되는 부분만 오른쪽에 붙이게 됨."
   ]
  },
  {
   "cell_type": "code",
   "execution_count": 38,
   "id": "higher-score",
   "metadata": {},
   "outputs": [
    {
     "name": "stdout",
     "output_type": "stream",
     "text": [
      "('101', '문강태', 'aaa', '악몽을 먹고 자란 소년')\n",
      "('102', '고문영', 'bbb', '좀비아이')\n",
      "('102', '고문영', 'fff', None)\n",
      "('103', '문상태', 'ccc', '공룡백과사전')\n",
      "('104', '강기둥', None, None)\n"
     ]
    }
   ],
   "source": [
    "query = '''\n",
    "SELECT A.*, B.도서명 \n",
    "FROM 대출내역 AS A \n",
    "LEFT JOIN 도서명 AS B\n",
    "ON A.도서ID = B.도서ID;\n",
    "'''\n",
    "for row in c.execute(query):\n",
    "  print(row)"
   ]
  },
  {
   "cell_type": "code",
   "execution_count": 39,
   "id": "vulnerable-quest",
   "metadata": {},
   "outputs": [
    {
     "ename": "OperationalError",
     "evalue": "RIGHT and FULL OUTER JOINs are not currently supported",
     "output_type": "error",
     "traceback": [
      "\u001b[0;31m---------------------------------------------------------------------------\u001b[0m",
      "\u001b[0;31mOperationalError\u001b[0m                          Traceback (most recent call last)",
      "\u001b[0;32m<ipython-input-39-7b17822614fe>\u001b[0m in \u001b[0;36m<module>\u001b[0;34m\u001b[0m\n\u001b[1;32m      5\u001b[0m \u001b[0mON\u001b[0m \u001b[0mA\u001b[0m\u001b[0;34m.\u001b[0m\u001b[0m도서ID\u001b[0m \u001b[0;34m=\u001b[0m \u001b[0mB\u001b[0m\u001b[0;34m.\u001b[0m\u001b[0m도서ID\u001b[0m\u001b[0;34m;\u001b[0m\u001b[0;34m\u001b[0m\u001b[0;34m\u001b[0m\u001b[0m\n\u001b[1;32m      6\u001b[0m '''\n\u001b[0;32m----> 7\u001b[0;31m \u001b[0;32mfor\u001b[0m \u001b[0mrow\u001b[0m \u001b[0;32min\u001b[0m \u001b[0mc\u001b[0m\u001b[0;34m.\u001b[0m\u001b[0mexecute\u001b[0m\u001b[0;34m(\u001b[0m\u001b[0mquery\u001b[0m\u001b[0;34m)\u001b[0m\u001b[0;34m:\u001b[0m\u001b[0;34m\u001b[0m\u001b[0;34m\u001b[0m\u001b[0m\n\u001b[0m\u001b[1;32m      8\u001b[0m   \u001b[0mprint\u001b[0m\u001b[0;34m(\u001b[0m\u001b[0mrow\u001b[0m\u001b[0;34m)\u001b[0m\u001b[0;34m\u001b[0m\u001b[0;34m\u001b[0m\u001b[0m\n",
      "\u001b[0;31mOperationalError\u001b[0m: RIGHT and FULL OUTER JOINs are not currently supported"
     ]
    }
   ],
   "source": [
    "query = '''\n",
    "SELECT B.*, A.ID, A.이름 \n",
    "FROM 대출내역 AS A \n",
    "RIGHT JOIN 도서명 AS B\n",
    "ON A.도서ID = B.도서ID;\n",
    "'''\n",
    "for row in c.execute(query):\n",
    "  print(row)"
   ]
  },
  {
   "cell_type": "code",
   "execution_count": 40,
   "id": "individual-kelly",
   "metadata": {},
   "outputs": [
    {
     "ename": "OperationalError",
     "evalue": "RIGHT and FULL OUTER JOINs are not currently supported",
     "output_type": "error",
     "traceback": [
      "\u001b[0;31m---------------------------------------------------------------------------\u001b[0m",
      "\u001b[0;31mOperationalError\u001b[0m                          Traceback (most recent call last)",
      "\u001b[0;32m<ipython-input-40-bd20360ed5b4>\u001b[0m in \u001b[0;36m<module>\u001b[0;34m\u001b[0m\n\u001b[1;32m      6\u001b[0m \u001b[0mORDER\u001b[0m \u001b[0mBY\u001b[0m \u001b[0m도서ID\u001b[0m\u001b[0;34m;\u001b[0m\u001b[0;34m\u001b[0m\u001b[0;34m\u001b[0m\u001b[0m\n\u001b[1;32m      7\u001b[0m '''\n\u001b[0;32m----> 8\u001b[0;31m \u001b[0;32mfor\u001b[0m \u001b[0mrow\u001b[0m \u001b[0;32min\u001b[0m \u001b[0mc\u001b[0m\u001b[0;34m.\u001b[0m\u001b[0mexecute\u001b[0m\u001b[0;34m(\u001b[0m\u001b[0mquery\u001b[0m\u001b[0;34m)\u001b[0m\u001b[0;34m:\u001b[0m\u001b[0;34m\u001b[0m\u001b[0;34m\u001b[0m\u001b[0m\n\u001b[0m\u001b[1;32m      9\u001b[0m   \u001b[0mprint\u001b[0m\u001b[0;34m(\u001b[0m\u001b[0mrow\u001b[0m\u001b[0;34m)\u001b[0m\u001b[0;34m\u001b[0m\u001b[0;34m\u001b[0m\u001b[0m\n",
      "\u001b[0;31mOperationalError\u001b[0m: RIGHT and FULL OUTER JOINs are not currently supported"
     ]
    }
   ],
   "source": [
    "query = '''\n",
    "SELECT A.*, B.도서명 \n",
    "FROM 대출내역 AS A \n",
    "FULL OUTER JOIN 도서명 AS B\n",
    "ON A.도서ID = B.도서ID\n",
    "ORDER BY 도서ID;\n",
    "'''\n",
    "for row in c.execute(query):\n",
    "  print(row)"
   ]
  },
  {
   "cell_type": "markdown",
   "id": "freelance-seafood",
   "metadata": {},
   "source": [
    "-  SQLite에서는 RIGHT JOIN과 FULL OUTER JOIN를 지원하지 않음."
   ]
  },
  {
   "cell_type": "markdown",
   "id": "practical-recipe",
   "metadata": {},
   "source": [
    "### - 중첩 질의(Nested Query)\n",
    "-  LEFT JOIN을 사용한 서브쿼리의 결과 C로부터 다시 쿼리를 수행하는 형태로 쿼리가 중첩되어 있음."
   ]
  },
  {
   "cell_type": "code",
   "execution_count": 41,
   "id": "funky-average",
   "metadata": {},
   "outputs": [
    {
     "name": "stdout",
     "output_type": "stream",
     "text": [
      "('강기둥', 1)\n",
      "('고문영', 2)\n",
      "('문강태', 1)\n",
      "('문상태', 1)\n"
     ]
    }
   ],
   "source": [
    "query = '''\n",
    "SELECT C.이름, COUNT(*) 대출건수\n",
    "FROM (\n",
    "\tSELECT A.*, B.도서명 \n",
    "\tFROM 대출내역 AS A \n",
    "\tLEFT JOIN 도서명 AS B\n",
    "\tON A.도서ID = B.도서ID ) C\n",
    "GROUP BY C.이름;\n",
    "'''\n",
    "for row in c.execute(query):\n",
    "  print(row)"
   ]
  },
  {
   "cell_type": "markdown",
   "id": "shaped-vocabulary",
   "metadata": {},
   "source": [
    "## 쿼리의 조건절"
   ]
  },
  {
   "cell_type": "markdown",
   "id": "satisfied-sunrise",
   "metadata": {},
   "source": [
    "### 1. IFNULL\n",
    "- NULL 대신 다른 값으로 바꾸어 출력.\n",
    "- IFNULL(값1, 값2)에서 값1 항목이 NULL인지 체크해서 NULL이면 값2를 대신하고 이외의 경우에는 값1 그대로 반환함."
   ]
  },
  {
   "cell_type": "code",
   "execution_count": 42,
   "id": "failing-institute",
   "metadata": {},
   "outputs": [
    {
     "name": "stdout",
     "output_type": "stream",
     "text": [
      "('101', '문강태', 'aaa', '악몽을 먹고 자란 소년')\n",
      "('102', '고문영', 'bbb', '좀비아이')\n",
      "('102', '고문영', 'fff', '도서명미상')\n",
      "('103', '문상태', 'ccc', '공룡백과사전')\n",
      "('104', '강기둥', None, '도서명미상')\n"
     ]
    }
   ],
   "source": [
    "query = '''\n",
    "SELECT A.*, IFNULL(B.도서명, '도서명미상') AS 도서명\n",
    "\tFROM 대출내역 AS A \n",
    "\tLEFT JOIN 도서명 AS B\n",
    "\tON A.도서ID = B.도서ID;\n",
    "'''\n",
    "for row in c.execute(query):\n",
    "  print(row)"
   ]
  },
  {
   "cell_type": "markdown",
   "id": "pursuant-plastic",
   "metadata": {},
   "source": [
    "### 2. CASE\n",
    "- IF문처럼 조건에 따라 다양한 출력이 가능하도록 해주는 매우 강력하고 유용한 함수."
   ]
  },
  {
   "cell_type": "code",
   "execution_count": 43,
   "id": "floating-campaign",
   "metadata": {},
   "outputs": [
    {
     "name": "stdout",
     "output_type": "stream",
     "text": [
      "('문강태', '기간초과')\n",
      "('고문영', '기간초과')\n",
      "('문상태', '기간초과')\n",
      "('강기둥', '기간내')\n"
     ]
    }
   ],
   "source": [
    "query = '''\n",
    "SELECT 이름, \n",
    "CASE WHEN 대출일수_수정 > 5 \n",
    "    THEN '기간초과' \n",
    "    ELSE '기간내' \n",
    "END AS 대출기간\n",
    "FROM (\n",
    "    SELECT *, CAST(SUBSTR(대출일수, 1, (length(대출일수)-1)) AS INT) AS 대출일수_수정 \n",
    "    FROM 도서대출내역2\n",
    ");\n",
    "'''\n",
    "for row in c.execute(query):\n",
    "  print(row)"
   ]
  },
  {
   "cell_type": "markdown",
   "id": "personalized-worth",
   "metadata": {},
   "source": [
    "### 종합\n",
    "- '도서명' 테이블과 '도서대출내역' 테이블을 도서ID를 key로 하여 LEFT JOIN해서 |도서ID|도서명|대출건수|대출상태| 항목을 출력하는 쿼리를 작성.\n",
    "- 대출건수 : 도서별로 도서대출내역 테이블에 대출일자가 있으면 대출건수 1로 본다. 여러 번 대출되었으면 대출된 회수만큼 합산된다.\n",
    "- 대출상태 : 대출일자는 NOT NULL인데 반납일자가 NULL인 도서대출내역이 있으면 '대출중', 그렇지 않고 모든 대출내역에 반납일자가 명시되어 있으면 '보관중'으로 본다."
   ]
  },
  {
   "cell_type": "code",
   "execution_count": 44,
   "id": "handmade-gazette",
   "metadata": {},
   "outputs": [
    {
     "name": "stdout",
     "output_type": "stream",
     "text": [
      "('aaa', '악몽을 먹고 자란 소년', 1, '보관중')\n",
      "('bbb', '좀비아이', 1, '대출중')\n",
      "('ccc', '공룡백과사전', 2, '보관중')\n",
      "('ddd', '빨간구두', 1, '대출중')\n",
      "('eee', '잠자는 숲속의 미녀', 0, '보관중')\n"
     ]
    }
   ],
   "source": [
    "query = '''\n",
    "SELECT C.도서ID, C.도서명, SUM(C.대출건수) AS 대출건수, \n",
    "CASE SUM(C.대출건수)-SUM(C.반납건수) WHEN 0 THEN '보관중' ELSE '대출중' \n",
    "END AS 대출상태 \n",
    "FROM ( \n",
    "SELECT A.도서ID, A.도서명, CASE WHEN B.대출일 IS NULL THEN 0 ELSE 1 END AS 대출건수, CASE WHEN B.반납일 IS NULL THEN 0 ELSE 1 END AS 반납건수 \n",
    "FROM 도서명 AS A LEFT JOIN 도서대출내역 AS B ON A.도서ID = B.도서ID ) AS C GROUP BY C.도서ID, C.도서명 ;\n",
    "'''\n",
    "\n",
    "for row in c.execute(query):\n",
    "  print(row)"
   ]
  },
  {
   "cell_type": "code",
   "execution_count": null,
   "id": "restricted-chapter",
   "metadata": {},
   "outputs": [],
   "source": []
  }
 ],
 "metadata": {
  "kernelspec": {
   "display_name": "Python 3",
   "language": "python",
   "name": "python3"
  },
  "language_info": {
   "codemirror_mode": {
    "name": "ipython",
    "version": 3
   },
   "file_extension": ".py",
   "mimetype": "text/x-python",
   "name": "python",
   "nbconvert_exporter": "python",
   "pygments_lexer": "ipython3",
   "version": "3.7.9"
  }
 },
 "nbformat": 4,
 "nbformat_minor": 5
}
