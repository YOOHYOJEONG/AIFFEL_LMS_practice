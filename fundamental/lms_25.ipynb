{
 "cells": [
  {
   "cell_type": "markdown",
   "id": "prostate-monster",
   "metadata": {},
   "source": [
    "# 멀티태스킹"
   ]
  },
  {
   "cell_type": "markdown",
   "id": "spanish-indonesian",
   "metadata": {},
   "source": [
    "## - 동시성\n",
    "- 하나의 processor가 여러 가지 task를 동시에 수행하는 개념,\n",
    "-  그 processor는 특정 순간에는 1가지 task만을 수행하겠지만, 다른 task를 수행할 수 있는 시간에는 task를 전환해서 효율적으로 여러 개의 task를 동시에 수행하는 것처럼 보이는 것.\n",
    "\n",
    "## - 병렬성\n",
    "- 유사한 task를 여러 processor가 동시에 수행하는 것.\n",
    "- 병렬성의 효율을 극대화하는 것은 동시성이 요구될 때임.\n",
    "- 여러 개의 프로세스가 1개의 task를 여러 개의 subtask로 쪼개어 동시에 병렬적으로 수행할 수 있기 때문에."
   ]
  },
  {
   "cell_type": "markdown",
   "id": "driving-hurricane",
   "metadata": {},
   "source": [
    "## 바운드(bound)\n",
    "- 어떤 일을 바로 하지 못하고 대기해야 하는 일\n",
    "\n",
    "## 동기\n",
    "- 앞 작업이 종료되기를 무조건 기다렸다가 다음 작업을 수행하는 것.\n",
    "- 어떤 일이 순차적으로 실행됨, 요청과 요청에 대한 응답이 동시에 실행됨.\n",
    "- 요청에 지연이 발생하더라도 계속 대기함.\n",
    "\n",
    "## 비동기\n",
    "- 기다리는 동안 다른 일을 처리하는 것.\n",
    "- 어떤 일이 비순차적으로 실행됨.\n",
    "- 요청과 요청에 대한 응답이 동시에 실행되지 않음.\n",
    "- 특정 코드의 연산이 끝날 때까지 코드의 실행을 멈추지 않고 다음 코드를 먼저 실행하며, 중간에 실행되는 코드는 주로 콜백함수로 연결하기도 함."
   ]
  },
  {
   "cell_type": "markdown",
   "id": "hydraulic-civilian",
   "metadata": {},
   "source": [
    "컴퓨터가 일을 수행하면서 뭔가 기다릴 때, 즉 속도에 제한이 걸릴 때는    \n",
    "- I/O 바운드: 입력과 출력에서의 데이터(파일)처리에 시간이 소요될 때.   \n",
    "- CPU 바운드: 복잡한 수식 계산이나 그래픽 작업과 같은 엄청난 계산이 필요할 때.  \n",
    "\n",
    "이렇게 두 경우에 해당하는 경우기 대부분임."
   ]
  },
  {
   "cell_type": "markdown",
   "id": "vertical-christian",
   "metadata": {},
   "source": [
    "## 프로세스\n",
    "- \"프로그램을 구동하여 프로그램 자체와 프로그램의 상태가 메모리상에서 실행되는 작업 단위\"를 지칭.\n",
    "- 하나의 프로그램을 한 번 구동하면 하나의 프로세스가 메모리상에서 실행되지만 여러 번 구동하면 여러 개의 프로세스가 실행되는 것."
   ]
  },
  {
   "cell_type": "code",
   "execution_count": 1,
   "id": "historical-upper",
   "metadata": {},
   "outputs": [
    {
     "name": "stdout",
     "output_type": "stream",
     "text": [
      "13\n",
      "0\n",
      "0\n",
      "/aiffel/aiffel/lms_practice\n"
     ]
    }
   ],
   "source": [
    "import os\n",
    "\n",
    "# process ID\n",
    "print(os.getpid())\n",
    "\n",
    "# user ID\n",
    "print(os.getuid())\n",
    "\n",
    "# group ID\n",
    "print(os.getgid())\n",
    "\n",
    "# 현재 작업중인 디렉토리\n",
    "print(os.getcwd())"
   ]
  },
  {
   "cell_type": "markdown",
   "id": "temporal-concept",
   "metadata": {},
   "source": [
    "## 스레드\n",
    "- 어떠한 프로그램 내에서, 특히 프로세스 내에서 실행되는 흐름의 단위.\n",
    "- 스레드의 사용은 프로그램마다 다르지만, 가벼운 프로그램은 하나의 스레드를 가지기도 함."
   ]
  },
  {
   "cell_type": "markdown",
   "id": "legislative-privilege",
   "metadata": {},
   "source": [
    "## 프로파일링\n",
    "- 코드에서 시스템의 어느 부분이 느린지 혹은 어디서 RAM을 많이 사용하고 있는지를 확인하고 싶을 때 사용하는 기법.\n",
    "- 현재 실행 중인 프로그램의 상태를 확인하는 작업을 코딩하는 것."
   ]
  },
  {
   "cell_type": "code",
   "execution_count": 2,
   "id": "swedish-toolbox",
   "metadata": {},
   "outputs": [
    {
     "name": "stdout",
     "output_type": "stream",
     "text": [
      "set               : 1.9122603703290224 [ms]\n",
      "list              : 1.2251979382708669 [ms]\n",
      "tuple             : 0.9088550545275211 [ms]\n",
      "string            : 0.5431835222989321 [ms]\n",
      "set_add           : 6.394910856150091 [ms]\n",
      "list_append       : 5.647816410288215 [ms]\n",
      "set_comprehension : 6.4031782522797585 [ms]\n",
      "list_comprehension: 5.712112910114229 [ms]\n"
     ]
    }
   ],
   "source": [
    "import timeit\n",
    "        \n",
    "def f1():\n",
    "    s = set(range(100))\n",
    "\n",
    "    \n",
    "def f2():\n",
    "    l = list(range(100))\n",
    "\n",
    "    \n",
    "def f3():\n",
    "    t = tuple(range(100))\n",
    "\n",
    "\n",
    "def f4():\n",
    "    s = str(range(100))\n",
    "\n",
    "    \n",
    "def f5():\n",
    "    s = set()\n",
    "    for i in range(100):\n",
    "        s.add(i)\n",
    "\n",
    "def f6():\n",
    "    l = []\n",
    "    for i in range(100):\n",
    "        l.append(i)\n",
    "    \n",
    "def f7():\n",
    "    s_comp = {i for i in range(100)}\n",
    "\n",
    "    \n",
    "def f8():\n",
    "    l_comp = [i for i in range(100)]\n",
    "    \n",
    "\n",
    "if __name__ == \"__main__\":\n",
    "    t1 = timeit.Timer(\"f1()\", \"from __main__ import f1\")\n",
    "    t2 = timeit.Timer(\"f2()\", \"from __main__ import f2\")\n",
    "    t3 = timeit.Timer(\"f3()\", \"from __main__ import f3\")\n",
    "    t4 = timeit.Timer(\"f4()\", \"from __main__ import f4\")\n",
    "    t5 = timeit.Timer(\"f5()\", \"from __main__ import f5\")\n",
    "    t6 = timeit.Timer(\"f6()\", \"from __main__ import f6\")\n",
    "    t7 = timeit.Timer(\"f7()\", \"from __main__ import f7\")\n",
    "    t8 = timeit.Timer(\"f8()\", \"from __main__ import f8\")\n",
    "    print(\"set               :\", t1.timeit(), '[ms]')\n",
    "    print(\"list              :\", t2.timeit(), '[ms]')\n",
    "    print(\"tuple             :\", t3.timeit(), '[ms]')\n",
    "    print(\"string            :\", t4.timeit(), '[ms]')\n",
    "    print(\"set_add           :\", t5.timeit(), '[ms]')\n",
    "    print(\"list_append       :\", t6.timeit(), '[ms]')\n",
    "    print(\"set_comprehension :\", t5.timeit(), '[ms]')\n",
    "    print(\"list_comprehension:\", t6.timeit(), '[ms]')"
   ]
  },
  {
   "cell_type": "markdown",
   "id": "allied-helping",
   "metadata": {},
   "source": [
    "- 이건 시간을 측정하는 방법이라서 프로파일링이라고 하기에는 좀 애매하긴 함."
   ]
  },
  {
   "cell_type": "markdown",
   "id": "facial-serve",
   "metadata": {},
   "source": [
    "# 파이썬에서 멀티스레드 사용하기"
   ]
  },
  {
   "cell_type": "code",
   "execution_count": 3,
   "id": "indirect-acquisition",
   "metadata": {},
   "outputs": [
    {
     "name": "stdout",
     "output_type": "stream",
     "text": [
      "delivery\n",
      "Retriving Dish\n"
     ]
    }
   ],
   "source": [
    "# 음식 배달과 그릇 찾기 2가지 작업을 순차적으로 수행하는 코드\n",
    "\n",
    "class Delivery:\n",
    "    def run(self):\n",
    "        print(\"delivery\")\n",
    "\n",
    "class RetriveDish:\n",
    "    def run(self):\n",
    "        print(\"Retriving Dish\")\n",
    "\n",
    "work1 = Delivery()\n",
    "work2 = RetriveDish()\n",
    "\n",
    "def main():\n",
    "    work1.run()\n",
    "    work2.run()\n",
    "\n",
    "if __name__ == '__main__':\n",
    "    main()"
   ]
  },
  {
   "cell_type": "code",
   "execution_count": 4,
   "id": "opposed-break",
   "metadata": {},
   "outputs": [
    {
     "name": "stdout",
     "output_type": "stream",
     "text": [
      "delivery\n",
      "Retriving Dish\n"
     ]
    }
   ],
   "source": [
    "#멀티스레드\n",
    "#threading 모듈을 import하고 클래스에 Thread를 상속받음.\n",
    "\n",
    "from threading import *\n",
    "\n",
    "class Delivery(Thread):\n",
    "    def run(self):\n",
    "        print(\"delivery\")\n",
    "\n",
    "class RetriveDish(Thread):\n",
    "    def run(self):\n",
    "        print(\"Retriving Dish\")\n",
    "\n",
    "work1 = Delivery()\n",
    "work2 = RetriveDish()\n",
    "\n",
    "def main():\n",
    "    work1.run()\n",
    "    work2.run()\n",
    "\n",
    "if __name__ == '__main__':\n",
    "    main()"
   ]
  },
  {
   "cell_type": "code",
   "execution_count": 5,
   "id": "documented-lodge",
   "metadata": {},
   "outputs": [
    {
     "name": "stdout",
     "output_type": "stream",
     "text": [
      "<bound method Delivery.run of <__main__.Delivery object at 0x7f091acbdcd0>>\n",
      "<bound method Delivery.run of <Delivery(Thread-6, initial)>>\n"
     ]
    }
   ],
   "source": [
    "# 스레드 생성 확인\n",
    "from threading import *\n",
    "\n",
    "class Delivery:\n",
    "    def run(self):\n",
    "        print(\"delivering\")\n",
    "\n",
    "work1 = Delivery()\n",
    "print(work1.run)\n",
    "\n",
    "class Delivery(Thread):\n",
    "    def run(self):\n",
    "        print(\"delivering\")\n",
    "\n",
    "work2 = Delivery()\n",
    "print(work2.run)"
   ]
  },
  {
   "cell_type": "markdown",
   "id": "choice-place",
   "metadata": {},
   "source": [
    "- work2 는 다른 스레드에 할당된 것을 볼 수 있음."
   ]
  },
  {
   "cell_type": "code",
   "execution_count": 7,
   "id": "tight-lawyer",
   "metadata": {},
   "outputs": [
    {
     "name": "stdout",
     "output_type": "stream",
     "text": [
      "do  Overwork\n",
      "retired..\n",
      "retired..\n",
      "worker is gone.\n"
     ]
    }
   ],
   "source": [
    "#스레드를 인스턴스화하여 생성하기\n",
    "#인스턴스화 하려면 Thread 클래스에 인자로 target과 args 값을 넣어 줌.\n",
    "\n",
    "from threading import *\n",
    "from time import sleep\n",
    "\n",
    "Stopped = False\n",
    "\n",
    "def worker(work, sleep_sec):    # 일꾼 스레드입니다.\n",
    "    while not Stopped:          # 그만 하라고 할때까지\n",
    "        print('do ', work)      # 시키는 일을 하고\n",
    "        sleep(sleep_sec)        # 잠깐 쉽니다.\n",
    "    print('retired..')          # 언젠가 이 굴레를 벗어나면, 은퇴할 때가 오겠지요?\n",
    "        \n",
    "t = Thread(target=worker, args=('Overwork', 3))    # 일꾼 스레드를 하나 생성합니다. 열심히 일하고 3초간 쉽니다.\n",
    "t.start()    # 일꾼, 이제 일을 해야지? 😈\n",
    "\n",
    "# 이 코드 블럭을 실행하기 전까지는 일꾼 스레드는 종료하지 않습니다. \n",
    "Stopped = True    # 일꾼 일 그만하라고 세팅해 줍시다. \n",
    "t.join()          # 일꾼 스레드가 종료할때까지 기다립니다. \n",
    "print('worker is gone.')"
   ]
  },
  {
   "cell_type": "markdown",
   "id": "derived-ceiling",
   "metadata": {},
   "source": [
    "# 파이썬에서 멀티프로세스 사용하기\n",
    "-  multiprocessing 모듈을 이용해서 멀티프로세스의 구현을 할 수 있음."
   ]
  },
  {
   "cell_type": "code",
   "execution_count": 8,
   "id": "african-victorian",
   "metadata": {},
   "outputs": [
    {
     "name": "stdout",
     "output_type": "stream",
     "text": [
      "delivering...\n"
     ]
    }
   ],
   "source": [
    "#프로세스 생성\n",
    "#Process 인스턴스를 만든 뒤, target 과 args 파라미터에 각각 함수 이름과 함수 인자를 전달.\n",
    "\n",
    "import multiprocessing as mp\n",
    "\n",
    "def delivery():\n",
    "    print('delivering...')\n",
    "\n",
    "p = mp.Process(target=delivery, args=())\n",
    "p.start()"
   ]
  },
  {
   "cell_type": "markdown",
   "id": "destroyed-insured",
   "metadata": {},
   "source": [
    "## 스레드/프로세스 풀 사용\n",
    "-  스레드 풀을 만들면 각각의 태스크들에 대해 자동으로 스레드들을 할당하고 종료함."
   ]
  },
  {
   "cell_type": "markdown",
   "id": "opponent-prayer",
   "metadata": {},
   "source": [
    "## - 풀 만드는 방법\n",
    "- Queue를 사용해서 직접 만드는 방법\n",
    "- concurrent.futures 라이브러리의 ThreadPoolExecutor , ProcessPoolExecutor클래스를 이용하는 방법"
   ]
  },
  {
   "cell_type": "markdown",
   "id": "specialized-amsterdam",
   "metadata": {},
   "source": [
    "### concurrent.futures 모듈을 사용하여 풀 생성"
   ]
  },
  {
   "cell_type": "markdown",
   "id": "unlimited-british",
   "metadata": {},
   "source": [
    "### - ThreadPoolExecutor\n",
    "- Executor 객체를 이용하면 스레드 생성, 시작, 조인 같은 작업을 할 때, with 컨텍스트 관리자와 같은 방법으로 가독성 높은 코드를 구현할 수 있음."
   ]
  },
  {
   "cell_type": "code",
   "execution_count": 9,
   "id": "velvet-monitoring",
   "metadata": {},
   "outputs": [
    {
     "name": "stdout",
     "output_type": "stream",
     "text": [
      "delivering\n"
     ]
    }
   ],
   "source": [
    "from concurrent.futures import ThreadPoolExecutor\n",
    "\n",
    "class Delivery:\n",
    "    def run(self):\n",
    "        print(\"delivering\")\n",
    "w = Delivery()\n",
    "\n",
    "with ThreadPoolExecutor() as executor:\n",
    "    future = executor.submit(w.run)"
   ]
  },
  {
   "cell_type": "markdown",
   "id": "north-marks",
   "metadata": {},
   "source": [
    "### - multiprocessing.Pool\n",
    "- multiprocessing.Pool.map을 통해 여러 개의 프로세스에 특정 함수를 매핑해서 병렬처리하도록 구현하는 방법"
   ]
  },
  {
   "cell_type": "code",
   "execution_count": 10,
   "id": "virgin-preserve",
   "metadata": {},
   "outputs": [
    {
     "name": "stdout",
     "output_type": "stream",
     "text": [
      "I'm processing I'm processing I'm processing I'm processing    110I'm processing 109  \n",
      "111107\n",
      "\n",
      "\n",
      "108\n",
      "[2, 4, 6, 8, 10]\n"
     ]
    }
   ],
   "source": [
    "from multiprocessing import Pool\n",
    "from os import getpid\n",
    "\n",
    "def double(i):\n",
    "    print(\"I'm processing \", getpid())    # pool 안에서 이 메소드가 실행될 때 pid를 확인해 봅시다.\n",
    "    return i * 2\n",
    "\n",
    "with Pool() as pool:\n",
    "      result = pool.map(double, [1, 2, 3, 4, 5])\n",
    "      print(result)"
   ]
  },
  {
   "cell_type": "markdown",
   "id": "opened-shannon",
   "metadata": {},
   "source": [
    "# 병렬 프로그래밍 연습\n",
    "- concurrent.futures 모듈의 ProcessPoolExecutor를 이용해서 멀티프로세스를 구현을 연습.\n",
    "- Executor 객체의 map() 함수\n",
    "- ProcessPoolExecutor 부분"
   ]
  },
  {
   "cell_type": "code",
   "execution_count": 11,
   "id": "champion-natural",
   "metadata": {},
   "outputs": [
    {
     "name": "stdout",
     "output_type": "stream",
     "text": [
      " ❣\n",
      "🌲🦕.......\n",
      "병렬처리 시작\n",
      "112272535095293 is prime: True\n",
      "112582705942171 is prime: True\n",
      "112272535095293 is prime: True\n",
      "115280095190773 is prime: True\n",
      "115797848077099 is prime: True\n",
      "1099726899285419 is prime: False\n",
      "병렬처리 수행 시각 0.829139232635498 s\n",
      "112272535095293 is prime: True\n",
      "112582705942171 is prime: True\n",
      "112272535095293 is prime: True\n",
      "115280095190773 is prime: True\n",
      "115797848077099 is prime: True\n",
      "1099726899285419 is prime: False\n",
      "단일처리 수행 시각 2.723101854324341 s\n"
     ]
    }
   ],
   "source": [
    "import math\n",
    "import concurrent\n",
    "import time \n",
    "\n",
    "\n",
    "PRIMES = [\n",
    "    112272535095293,\n",
    "    112582705942171,\n",
    "    112272535095293,\n",
    "    115280095190773,\n",
    "    115797848077099,\n",
    "    1099726899285419]\n",
    "\n",
    "#소수(prime) 판별 문제로 PRIMES 변수에 선언된 숫자들이 소수인지 아닌지를 판별하는 함수.\n",
    "def is_prime(n):\n",
    "    if n < 2:\n",
    "        return False\n",
    "    if n == 2:\n",
    "        return True\n",
    "    if n % 2 == 0:\n",
    "        return False\n",
    "\n",
    "    sqrt_n = int(math.floor(math.sqrt(n)))\n",
    "    for i in range(3, sqrt_n + 1, 2):\n",
    "        if n % i == 0:\n",
    "            return False\n",
    "    return True\n",
    "\n",
    "\n",
    "#main() 함수를 따로 작성하여 소수 판별 함수(is_prime)를 호출\n",
    "#병렬처리와 단일처리 비교 위해 main 함수를 아래와 같이 수정.\n",
    "#프로파일링을 위한 시간 계산 코드를 추가\n",
    "#단일처리로 수행했을 때의 코드를 추가\n",
    "#단일처리 프로파일링을 위한 시간 계산 코드를 추가\n",
    "def main():\n",
    "    print(\"병렬처리 시작\")\n",
    "    start = time.time()\n",
    "   \n",
    "    #concurrent.futures 라이브러리의 프로세스 풀에서 동작하게 하기 위해 with 문 사용.\n",
    "    with concurrent.futures.ProcessPoolExecutor() as executor:\n",
    "        \n",
    "        #map() 함수를 ProcessPoolExecutor() 인스턴스에서 생성된 executor 에서 실행.\n",
    "        for number, prime in zip(PRIMES, executor.map(is_prime, PRIMES)):\n",
    "            print('%d is prime: %s' % (number, prime))\n",
    "        end = time.time()\n",
    "        print(\"병렬처리 수행 시각\", end-start, 's')\n",
    "\n",
    "        start = time.time()\n",
    "        for number, prime in zip(PRIMES, map(is_prime, PRIMES)):\n",
    "            print('%d is prime: %s' % (number, prime))\n",
    "        end = time.time()\n",
    "        print(\"단일처리 수행 시각\", end-start, 's')\n",
    "\n",
    "print(\" ❣\\n🌲🦕.......\")\n",
    "        \n",
    "        \n",
    "if __name__ == '__main__':\n",
    "    main()"
   ]
  },
  {
   "cell_type": "markdown",
   "id": "choice-effect",
   "metadata": {},
   "source": [
    "- 병렬처리 약 0.8초\n",
    "- 단일처리 약 2.7초"
   ]
  },
  {
   "cell_type": "code",
   "execution_count": null,
   "id": "athletic-winning",
   "metadata": {},
   "outputs": [],
   "source": []
  }
 ],
 "metadata": {
  "kernelspec": {
   "display_name": "Python 3",
   "language": "python",
   "name": "python3"
  },
  "language_info": {
   "codemirror_mode": {
    "name": "ipython",
    "version": 3
   },
   "file_extension": ".py",
   "mimetype": "text/x-python",
   "name": "python",
   "nbconvert_exporter": "python",
   "pygments_lexer": "ipython3",
   "version": "3.7.9"
  }
 },
 "nbformat": 4,
 "nbformat_minor": 5
}
