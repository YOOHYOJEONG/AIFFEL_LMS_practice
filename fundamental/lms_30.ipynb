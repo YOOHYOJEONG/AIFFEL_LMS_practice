{
 "cells": [
  {
   "cell_type": "markdown",
   "id": "spoken-shelter",
   "metadata": {},
   "source": [
    "# 맵리듀스로 그리는 빅데이터 지도\n",
    "- 맵리듀스(Mapreduce) 라는 것은 하둡, 스파크 등 빅데이터를 다루는 솔루션들의 가장 근간이 되는 프로그래밍 모델임.\n",
    "- 맵리듀스는 하나의 컴퓨터에서 하던 작업을 여러 개의 컴퓨터에서 처리하도록 분산시키는 프로그래밍 모델.\n",
    "  - 이 모델은 처리하고자 하는 작업을 여러 컴퓨터에 자동으로 분할하고 지역 처리 및 클러스터 노드 간 통신을 하기 위해 사용함.\n",
    "- MapReduce 크게 map() 함수와 reduce() 함수로 구성되어있음.\n",
    "  - map() 함수는 Split된 부분 데이터를 가져다가 어떤 특별한 조작을 가하는, Apply 역할을 하는 함수.\n",
    "  -  일꾼 비유에서 본다면, 모래섞인 쌀을 가져다가 한알 한알 쌀과 모래로 분리하고 있는 친구가 이 map() 함수 역할.\n",
    "- reduce() 함수는 map() 함수가 만들어낸 결과물을 어떤 기준에 따라 한군데로 다시 모아내는, Combine 역할을 하는 함수.\n",
    "  - 일꾼 비유에서 본다면, 친구들이 분리해 놓은 쌀과 모래들을 가져다가 쌀만 한 가마니에 모아담는 일꾼이 reduce() 함수 역할."
   ]
  },
  {
   "cell_type": "markdown",
   "id": "satisfied-maker",
   "metadata": {},
   "source": [
    "## '빅'데이터 처리의 기본패턴   \n",
    "\n",
    "### 데이터분석의 Split-Apply-Combine Strateg\n",
    "- 컴퓨터 한 대로는 처리할 수 없는 분량의 데이터를 여러 대가 나눠서 처리하는 작업의 원리.   \n",
    "\n",
    "1) 많은 것을 잘게 나누어서 (Split)   \n",
    "2) 각각을 처리한 후에 (Apply)   \n",
    "3) 처리된 것들을 모아서 통합 결과물을 낸다(Combine)는    \n",
    "전략은 SQL의 GroupBy 문, R의 plyr 함수 등 다양한 곳에 적용되고 있음."
   ]
  },
  {
   "cell_type": "markdown",
   "id": "artistic-africa",
   "metadata": {},
   "source": [
    "## 병렬 컴퓨팅\n",
    "- 한 대의 컴퓨터 안에서 CPU 코어를 여러 개 사용해서 한 대의 컴퓨터가 처리하는 데이터의 총량과 처리속도를 증가시키자는 개념.\n",
    "\n",
    "### -  멀티 프로세스\n",
    "- 프로세스는 컴퓨터에서 연속적으로 실행되고 있는 컴퓨터 프로그램을 의미.\n",
    "- 스케줄링의 대상이 되는 작업(task)이라는 용어로도 쓰임.\n",
    "- 프로세스 관리는 OS에서 함.\n",
    "   \n",
    "### - 멀티 스레드   \n",
    "- 스레드(thread)는 어떠한 프로그램 내에서, 특히 프로세스 내에서 실행되는 흐름의 단위임.\n",
    "- 일반적으로 한 프로그램은 하나의 스레드를 가짐.\n",
    "- 멀티 스레드는 2개 이상의 스레드를 사용하는 것."
   ]
  },
  {
   "cell_type": "markdown",
   "id": "naughty-tension",
   "metadata": {},
   "source": [
    "## 분산 컴퓨팅\n",
    "- 여러 대의 컴퓨터가 네트워크로 연결된 상황을 전제로 하는 것.\n",
    "- P2P(Peer to Peer), HTTP, Network와 같은 네트워트 용어들이 중요하게 다뤄짐."
   ]
  },
  {
   "cell_type": "markdown",
   "id": "apart-request",
   "metadata": {},
   "source": [
    "## 클러스터 컴퓨팅\n",
    "- 클러스터 컴퓨팅이 위의 병렬 컴퓨팅과 분산 컴퓨팅을 통합하는 개념처럼 제시되고 있음.\n",
    "- 실제로 이 용어는 분산 컴퓨팅과 매우 혼용되고 있기도 함.\n",
    "- 여러 대의 컴퓨터들이 연결되어 하나의 시스템처럼 동작하는 컴퓨터들의 집합.\n",
    "- 보통 노드와 관리자로 구성 되어 있음.\n",
    "  - 클러스터 노드 : 프로세싱 자원을 제공하는 시스템.\n",
    "  - 클러스터 관리자 : 노드를 서로 연결하여 단일 시스템처럼 보이게 만드는 로직을 제공.\n",
    "- 병렬 컴퓨팅, 분산 컴퓨팅, 클라우드 컴퓨터 등이 대표적인 기술임."
   ]
  },
  {
   "cell_type": "markdown",
   "id": "through-buffer",
   "metadata": {},
   "source": [
    "## 클러스터\n",
    "- 여러 대의 컴퓨터들이 연결되어 있는 것.\n",
    "- 하둡, 스파크 같은 시스템들은 이런 클러스터 컴퓨팅을 전제로 설계된 시스템.\n",
    "- 컴퓨터를 어떻게 연결하고 컴퓨팅 자원을 관리할 것인지에 따라서 많은 클러스터 관련 기술이 알려져 있음."
   ]
  },
  {
   "cell_type": "markdown",
   "id": "unknown-syria",
   "metadata": {},
   "source": [
    "## 하둡\n",
    "- 하둡은 대용량 데이터를 분산 처리할 수 있는 자바 기반의 오픈소스 프레임워크.\n",
    "- 구글의 분산 파일 시스템이 나오면서 기술적 우위를 공고히 하게 되지만 GFS는 구글에서 공개를 하지 않음.\n",
    "- 아파치 재단(Apache Foundation)에서는 구글의 맵리듀스 및 GFS에 해당하는 HDFS(Hadoop File system)를 포함하는 하둡(Hadoop)이라는 오픈소스 프로젝트를 2006년 4월에 발표함.\n",
    "- 하둡은 오픈소스라는 강점을 내세워 대략의 데이터 처리를 지원하는 사실상의 표준 프레임워크로 군림하게 됨.\n",
    "- map함수가 모두 종료해야 reduce함수가 실행된다는 성능 손실이 크다는 약점을 하둡은 가짐. 이는 맵리듀스의 문제이기도 함.\n",
    "- 사실상 하둡으로 실시간 서비스를 제공하는 것을 불가능하게 했음.\n",
    "-  하둡은 빅데이터 기반의 배치성 통계작업에만 주로 투입되고 있음."
   ]
  },
  {
   "cell_type": "markdown",
   "id": "tight-coach",
   "metadata": {},
   "source": [
    "## 스파크(Spark)\n",
    "- 2009년에 처음 발표된 스파크(Spark)는 종래의 MapReduce 기능에서 Map함수가 전부 종료되지 않았더라도 Map의 결과를 스트리밍하는 방식으로, Map의 결과가 다 나와야만 Reduce를 수행한다는 전제를 깨버리게 됨.\n",
    "- 스파크는 인메모리 데이터 엔진을 통해 초기 맵리듀스의 성능상 한계를 크게 극복하게 됨.\n",
    "- 실제로 Spark의 성능은 Hadoop의 10배에 달하는 속도 우위를 보임.\n",
    "-  스파크의 또다른 특징 중에는, 자바(Java), 스칼라(Scala), 파이썬(Python), R 프로그래밍 언어를 위한 네이티브 바인딩을 제공해서, 다양한 언어가 필요한 환경에서 손쉽고 빠르게 스파크와 연동할 수 있음.\n",
    "- 서버사이드에서는 자바나 스칼라를 이용해 스파크를 구성하고, 데이터 분석가들은 친숙한 파이썬을 이용해 데이터를 처리하는 경우가 많음.\n",
    "- 스파크를 사용하게 되면, 마치 내 컴퓨터에 있는 csv파일을 Pandas로 읽어 DataFrame으로 분석하는 것처럼, 내 컴퓨터에는 저장도 하기 힘들만큼의 데이터를 DataFrame으로 처리할 수 있다는 장점이 있음."
   ]
  },
  {
   "cell_type": "markdown",
   "id": "encouraging-allen",
   "metadata": {},
   "source": [
    "하둡은 스파크가 제공하지 않는 HDFS같은 분산 파일 시스템을 제공하고 있음.   \n",
    "스파크 자체가 하둡 기반으로 구동하는 것을 목적으로 만들어졌기 때문에, 꼭 하둡이 필요한 것은 아니지만 하둡 기반으로 돌아가는 것을 추천함.   "
   ]
  },
  {
   "cell_type": "markdown",
   "id": "stuck-platform",
   "metadata": {},
   "source": [
    "## 파이썬을 이용한 맵리듀스 프로그래밍\n",
    "- 파이썬에서 함수는 1급 시민임.\n",
    "- 함수는 다른 함수의 인자로 전달될 수 있다. (= 인자(매개변수)로 전달이 가능)\n",
    "- 함수는 변수에 할당될 수 있다.\n",
    "- 함수는 다른 함수의 결과로서 반환될 수 있다. (=다른 함수의 반환값)\n",
    "- 위와 같은 기능을 할 수 있으면 1급 시민임."
   ]
  },
  {
   "cell_type": "code",
   "execution_count": 3,
   "id": "driving-desperate",
   "metadata": {},
   "outputs": [
    {
     "name": "stdout",
     "output_type": "stream",
     "text": [
      "슝=3\n"
     ]
    }
   ],
   "source": [
    "#함수는 다른 함수의 인자로 전달 될 수 있음.\n",
    "\n",
    "#에러메세지를 출력하는 함수\n",
    "def error_message(format_func, msg):\n",
    "    print(format_func(msg))\n",
    "\n",
    "#단어의 첫글자만 대문자로 만드는 함수\n",
    "def to_upper(msg):\n",
    "   return \" \".join(word.capitalize() for word in msg.split())\n",
    "\n",
    "print(\"슝=3\")"
   ]
  },
  {
   "cell_type": "code",
   "execution_count": 4,
   "id": "dried-sixth",
   "metadata": {},
   "outputs": [
    {
     "name": "stdout",
     "output_type": "stream",
     "text": [
      "You Have Limited Access\n"
     ]
    }
   ],
   "source": [
    "#error_message() 함수의 인자로 함수를 전달할 수 있음.\n",
    "msg = \"you have limited access\"\n",
    "error_message(to_upper, msg)"
   ]
  },
  {
   "cell_type": "code",
   "execution_count": 5,
   "id": "desirable-handle",
   "metadata": {},
   "outputs": [
    {
     "name": "stdout",
     "output_type": "stream",
     "text": [
      "슝=3\n"
     ]
    }
   ],
   "source": [
    "#함수는 변수에 할당 될 수 있음.\n",
    "#매개변수로 전달될 수 있다는 의미는 변수로써 할당이 가능하다는 뜻임.\n",
    "\n",
    "def france():\n",
    "    print('bonjour')\n",
    "\n",
    "def italy():\n",
    "    print('ciao')\n",
    "\n",
    "print(\"슝=3\")"
   ]
  },
  {
   "cell_type": "code",
   "execution_count": 6,
   "id": "western-mumbai",
   "metadata": {},
   "outputs": [
    {
     "name": "stdout",
     "output_type": "stream",
     "text": [
      "<function france at 0x7fabb403aa70>\n"
     ]
    }
   ],
   "source": [
    "#hello란 변수에 france() 함수를 할당\n",
    "hello = france\n",
    "print(hello)"
   ]
  },
  {
   "cell_type": "code",
   "execution_count": 7,
   "id": "graduate-secondary",
   "metadata": {},
   "outputs": [
    {
     "name": "stdout",
     "output_type": "stream",
     "text": [
      "bonjour\n"
     ]
    }
   ],
   "source": [
    "#hello는 함수처럼 사용이 가능\n",
    "hello()"
   ]
  },
  {
   "cell_type": "code",
   "execution_count": 8,
   "id": "characteristic-wright",
   "metadata": {},
   "outputs": [
    {
     "name": "stdout",
     "output_type": "stream",
     "text": [
      "<class 'function'>\n"
     ]
    }
   ],
   "source": [
    "print(type(hello))"
   ]
  },
  {
   "cell_type": "code",
   "execution_count": 9,
   "id": "public-humanity",
   "metadata": {},
   "outputs": [
    {
     "name": "stdout",
     "output_type": "stream",
     "text": [
      "슝=3\n"
     ]
    }
   ],
   "source": [
    "#함수는 다른 함수의 결과로서 반환될 수 있음.\n",
    "def func1(x):\n",
    "    return x**2\n",
    "\n",
    "def func2():\n",
    "    return func1\n",
    "\n",
    "print(\"슝=3\")"
   ]
  },
  {
   "cell_type": "code",
   "execution_count": 10,
   "id": "antique-blood",
   "metadata": {},
   "outputs": [
    {
     "name": "stdout",
     "output_type": "stream",
     "text": [
      "9\n",
      "9\n"
     ]
    }
   ],
   "source": [
    "print(func1(3))\n",
    "print(func2()(3))"
   ]
  },
  {
   "cell_type": "markdown",
   "id": "color-mobility",
   "metadata": {},
   "source": [
    "## 데이터 컬렉션\n",
    "- 파이썬 자료 구조 중에 List, Tuple, Dictionary, Set와 같은 형태의 자료형을 컬렉션(Collection) 이라고 하기도 함. 다른 말로는 컨테이너라고도 함.\n",
    "- 파이썬에서 함수를 데이터 컬렉션에 적용하는 패턴에는 map, filter, reduce가 있음."
   ]
  },
  {
   "cell_type": "code",
   "execution_count": 11,
   "id": "acknowledged-danger",
   "metadata": {},
   "outputs": [
    {
     "name": "stdout",
     "output_type": "stream",
     "text": [
      "슝=3\n"
     ]
    }
   ],
   "source": [
    "import collections\n",
    "print(\"슝=3\")\n",
    "#파이썬은 collections 컬렉션 모듈을 통해서 위 자료형 외 데이터 컬렉션 타입을 제공"
   ]
  },
  {
   "cell_type": "code",
   "execution_count": 12,
   "id": "beginning-brisbane",
   "metadata": {},
   "outputs": [
    {
     "name": "stdout",
     "output_type": "stream",
     "text": [
      "defaultdict(<class 'int'>, {'I': 7, 'have': 1, 'a': 2, 'depression,': 1, 'and': 2, 'then': 1, 'there': 1, 'was': 2, 'girl': 2, 'who': 1, 'came': 1, 'into': 1, 'my': 3, 'life.': 2, 'One': 1, 'day,': 1, 'life': 1, 'changed': 2, 'because': 2, 'that': 1, 'just': 1, 'She': 1, 'taught': 1, 'me': 1, 'how': 2, 'to': 3, 'love': 2, 'be': 1, 'an': 1, 'active': 1, 'person.': 1, 'And': 1, 'then,': 1, 'feel': 1, 'so': 2, 'happy': 1, 'when': 1, 'am': 2, 'always': 1, 'with': 2, 'her.': 1, 'her': 4, 'much.': 1, \"don't\": 1, 'want': 1, 'let': 1, 'go.': 1, 'sad': 1, 'she': 1, 'is': 1, 'favorite': 1, 'friends.': 1, 'will': 1, 'do': 1, 'anything': 1, 'make': 1, 'proud': 1})\n"
     ]
    }
   ],
   "source": [
    "#defaultdict 자료구조를 이용하여 다음 문장에 쓰인 단어의 개수를 세는 코드\n",
    "#단어는 공백을 기준으로 구분되며, don't과 같은 축약형 단어는 한 단어로 취급\n",
    "from collections import defaultdict\n",
    "\n",
    "text = \"\"\"I have a depression, and then there was a girl who came into \n",
    "my life. One day, my life was changed because that girl just changed my \n",
    "life. She taught me how to love and how to be an active person. \n",
    "And then, I feel so happy when I am always with her. \n",
    "I love her so much. I don't want let her go. I am sad because she \n",
    "is with her favorite friends. I will do anything to make her proud\"\"\"\n",
    "\n",
    "result = defaultdict(int)\n",
    "word = text.split()\n",
    "\n",
    "for i in word:\n",
    "    result[i] += 1\n",
    "\n",
    "print(result)"
   ]
  },
  {
   "cell_type": "markdown",
   "id": "adjacent-enforcement",
   "metadata": {},
   "source": [
    "## 매핑(map)"
   ]
  },
  {
   "cell_type": "code",
   "execution_count": 13,
   "id": "successful-workshop",
   "metadata": {},
   "outputs": [
    {
     "name": "stdout",
     "output_type": "stream",
     "text": [
      "[1, 2, 3, 4]\n",
      "[1, 4, 9, 16]\n"
     ]
    }
   ],
   "source": [
    "mynum = ['1','2','3','4']\n",
    "mynum_int = list(map(int, mynum))  # mynum의 각 원소에 int 함수를 적용\n",
    "print(mynum_int)\n",
    "\n",
    "mynum_square = list(map(lambda x : x*x, mynum_int))  # mynum_int의 각 원소 x에 lambda x : x*x 함수를 적용\n",
    "print(mynum_square)"
   ]
  },
  {
   "cell_type": "markdown",
   "id": "substantial-right",
   "metadata": {},
   "source": [
    "## 필터링(filter)"
   ]
  },
  {
   "cell_type": "code",
   "execution_count": 14,
   "id": "desperate-mistake",
   "metadata": {},
   "outputs": [
    {
     "name": "stdout",
     "output_type": "stream",
     "text": [
      "[1, 2, 3, 4]\n"
     ]
    }
   ],
   "source": [
    "mynum = range(-5, 5)  \n",
    "mynum_plus = list(filter(lambda x: x > 0, mynum)) # mynum의 각 원소 x에 대해 lambda x: x > 0 인지 체크하는 필터를 적용\n",
    "print(mynum_plus)"
   ]
  },
  {
   "cell_type": "markdown",
   "id": "wrong-nirvana",
   "metadata": {},
   "source": [
    "## 리듀싱(reduce)"
   ]
  },
  {
   "cell_type": "code",
   "execution_count": 15,
   "id": "civil-universal",
   "metadata": {},
   "outputs": [
    {
     "name": "stdout",
     "output_type": "stream",
     "text": [
      "15\n"
     ]
    }
   ],
   "source": [
    "from functools import reduce\n",
    "mynum = [1, 2, 3, 4, 5]\n",
    "add = reduce((lambda x, y: x + y), mynum)  # reduce는 내부에 관리하는 x 변수에 mynum의 각 원소 y를 차례차례 더하여 x에 반영한다.\n",
    "\n",
    "print(add)"
   ]
  },
  {
   "cell_type": "markdown",
   "id": "extreme-complex",
   "metadata": {},
   "source": [
    "## 맵리듀스 예제 - 알파벳 수 찾기\n",
    "- 맵리듀스는 4가지 단계가 있음.\n",
    "- Split - Map - Shuffle - Reduce\n",
    "- nput과 Output은 각각의 키-값 쌍으로 존재.\n",
    "- 각각의 단계는 크게 Map Task와 Reduce Task로 구분할 수 있음."
   ]
  },
  {
   "cell_type": "code",
   "execution_count": 16,
   "id": "dietary-walnut",
   "metadata": {},
   "outputs": [
    {
     "name": "stdout",
     "output_type": "stream",
     "text": [
      "슝=3\n"
     ]
    }
   ],
   "source": [
    "#mapper(매퍼) : 입력 데이터를 나누고 매핑\n",
    "#input data\n",
    "text = 'hello python'\n",
    "\n",
    "def mapper(text):\n",
    "    split = []\n",
    "    for i in text:\n",
    "        split.append((i, 1))\n",
    "    return split\n",
    "\n",
    "print(\"슝=3\")"
   ]
  },
  {
   "cell_type": "code",
   "execution_count": 17,
   "id": "weird-thesis",
   "metadata": {},
   "outputs": [
    {
     "name": "stdout",
     "output_type": "stream",
     "text": [
      "슝=3\n"
     ]
    }
   ],
   "source": [
    "#reducer : 매퍼에서 입력 받은 값 중 같은 항목을 합침\n",
    "def reducer(split):\n",
    "    out = {}\n",
    "    for i in split:\n",
    "        if i[0] not in out.keys():\n",
    "            out[i[0]] = 1\n",
    "        else:\n",
    "            out[i[0]] += 1\n",
    "    return out\n",
    "\n",
    "print(\"슝=3\")"
   ]
  },
  {
   "cell_type": "code",
   "execution_count": 18,
   "id": "purple-weekend",
   "metadata": {},
   "outputs": [
    {
     "data": {
      "text/plain": [
       "{'h': 2, 'e': 1, 'l': 2, 'o': 2, ' ': 1, 'p': 1, 'y': 1, 't': 1, 'n': 1}"
      ]
     },
     "execution_count": 18,
     "metadata": {},
     "output_type": "execute_result"
    }
   ],
   "source": [
    "#mapreduce : 출력\n",
    "reducer(mapper(text))"
   ]
  },
  {
   "cell_type": "code",
   "execution_count": null,
   "id": "accessible-owner",
   "metadata": {},
   "outputs": [],
   "source": []
  }
 ],
 "metadata": {
  "kernelspec": {
   "display_name": "Python 3",
   "language": "python",
   "name": "python3"
  },
  "language_info": {
   "codemirror_mode": {
    "name": "ipython",
    "version": 3
   },
   "file_extension": ".py",
   "mimetype": "text/x-python",
   "name": "python",
   "nbconvert_exporter": "python",
   "pygments_lexer": "ipython3",
   "version": "3.7.9"
  }
 },
 "nbformat": 4,
 "nbformat_minor": 5
}
