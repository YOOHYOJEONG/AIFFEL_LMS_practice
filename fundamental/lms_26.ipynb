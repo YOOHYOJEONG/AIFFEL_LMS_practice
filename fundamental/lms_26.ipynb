{
 "cells": [
  {
   "cell_type": "markdown",
   "id": "technological-former",
   "metadata": {},
   "source": [
    "# 데이터 관리 프로그램 만들기"
   ]
  },
  {
   "cell_type": "code",
   "execution_count": 1,
   "id": "advanced-process",
   "metadata": {},
   "outputs": [
    {
     "name": "stdout",
     "output_type": "stream",
     "text": [
      "슝=3\n"
     ]
    }
   ],
   "source": [
    "class Employee:\n",
    "    def __init__ (self, name, division, jobgrade, years, basic):\n",
    "        self.name = name\n",
    "        self.division = division\n",
    "        self.jobgrade = int(jobgrade)\n",
    "        self.years = int(years)\n",
    "        self.basic = float(basic)\n",
    "\n",
    "print('슝=3')\n",
    "#텍스트 파일에서 불러온 각각의 데이터는 string으로 처리되므로 형 변환을 해야함."
   ]
  },
  {
   "cell_type": "code",
   "execution_count": 2,
   "id": "joint-introduction",
   "metadata": {},
   "outputs": [],
   "source": [
    "employee1 = Employee('Ahn TaeHee', 'AI Team', '3', '3', '300')"
   ]
  },
  {
   "cell_type": "code",
   "execution_count": 3,
   "id": "naval-rwanda",
   "metadata": {},
   "outputs": [
    {
     "name": "stdout",
     "output_type": "stream",
     "text": [
      "슝=3\n"
     ]
    }
   ],
   "source": [
    "#파일을 한줄씩 읽은 후 데이터 값을 사용해 자동으로 인스턴스 객체를 만드는 함수.\n",
    "def make_employee(inputdata):\n",
    "    name, division, jopgrade, year, basic = inputdata.split(',')\n",
    "    return Employee(name, division, jopgrade, year, basic)\n",
    "print('슝=3')"
   ]
  },
  {
   "cell_type": "code",
   "execution_count": 4,
   "id": "dramatic-investor",
   "metadata": {},
   "outputs": [
    {
     "name": "stdout",
     "output_type": "stream",
     "text": [
      "/aiffel/aiffel/data_handling/data/employeefile.txt\n"
     ]
    }
   ],
   "source": [
    "import os\n",
    "file_path = os.getenv(\"HOME\") + '/aiffel/data_handling/data/employeefile.txt'\n",
    "print(file_path)\n",
    "inputfile = open(file_path, 'r')\n",
    "\n",
    "for i in inputfile:\n",
    "    e = make_employee(i)"
   ]
  },
  {
   "cell_type": "markdown",
   "id": "banner-timer",
   "metadata": {},
   "source": [
    "## 정보 접근자 메소드"
   ]
  },
  {
   "cell_type": "code",
   "execution_count": 5,
   "id": "minimal-christmas",
   "metadata": {},
   "outputs": [
    {
     "name": "stdout",
     "output_type": "stream",
     "text": [
      "슝=3\n"
     ]
    }
   ],
   "source": [
    "class Employee:\n",
    "    def get_name(self):\n",
    "        return self.name\n",
    "    def get_division(self):\n",
    "        return self.division\n",
    "    def get_jobgrade(self):\n",
    "        return self.jobgrade\n",
    "    def get_years(self):\n",
    "        return self.years\n",
    "    def get_basic(self):\n",
    "        return self.basic\n",
    "\n",
    "print('슝=3')"
   ]
  },
  {
   "cell_type": "code",
   "execution_count": 6,
   "id": "sixth-disney",
   "metadata": {},
   "outputs": [],
   "source": [
    "#급여 계산 함수\n",
    "def get_salary(self):\n",
    "    self.salary = self.basic + (self.basic * self.years * 0.1)\n",
    "    return self.salary"
   ]
  },
  {
   "cell_type": "markdown",
   "id": "danish-holmes",
   "metadata": {},
   "source": [
    "## 최종 Employee 클래스"
   ]
  },
  {
   "cell_type": "code",
   "execution_count": 7,
   "id": "nasty-importance",
   "metadata": {},
   "outputs": [
    {
     "name": "stdout",
     "output_type": "stream",
     "text": [
      "슝=3\n"
     ]
    }
   ],
   "source": [
    "#salary에 초기값 0 설정\n",
    "class Employee:\n",
    "    def __init__ (self, name, division, jobgrade, years, basic):\n",
    "        self.name = name\n",
    "        self.division = division\n",
    "        self.jobgrade = int(jobgrade)\n",
    "        self.years = int(years)\n",
    "        self.basic = float(basic)\n",
    "        self.salary = 0\n",
    "\n",
    "    def get_name(self):\n",
    "        return self.name\n",
    "\n",
    "    def get_divison(self):\n",
    "        return self.division\n",
    "    \n",
    "    def get_jobgrade(self):\n",
    "        return self.jobgrade\n",
    "    \n",
    "    def get_years(self):\n",
    "        return self.years\n",
    "    \n",
    "    def get_basic(self):\n",
    "        return self.basic\n",
    "\n",
    "    def get_salary(self):\n",
    "        self.salary = self.basic + (self.basic * self.years * 0.1)\n",
    "        return self.salary\n",
    "\n",
    "print('슝=3')"
   ]
  },
  {
   "cell_type": "markdown",
   "id": "rapid-italian",
   "metadata": {},
   "source": [
    "## 최종 코드"
   ]
  },
  {
   "cell_type": "code",
   "execution_count": 8,
   "id": "decreased-story",
   "metadata": {},
   "outputs": [
    {
     "name": "stdout",
     "output_type": "stream",
     "text": [
      "슝=3\n"
     ]
    }
   ],
   "source": [
    "#파일 열고 각 사원의 월급 비교 후 가장 높은 월급 가진 사원의 정보 출력\n",
    "\n",
    "import os\n",
    "\n",
    "class Employee:\n",
    "    def __init__ (self, name, division, jobgrade, years, basic):\n",
    "        self.name = name\n",
    "        self.division = division\n",
    "        self.jobgrade = int(jobgrade)\n",
    "        self.years = int(years)\n",
    "        self.basic = float(basic)\n",
    "        self.salary = 0\n",
    "\n",
    "    def get_name(self):\n",
    "        return self.name\n",
    "\n",
    "    def get_division(self):\n",
    "        return self.division\n",
    "    \n",
    "    def get_jobgrade(self):\n",
    "        return self.jobgrade\n",
    "    \n",
    "    def get_years(self):\n",
    "        return self.years\n",
    "    \n",
    "    def get_basic(self):\n",
    "        return self.basic\n",
    "\n",
    "    def get_salary(self):\n",
    "        self.salary = self.basic + (self.basic * self.years * 0.1)\n",
    "        return self.salary\n",
    "\n",
    "def make_employee(inputdata):\n",
    "    name, division, jopgrade, year, basic = inputdata.split(',')\n",
    "    return Employee(name, division, jopgrade, year, basic)\n",
    "\n",
    "def summarize():\n",
    "    file_path = os.getenv(\"HOME\") + '/aiffel/data_handling/data/employeefile.txt'\n",
    "    inputfile = open(file_path, 'r')\n",
    "    highest = make_employee(inputfile.readline())\n",
    "    for l in inputfile:\n",
    "        e = make_employee(l)\n",
    "        if e.get_salary() > highest.get_salary():\n",
    "            highest = e\n",
    "    inputfile.close()\n",
    "    \n",
    "    print(\"The name of the highest salary employee is: \", highest.get_name())\n",
    "    print(\"Years of service: \", highest.get_years())\n",
    "    print(\"Division: \", highest.get_division())\n",
    "    print(\"Salay: \", highest.get_salary())\n",
    "\n",
    "print('슝=3')"
   ]
  },
  {
   "cell_type": "code",
   "execution_count": 9,
   "id": "french-picnic",
   "metadata": {},
   "outputs": [
    {
     "name": "stdout",
     "output_type": "stream",
     "text": [
      "The name of the highest salary employee is:  Kim YoungJae\n",
      "Years of service:  7\n",
      "Division:   Sales\n",
      "Salay:  1020.0\n"
     ]
    }
   ],
   "source": [
    "summarize()"
   ]
  },
  {
   "cell_type": "markdown",
   "id": "altered-insight",
   "metadata": {},
   "source": [
    "## 데이터 병합"
   ]
  },
  {
   "cell_type": "code",
   "execution_count": 10,
   "id": "emotional-double",
   "metadata": {},
   "outputs": [
    {
     "name": "stdout",
     "output_type": "stream",
     "text": [
      "       Student  Korean  English\n",
      "0    KimTaemin      90       80\n",
      "1     HaJaehwa      85       90\n",
      "2  JungSayoung      88       40\n",
      "3     Sonjimin      35       44\n",
      "4    Leesoomin      40       55\n",
      "5      KangJun      44       90\n",
      "---\n",
      "       Student  Math\n",
      "0    KimTaemin   100\n",
      "1     HaJaehwa    55\n",
      "2  JungSayoung    38\n",
      "3     Sonjimin    43\n",
      "4    Leesoomin    68\n",
      "5      KangJun    82\n"
     ]
    }
   ],
   "source": [
    "import pandas as pd\n",
    "\n",
    "df1 = pd.DataFrame({'Student': ['KimTaemin','HaJaehwa','JungSayoung','Sonjimin','Leesoomin','KangJun'],\n",
    "                    'Korean': [90, 85, 88, 35, 40, 44],\n",
    "                    'English': [80, 90, 40, 44, 55, 90]})\n",
    "df2 = pd.DataFrame({'Student': ['KimTaemin','HaJaehwa','JungSayoung','Sonjimin','Leesoomin','KangJun'],\n",
    "                    'Math': [100, 55, 38, 43, 68, 82]})\n",
    "\n",
    "print(df1)\n",
    "print('---')\n",
    "print(df2)"
   ]
  },
  {
   "cell_type": "code",
   "execution_count": 11,
   "id": "circular-providence",
   "metadata": {},
   "outputs": [
    {
     "data": {
      "text/html": [
       "<div>\n",
       "<style scoped>\n",
       "    .dataframe tbody tr th:only-of-type {\n",
       "        vertical-align: middle;\n",
       "    }\n",
       "\n",
       "    .dataframe tbody tr th {\n",
       "        vertical-align: top;\n",
       "    }\n",
       "\n",
       "    .dataframe thead th {\n",
       "        text-align: right;\n",
       "    }\n",
       "</style>\n",
       "<table border=\"1\" class=\"dataframe\">\n",
       "  <thead>\n",
       "    <tr style=\"text-align: right;\">\n",
       "      <th></th>\n",
       "      <th>Student</th>\n",
       "      <th>Korean</th>\n",
       "      <th>English</th>\n",
       "      <th>Math</th>\n",
       "    </tr>\n",
       "  </thead>\n",
       "  <tbody>\n",
       "    <tr>\n",
       "      <th>0</th>\n",
       "      <td>KimTaemin</td>\n",
       "      <td>90</td>\n",
       "      <td>80</td>\n",
       "      <td>100</td>\n",
       "    </tr>\n",
       "    <tr>\n",
       "      <th>1</th>\n",
       "      <td>HaJaehwa</td>\n",
       "      <td>85</td>\n",
       "      <td>90</td>\n",
       "      <td>55</td>\n",
       "    </tr>\n",
       "    <tr>\n",
       "      <th>2</th>\n",
       "      <td>JungSayoung</td>\n",
       "      <td>88</td>\n",
       "      <td>40</td>\n",
       "      <td>38</td>\n",
       "    </tr>\n",
       "    <tr>\n",
       "      <th>3</th>\n",
       "      <td>Sonjimin</td>\n",
       "      <td>35</td>\n",
       "      <td>44</td>\n",
       "      <td>43</td>\n",
       "    </tr>\n",
       "    <tr>\n",
       "      <th>4</th>\n",
       "      <td>Leesoomin</td>\n",
       "      <td>40</td>\n",
       "      <td>55</td>\n",
       "      <td>68</td>\n",
       "    </tr>\n",
       "    <tr>\n",
       "      <th>5</th>\n",
       "      <td>KangJun</td>\n",
       "      <td>44</td>\n",
       "      <td>90</td>\n",
       "      <td>82</td>\n",
       "    </tr>\n",
       "  </tbody>\n",
       "</table>\n",
       "</div>"
      ],
      "text/plain": [
       "       Student  Korean  English  Math\n",
       "0    KimTaemin      90       80   100\n",
       "1     HaJaehwa      85       90    55\n",
       "2  JungSayoung      88       40    38\n",
       "3     Sonjimin      35       44    43\n",
       "4    Leesoomin      40       55    68\n",
       "5      KangJun      44       90    82"
      ]
     },
     "execution_count": 11,
     "metadata": {},
     "output_type": "execute_result"
    }
   ],
   "source": [
    "pd.merge(df1, df2)"
   ]
  },
  {
   "cell_type": "code",
   "execution_count": 12,
   "id": "silent-disorder",
   "metadata": {},
   "outputs": [
    {
     "data": {
      "text/html": [
       "<div>\n",
       "<style scoped>\n",
       "    .dataframe tbody tr th:only-of-type {\n",
       "        vertical-align: middle;\n",
       "    }\n",
       "\n",
       "    .dataframe tbody tr th {\n",
       "        vertical-align: top;\n",
       "    }\n",
       "\n",
       "    .dataframe thead th {\n",
       "        text-align: right;\n",
       "    }\n",
       "</style>\n",
       "<table border=\"1\" class=\"dataframe\">\n",
       "  <thead>\n",
       "    <tr style=\"text-align: right;\">\n",
       "      <th></th>\n",
       "      <th>Student</th>\n",
       "      <th>Korean</th>\n",
       "      <th>English</th>\n",
       "      <th>Math</th>\n",
       "    </tr>\n",
       "  </thead>\n",
       "  <tbody>\n",
       "    <tr>\n",
       "      <th>0</th>\n",
       "      <td>KimTaemin</td>\n",
       "      <td>90</td>\n",
       "      <td>80</td>\n",
       "      <td>100</td>\n",
       "    </tr>\n",
       "    <tr>\n",
       "      <th>1</th>\n",
       "      <td>HaJaehwa</td>\n",
       "      <td>85</td>\n",
       "      <td>90</td>\n",
       "      <td>55</td>\n",
       "    </tr>\n",
       "    <tr>\n",
       "      <th>2</th>\n",
       "      <td>JungSayoung</td>\n",
       "      <td>88</td>\n",
       "      <td>40</td>\n",
       "      <td>38</td>\n",
       "    </tr>\n",
       "    <tr>\n",
       "      <th>3</th>\n",
       "      <td>Sonjimin</td>\n",
       "      <td>35</td>\n",
       "      <td>44</td>\n",
       "      <td>43</td>\n",
       "    </tr>\n",
       "    <tr>\n",
       "      <th>4</th>\n",
       "      <td>Leesoomin</td>\n",
       "      <td>40</td>\n",
       "      <td>55</td>\n",
       "      <td>68</td>\n",
       "    </tr>\n",
       "    <tr>\n",
       "      <th>5</th>\n",
       "      <td>KangJun</td>\n",
       "      <td>44</td>\n",
       "      <td>90</td>\n",
       "      <td>82</td>\n",
       "    </tr>\n",
       "  </tbody>\n",
       "</table>\n",
       "</div>"
      ],
      "text/plain": [
       "       Student  Korean  English  Math\n",
       "0    KimTaemin      90       80   100\n",
       "1     HaJaehwa      85       90    55\n",
       "2  JungSayoung      88       40    38\n",
       "3     Sonjimin      35       44    43\n",
       "4    Leesoomin      40       55    68\n",
       "5      KangJun      44       90    82"
      ]
     },
     "execution_count": 12,
     "metadata": {},
     "output_type": "execute_result"
    }
   ],
   "source": [
    "pd.merge(df1, df2, on='Student')"
   ]
  },
  {
   "cell_type": "code",
   "execution_count": 13,
   "id": "liquid-channels",
   "metadata": {},
   "outputs": [
    {
     "data": {
      "text/html": [
       "<div>\n",
       "<style scoped>\n",
       "    .dataframe tbody tr th:only-of-type {\n",
       "        vertical-align: middle;\n",
       "    }\n",
       "\n",
       "    .dataframe tbody tr th {\n",
       "        vertical-align: top;\n",
       "    }\n",
       "\n",
       "    .dataframe thead th {\n",
       "        text-align: right;\n",
       "    }\n",
       "</style>\n",
       "<table border=\"1\" class=\"dataframe\">\n",
       "  <thead>\n",
       "    <tr style=\"text-align: right;\">\n",
       "      <th></th>\n",
       "      <th>Student</th>\n",
       "      <th>Korean</th>\n",
       "      <th>English</th>\n",
       "      <th>Math</th>\n",
       "    </tr>\n",
       "  </thead>\n",
       "  <tbody>\n",
       "    <tr>\n",
       "      <th>0</th>\n",
       "      <td>KimTaemin</td>\n",
       "      <td>90</td>\n",
       "      <td>80</td>\n",
       "      <td>100</td>\n",
       "    </tr>\n",
       "    <tr>\n",
       "      <th>1</th>\n",
       "      <td>HaJaehwa</td>\n",
       "      <td>85</td>\n",
       "      <td>90</td>\n",
       "      <td>55</td>\n",
       "    </tr>\n",
       "    <tr>\n",
       "      <th>2</th>\n",
       "      <td>JungSayoung</td>\n",
       "      <td>88</td>\n",
       "      <td>40</td>\n",
       "      <td>38</td>\n",
       "    </tr>\n",
       "    <tr>\n",
       "      <th>3</th>\n",
       "      <td>Sonjimin</td>\n",
       "      <td>35</td>\n",
       "      <td>44</td>\n",
       "      <td>43</td>\n",
       "    </tr>\n",
       "    <tr>\n",
       "      <th>4</th>\n",
       "      <td>Leesoomin</td>\n",
       "      <td>40</td>\n",
       "      <td>55</td>\n",
       "      <td>68</td>\n",
       "    </tr>\n",
       "    <tr>\n",
       "      <th>5</th>\n",
       "      <td>KangJun</td>\n",
       "      <td>44</td>\n",
       "      <td>90</td>\n",
       "      <td>82</td>\n",
       "    </tr>\n",
       "  </tbody>\n",
       "</table>\n",
       "</div>"
      ],
      "text/plain": [
       "       Student  Korean  English  Math\n",
       "0    KimTaemin      90       80   100\n",
       "1     HaJaehwa      85       90    55\n",
       "2  JungSayoung      88       40    38\n",
       "3     Sonjimin      35       44    43\n",
       "4    Leesoomin      40       55    68\n",
       "5      KangJun      44       90    82"
      ]
     },
     "execution_count": 13,
     "metadata": {},
     "output_type": "execute_result"
    }
   ],
   "source": [
    "#공통 데이터에 대해서 병합\n",
    "\n",
    "pd.merge(df1, df2, how='inner')"
   ]
  },
  {
   "cell_type": "code",
   "execution_count": 14,
   "id": "preliminary-nomination",
   "metadata": {},
   "outputs": [
    {
     "data": {
      "text/html": [
       "<div>\n",
       "<style scoped>\n",
       "    .dataframe tbody tr th:only-of-type {\n",
       "        vertical-align: middle;\n",
       "    }\n",
       "\n",
       "    .dataframe tbody tr th {\n",
       "        vertical-align: top;\n",
       "    }\n",
       "\n",
       "    .dataframe thead th {\n",
       "        text-align: right;\n",
       "    }\n",
       "</style>\n",
       "<table border=\"1\" class=\"dataframe\">\n",
       "  <thead>\n",
       "    <tr style=\"text-align: right;\">\n",
       "      <th></th>\n",
       "      <th>Student</th>\n",
       "      <th>Korean</th>\n",
       "      <th>English</th>\n",
       "      <th>Math</th>\n",
       "    </tr>\n",
       "  </thead>\n",
       "  <tbody>\n",
       "    <tr>\n",
       "      <th>0</th>\n",
       "      <td>KimTaemin</td>\n",
       "      <td>90</td>\n",
       "      <td>80</td>\n",
       "      <td>100</td>\n",
       "    </tr>\n",
       "    <tr>\n",
       "      <th>1</th>\n",
       "      <td>HaJaehwa</td>\n",
       "      <td>85</td>\n",
       "      <td>90</td>\n",
       "      <td>55</td>\n",
       "    </tr>\n",
       "    <tr>\n",
       "      <th>2</th>\n",
       "      <td>JungSayoung</td>\n",
       "      <td>88</td>\n",
       "      <td>40</td>\n",
       "      <td>38</td>\n",
       "    </tr>\n",
       "    <tr>\n",
       "      <th>3</th>\n",
       "      <td>Sonjimin</td>\n",
       "      <td>35</td>\n",
       "      <td>44</td>\n",
       "      <td>43</td>\n",
       "    </tr>\n",
       "    <tr>\n",
       "      <th>4</th>\n",
       "      <td>Leesoomin</td>\n",
       "      <td>40</td>\n",
       "      <td>55</td>\n",
       "      <td>68</td>\n",
       "    </tr>\n",
       "    <tr>\n",
       "      <th>5</th>\n",
       "      <td>KangJun</td>\n",
       "      <td>44</td>\n",
       "      <td>90</td>\n",
       "      <td>82</td>\n",
       "    </tr>\n",
       "  </tbody>\n",
       "</table>\n",
       "</div>"
      ],
      "text/plain": [
       "       Student  Korean  English  Math\n",
       "0    KimTaemin      90       80   100\n",
       "1     HaJaehwa      85       90    55\n",
       "2  JungSayoung      88       40    38\n",
       "3     Sonjimin      35       44    43\n",
       "4    Leesoomin      40       55    68\n",
       "5      KangJun      44       90    82"
      ]
     },
     "execution_count": 14,
     "metadata": {},
     "output_type": "execute_result"
    }
   ],
   "source": [
    "pd.merge(df1, df2)"
   ]
  },
  {
   "cell_type": "code",
   "execution_count": 15,
   "id": "aggressive-kitchen",
   "metadata": {},
   "outputs": [
    {
     "data": {
      "text/html": [
       "<div>\n",
       "<style scoped>\n",
       "    .dataframe tbody tr th:only-of-type {\n",
       "        vertical-align: middle;\n",
       "    }\n",
       "\n",
       "    .dataframe tbody tr th {\n",
       "        vertical-align: top;\n",
       "    }\n",
       "\n",
       "    .dataframe thead th {\n",
       "        text-align: right;\n",
       "    }\n",
       "</style>\n",
       "<table border=\"1\" class=\"dataframe\">\n",
       "  <thead>\n",
       "    <tr style=\"text-align: right;\">\n",
       "      <th></th>\n",
       "      <th>Student</th>\n",
       "      <th>Korean</th>\n",
       "      <th>English</th>\n",
       "      <th>Math</th>\n",
       "    </tr>\n",
       "  </thead>\n",
       "  <tbody>\n",
       "    <tr>\n",
       "      <th>0</th>\n",
       "      <td>KimTaemin</td>\n",
       "      <td>90</td>\n",
       "      <td>80</td>\n",
       "      <td>100</td>\n",
       "    </tr>\n",
       "    <tr>\n",
       "      <th>1</th>\n",
       "      <td>HaJaehwa</td>\n",
       "      <td>85</td>\n",
       "      <td>90</td>\n",
       "      <td>55</td>\n",
       "    </tr>\n",
       "    <tr>\n",
       "      <th>2</th>\n",
       "      <td>JungSayoung</td>\n",
       "      <td>88</td>\n",
       "      <td>40</td>\n",
       "      <td>38</td>\n",
       "    </tr>\n",
       "    <tr>\n",
       "      <th>3</th>\n",
       "      <td>Sonjimin</td>\n",
       "      <td>35</td>\n",
       "      <td>44</td>\n",
       "      <td>43</td>\n",
       "    </tr>\n",
       "    <tr>\n",
       "      <th>4</th>\n",
       "      <td>Leesoomin</td>\n",
       "      <td>40</td>\n",
       "      <td>55</td>\n",
       "      <td>68</td>\n",
       "    </tr>\n",
       "    <tr>\n",
       "      <th>5</th>\n",
       "      <td>KangJun</td>\n",
       "      <td>44</td>\n",
       "      <td>90</td>\n",
       "      <td>82</td>\n",
       "    </tr>\n",
       "  </tbody>\n",
       "</table>\n",
       "</div>"
      ],
      "text/plain": [
       "       Student  Korean  English  Math\n",
       "0    KimTaemin      90       80   100\n",
       "1     HaJaehwa      85       90    55\n",
       "2  JungSayoung      88       40    38\n",
       "3     Sonjimin      35       44    43\n",
       "4    Leesoomin      40       55    68\n",
       "5      KangJun      44       90    82"
      ]
     },
     "execution_count": 15,
     "metadata": {},
     "output_type": "execute_result"
    }
   ],
   "source": [
    "#전체 데이터에 병합\n",
    "pd.merge(df1, df2, how='outer')"
   ]
  },
  {
   "cell_type": "code",
   "execution_count": 16,
   "id": "expired-astrology",
   "metadata": {},
   "outputs": [
    {
     "data": {
      "text/html": [
       "<div>\n",
       "<style scoped>\n",
       "    .dataframe tbody tr th:only-of-type {\n",
       "        vertical-align: middle;\n",
       "    }\n",
       "\n",
       "    .dataframe tbody tr th {\n",
       "        vertical-align: top;\n",
       "    }\n",
       "\n",
       "    .dataframe thead th {\n",
       "        text-align: right;\n",
       "    }\n",
       "</style>\n",
       "<table border=\"1\" class=\"dataframe\">\n",
       "  <thead>\n",
       "    <tr style=\"text-align: right;\">\n",
       "      <th></th>\n",
       "      <th>Student_caller</th>\n",
       "      <th>Korean</th>\n",
       "      <th>English</th>\n",
       "      <th>Student_other</th>\n",
       "      <th>Math</th>\n",
       "    </tr>\n",
       "  </thead>\n",
       "  <tbody>\n",
       "    <tr>\n",
       "      <th>0</th>\n",
       "      <td>KimTaemin</td>\n",
       "      <td>90</td>\n",
       "      <td>80</td>\n",
       "      <td>KimTaemin</td>\n",
       "      <td>100</td>\n",
       "    </tr>\n",
       "    <tr>\n",
       "      <th>1</th>\n",
       "      <td>HaJaehwa</td>\n",
       "      <td>85</td>\n",
       "      <td>90</td>\n",
       "      <td>HaJaehwa</td>\n",
       "      <td>55</td>\n",
       "    </tr>\n",
       "    <tr>\n",
       "      <th>2</th>\n",
       "      <td>JungSayoung</td>\n",
       "      <td>88</td>\n",
       "      <td>40</td>\n",
       "      <td>JungSayoung</td>\n",
       "      <td>38</td>\n",
       "    </tr>\n",
       "    <tr>\n",
       "      <th>3</th>\n",
       "      <td>Sonjimin</td>\n",
       "      <td>35</td>\n",
       "      <td>44</td>\n",
       "      <td>Sonjimin</td>\n",
       "      <td>43</td>\n",
       "    </tr>\n",
       "    <tr>\n",
       "      <th>4</th>\n",
       "      <td>Leesoomin</td>\n",
       "      <td>40</td>\n",
       "      <td>55</td>\n",
       "      <td>Leesoomin</td>\n",
       "      <td>68</td>\n",
       "    </tr>\n",
       "    <tr>\n",
       "      <th>5</th>\n",
       "      <td>KangJun</td>\n",
       "      <td>44</td>\n",
       "      <td>90</td>\n",
       "      <td>KangJun</td>\n",
       "      <td>82</td>\n",
       "    </tr>\n",
       "  </tbody>\n",
       "</table>\n",
       "</div>"
      ],
      "text/plain": [
       "  Student_caller  Korean  English Student_other  Math\n",
       "0      KimTaemin      90       80     KimTaemin   100\n",
       "1       HaJaehwa      85       90      HaJaehwa    55\n",
       "2    JungSayoung      88       40   JungSayoung    38\n",
       "3       Sonjimin      35       44      Sonjimin    43\n",
       "4      Leesoomin      40       55     Leesoomin    68\n",
       "5        KangJun      44       90       KangJun    82"
      ]
     },
     "execution_count": 16,
     "metadata": {},
     "output_type": "execute_result"
    }
   ],
   "source": [
    "#merge랑 같은\n",
    "df1.join(df2, how='outer', lsuffix='_caller', rsuffix='_other')   # '_caller'인 df1 컬럼이 왼쪽에 가도록 배치"
   ]
  },
  {
   "cell_type": "code",
   "execution_count": 18,
   "id": "temporal-excellence",
   "metadata": {},
   "outputs": [
    {
     "name": "stdout",
     "output_type": "stream",
     "text": [
      "       Student  Korean  English\n",
      "0    KimTaemin      90       80\n",
      "1     HaJaehwa      85       90\n",
      "2  JungSayoung      88       40\n",
      "3     Sonjimin      35       44\n",
      "4    Leesoomin      40       55\n",
      "5      KangJun      44       90\n",
      "      Student  Korean\n",
      "0  Jiyoungmin      44\n",
      "1      LeeJae      73\n",
      "2   KimJaehee     100\n"
     ]
    }
   ],
   "source": [
    "#데이터 칼럼을 늘리는 것이 아닌, 데이터의 행을 합침\n",
    "df1 = pd.DataFrame({'Student': ['KimTaemin','HaJaehwa','JungSayoung','Sonjimin','Leesoomin','KangJun'],\n",
    "                    'Korean': [90, 85, 88, 35, 40, 44],\n",
    "                    'English': [80, 90, 40, 44, 55, 90]})\n",
    "df2 = pd.DataFrame({'Student': ['Jiyoungmin','LeeJae','KimJaehee'],\n",
    "                    'Korean': [44,73,100]})\n",
    "\n",
    "print(df1)\n",
    "print(df2)"
   ]
  },
  {
   "cell_type": "code",
   "execution_count": 20,
   "id": "destroyed-walker",
   "metadata": {},
   "outputs": [
    {
     "data": {
      "text/html": [
       "<div>\n",
       "<style scoped>\n",
       "    .dataframe tbody tr th:only-of-type {\n",
       "        vertical-align: middle;\n",
       "    }\n",
       "\n",
       "    .dataframe tbody tr th {\n",
       "        vertical-align: top;\n",
       "    }\n",
       "\n",
       "    .dataframe thead th {\n",
       "        text-align: right;\n",
       "    }\n",
       "</style>\n",
       "<table border=\"1\" class=\"dataframe\">\n",
       "  <thead>\n",
       "    <tr style=\"text-align: right;\">\n",
       "      <th></th>\n",
       "      <th>Student</th>\n",
       "      <th>Korean</th>\n",
       "      <th>English</th>\n",
       "    </tr>\n",
       "  </thead>\n",
       "  <tbody>\n",
       "    <tr>\n",
       "      <th>0</th>\n",
       "      <td>KimTaemin</td>\n",
       "      <td>90</td>\n",
       "      <td>80.0</td>\n",
       "    </tr>\n",
       "    <tr>\n",
       "      <th>1</th>\n",
       "      <td>HaJaehwa</td>\n",
       "      <td>85</td>\n",
       "      <td>90.0</td>\n",
       "    </tr>\n",
       "    <tr>\n",
       "      <th>2</th>\n",
       "      <td>JungSayoung</td>\n",
       "      <td>88</td>\n",
       "      <td>40.0</td>\n",
       "    </tr>\n",
       "    <tr>\n",
       "      <th>3</th>\n",
       "      <td>Sonjimin</td>\n",
       "      <td>35</td>\n",
       "      <td>44.0</td>\n",
       "    </tr>\n",
       "    <tr>\n",
       "      <th>4</th>\n",
       "      <td>Leesoomin</td>\n",
       "      <td>40</td>\n",
       "      <td>55.0</td>\n",
       "    </tr>\n",
       "    <tr>\n",
       "      <th>5</th>\n",
       "      <td>KangJun</td>\n",
       "      <td>44</td>\n",
       "      <td>90.0</td>\n",
       "    </tr>\n",
       "    <tr>\n",
       "      <th>0</th>\n",
       "      <td>Jiyoungmin</td>\n",
       "      <td>44</td>\n",
       "      <td>NaN</td>\n",
       "    </tr>\n",
       "    <tr>\n",
       "      <th>1</th>\n",
       "      <td>LeeJae</td>\n",
       "      <td>73</td>\n",
       "      <td>NaN</td>\n",
       "    </tr>\n",
       "    <tr>\n",
       "      <th>2</th>\n",
       "      <td>KimJaehee</td>\n",
       "      <td>100</td>\n",
       "      <td>NaN</td>\n",
       "    </tr>\n",
       "  </tbody>\n",
       "</table>\n",
       "</div>"
      ],
      "text/plain": [
       "       Student  Korean  English\n",
       "0    KimTaemin      90     80.0\n",
       "1     HaJaehwa      85     90.0\n",
       "2  JungSayoung      88     40.0\n",
       "3     Sonjimin      35     44.0\n",
       "4    Leesoomin      40     55.0\n",
       "5      KangJun      44     90.0\n",
       "0   Jiyoungmin      44      NaN\n",
       "1       LeeJae      73      NaN\n",
       "2    KimJaehee     100      NaN"
      ]
     },
     "execution_count": 20,
     "metadata": {},
     "output_type": "execute_result"
    }
   ],
   "source": [
    "pd.concat([df1,df2], sort=False)"
   ]
  },
  {
   "cell_type": "code",
   "execution_count": 21,
   "id": "synthetic-democracy",
   "metadata": {},
   "outputs": [
    {
     "data": {
      "text/html": [
       "<div>\n",
       "<style scoped>\n",
       "    .dataframe tbody tr th:only-of-type {\n",
       "        vertical-align: middle;\n",
       "    }\n",
       "\n",
       "    .dataframe tbody tr th {\n",
       "        vertical-align: top;\n",
       "    }\n",
       "\n",
       "    .dataframe thead th {\n",
       "        text-align: right;\n",
       "    }\n",
       "</style>\n",
       "<table border=\"1\" class=\"dataframe\">\n",
       "  <thead>\n",
       "    <tr style=\"text-align: right;\">\n",
       "      <th></th>\n",
       "      <th>Student</th>\n",
       "      <th>Korean</th>\n",
       "      <th>English</th>\n",
       "    </tr>\n",
       "  </thead>\n",
       "  <tbody>\n",
       "    <tr>\n",
       "      <th>0</th>\n",
       "      <td>KimTaemin</td>\n",
       "      <td>90</td>\n",
       "      <td>80.0</td>\n",
       "    </tr>\n",
       "    <tr>\n",
       "      <th>1</th>\n",
       "      <td>HaJaehwa</td>\n",
       "      <td>85</td>\n",
       "      <td>90.0</td>\n",
       "    </tr>\n",
       "    <tr>\n",
       "      <th>2</th>\n",
       "      <td>JungSayoung</td>\n",
       "      <td>88</td>\n",
       "      <td>40.0</td>\n",
       "    </tr>\n",
       "    <tr>\n",
       "      <th>3</th>\n",
       "      <td>Sonjimin</td>\n",
       "      <td>35</td>\n",
       "      <td>44.0</td>\n",
       "    </tr>\n",
       "    <tr>\n",
       "      <th>4</th>\n",
       "      <td>Leesoomin</td>\n",
       "      <td>40</td>\n",
       "      <td>55.0</td>\n",
       "    </tr>\n",
       "    <tr>\n",
       "      <th>5</th>\n",
       "      <td>KangJun</td>\n",
       "      <td>44</td>\n",
       "      <td>90.0</td>\n",
       "    </tr>\n",
       "    <tr>\n",
       "      <th>6</th>\n",
       "      <td>Jiyoungmin</td>\n",
       "      <td>44</td>\n",
       "      <td>NaN</td>\n",
       "    </tr>\n",
       "    <tr>\n",
       "      <th>7</th>\n",
       "      <td>LeeJae</td>\n",
       "      <td>73</td>\n",
       "      <td>NaN</td>\n",
       "    </tr>\n",
       "    <tr>\n",
       "      <th>8</th>\n",
       "      <td>KimJaehee</td>\n",
       "      <td>100</td>\n",
       "      <td>NaN</td>\n",
       "    </tr>\n",
       "  </tbody>\n",
       "</table>\n",
       "</div>"
      ],
      "text/plain": [
       "       Student  Korean  English\n",
       "0    KimTaemin      90     80.0\n",
       "1     HaJaehwa      85     90.0\n",
       "2  JungSayoung      88     40.0\n",
       "3     Sonjimin      35     44.0\n",
       "4    Leesoomin      40     55.0\n",
       "5      KangJun      44     90.0\n",
       "6   Jiyoungmin      44      NaN\n",
       "7       LeeJae      73      NaN\n",
       "8    KimJaehee     100      NaN"
      ]
     },
     "execution_count": 21,
     "metadata": {},
     "output_type": "execute_result"
    }
   ],
   "source": [
    "pd.concat([df1, df2], sort=False, ignore_index=True)"
   ]
  },
  {
   "cell_type": "markdown",
   "id": "dependent-factory",
   "metadata": {},
   "source": [
    "## 필터링 연산"
   ]
  },
  {
   "cell_type": "code",
   "execution_count": 22,
   "id": "aging-welcome",
   "metadata": {},
   "outputs": [
    {
     "data": {
      "text/html": [
       "<div>\n",
       "<style scoped>\n",
       "    .dataframe tbody tr th:only-of-type {\n",
       "        vertical-align: middle;\n",
       "    }\n",
       "\n",
       "    .dataframe tbody tr th {\n",
       "        vertical-align: top;\n",
       "    }\n",
       "\n",
       "    .dataframe thead th {\n",
       "        text-align: right;\n",
       "    }\n",
       "</style>\n",
       "<table border=\"1\" class=\"dataframe\">\n",
       "  <thead>\n",
       "    <tr style=\"text-align: right;\">\n",
       "      <th></th>\n",
       "      <th>A</th>\n",
       "      <th>B</th>\n",
       "      <th>C</th>\n",
       "    </tr>\n",
       "  </thead>\n",
       "  <tbody>\n",
       "    <tr>\n",
       "      <th>0</th>\n",
       "      <td>1</td>\n",
       "      <td>2</td>\n",
       "      <td>3</td>\n",
       "    </tr>\n",
       "    <tr>\n",
       "      <th>1</th>\n",
       "      <td>4</td>\n",
       "      <td>5</td>\n",
       "      <td>6</td>\n",
       "    </tr>\n",
       "    <tr>\n",
       "      <th>2</th>\n",
       "      <td>7</td>\n",
       "      <td>8</td>\n",
       "      <td>9</td>\n",
       "    </tr>\n",
       "  </tbody>\n",
       "</table>\n",
       "</div>"
      ],
      "text/plain": [
       "   A  B  C\n",
       "0  1  2  3\n",
       "1  4  5  6\n",
       "2  7  8  9"
      ]
     },
     "execution_count": 22,
     "metadata": {},
     "output_type": "execute_result"
    }
   ],
   "source": [
    "df = pd.DataFrame({\"A\": [1,4,7], \"B\": [2,5,8], \"C\":[3,6,9]})\n",
    "\n",
    "df"
   ]
  },
  {
   "cell_type": "code",
   "execution_count": 23,
   "id": "limited-aaron",
   "metadata": {},
   "outputs": [
    {
     "data": {
      "text/plain": [
       "0    1\n",
       "1    4\n",
       "2    7\n",
       "Name: A, dtype: int64"
      ]
     },
     "execution_count": 23,
     "metadata": {},
     "output_type": "execute_result"
    }
   ],
   "source": [
    "#칼럼명 형식 사용\n",
    "df['A']"
   ]
  },
  {
   "cell_type": "code",
   "execution_count": 24,
   "id": "steady-canon",
   "metadata": {},
   "outputs": [
    {
     "name": "stdout",
     "output_type": "stream",
     "text": [
      "A    1\n",
      "B    2\n",
      "C    3\n",
      "Name: 0, dtype: int64\n"
     ]
    }
   ],
   "source": [
    "#loc()사용\n",
    "print(df.loc[0])"
   ]
  },
  {
   "cell_type": "code",
   "execution_count": 25,
   "id": "fifty-ultimate",
   "metadata": {},
   "outputs": [
    {
     "name": "stdout",
     "output_type": "stream",
     "text": [
      "2\n"
     ]
    }
   ],
   "source": [
    "print(df.loc[0, 'B'])"
   ]
  },
  {
   "cell_type": "code",
   "execution_count": 26,
   "id": "small-survey",
   "metadata": {},
   "outputs": [
    {
     "name": "stdout",
     "output_type": "stream",
     "text": [
      "A    1\n",
      "B    2\n",
      "C    3\n",
      "Name: 0, dtype: int64\n"
     ]
    }
   ],
   "source": [
    "print(df.iloc[0])"
   ]
  },
  {
   "cell_type": "code",
   "execution_count": 27,
   "id": "nonprofit-discretion",
   "metadata": {},
   "outputs": [
    {
     "name": "stdout",
     "output_type": "stream",
     "text": [
      "2\n"
     ]
    }
   ],
   "source": [
    "print(df.iloc[0, 1])"
   ]
  },
  {
   "cell_type": "markdown",
   "id": "plastic-equipment",
   "metadata": {},
   "source": [
    "- iloc()에 칼럼 이름 주면 에러 남! "
   ]
  },
  {
   "cell_type": "markdown",
   "id": "public-response",
   "metadata": {},
   "source": [
    "## 그룹 연산\n",
    "- groupby()객체를 생성\n",
    "- groupby()객체의 연산을 수행\n",
    "  - max(), min(), sum(), mean()\n",
    "  - apply() 메소드를 통해 특수 수식에 대한 연산을 수행할 수 있음."
   ]
  },
  {
   "cell_type": "code",
   "execution_count": 28,
   "id": "protecting-black",
   "metadata": {},
   "outputs": [
    {
     "data": {
      "text/html": [
       "<div>\n",
       "<style scoped>\n",
       "    .dataframe tbody tr th:only-of-type {\n",
       "        vertical-align: middle;\n",
       "    }\n",
       "\n",
       "    .dataframe tbody tr th {\n",
       "        vertical-align: top;\n",
       "    }\n",
       "\n",
       "    .dataframe thead th {\n",
       "        text-align: right;\n",
       "    }\n",
       "</style>\n",
       "<table border=\"1\" class=\"dataframe\">\n",
       "  <thead>\n",
       "    <tr style=\"text-align: right;\">\n",
       "      <th></th>\n",
       "      <th>Columns1</th>\n",
       "      <th>Columns2</th>\n",
       "    </tr>\n",
       "  </thead>\n",
       "  <tbody>\n",
       "    <tr>\n",
       "      <th>0</th>\n",
       "      <td>A</td>\n",
       "      <td>10</td>\n",
       "    </tr>\n",
       "    <tr>\n",
       "      <th>1</th>\n",
       "      <td>A</td>\n",
       "      <td>2</td>\n",
       "    </tr>\n",
       "    <tr>\n",
       "      <th>2</th>\n",
       "      <td>B</td>\n",
       "      <td>30</td>\n",
       "    </tr>\n",
       "    <tr>\n",
       "      <th>3</th>\n",
       "      <td>B</td>\n",
       "      <td>-6</td>\n",
       "    </tr>\n",
       "    <tr>\n",
       "      <th>4</th>\n",
       "      <td>C</td>\n",
       "      <td>8</td>\n",
       "    </tr>\n",
       "    <tr>\n",
       "      <th>5</th>\n",
       "      <td>C</td>\n",
       "      <td>9</td>\n",
       "    </tr>\n",
       "    <tr>\n",
       "      <th>6</th>\n",
       "      <td>A</td>\n",
       "      <td>5</td>\n",
       "    </tr>\n",
       "    <tr>\n",
       "      <th>7</th>\n",
       "      <td>B</td>\n",
       "      <td>2</td>\n",
       "    </tr>\n",
       "  </tbody>\n",
       "</table>\n",
       "</div>"
      ],
      "text/plain": [
       "  Columns1  Columns2\n",
       "0        A        10\n",
       "1        A         2\n",
       "2        B        30\n",
       "3        B        -6\n",
       "4        C         8\n",
       "5        C         9\n",
       "6        A         5\n",
       "7        B         2"
      ]
     },
     "execution_count": 28,
     "metadata": {},
     "output_type": "execute_result"
    }
   ],
   "source": [
    "df = pd.DataFrame({'Columns1':['A','A','B','B','C','C','A','B'],\n",
    "                   'Columns2':[10, 2, 30, -6, 8, 9, 5, 2]})\n",
    "\n",
    "df"
   ]
  },
  {
   "cell_type": "code",
   "execution_count": 29,
   "id": "accredited-destruction",
   "metadata": {},
   "outputs": [
    {
     "data": {
      "text/html": [
       "<div>\n",
       "<style scoped>\n",
       "    .dataframe tbody tr th:only-of-type {\n",
       "        vertical-align: middle;\n",
       "    }\n",
       "\n",
       "    .dataframe tbody tr th {\n",
       "        vertical-align: top;\n",
       "    }\n",
       "\n",
       "    .dataframe thead th {\n",
       "        text-align: right;\n",
       "    }\n",
       "</style>\n",
       "<table border=\"1\" class=\"dataframe\">\n",
       "  <thead>\n",
       "    <tr style=\"text-align: right;\">\n",
       "      <th></th>\n",
       "      <th>Columns2</th>\n",
       "    </tr>\n",
       "    <tr>\n",
       "      <th>Columns1</th>\n",
       "      <th></th>\n",
       "    </tr>\n",
       "  </thead>\n",
       "  <tbody>\n",
       "    <tr>\n",
       "      <th>A</th>\n",
       "      <td>3.162278</td>\n",
       "    </tr>\n",
       "    <tr>\n",
       "      <th>B</th>\n",
       "      <td>5.477226</td>\n",
       "    </tr>\n",
       "    <tr>\n",
       "      <th>C</th>\n",
       "      <td>3.000000</td>\n",
       "    </tr>\n",
       "  </tbody>\n",
       "</table>\n",
       "</div>"
      ],
      "text/plain": [
       "          Columns2\n",
       "Columns1          \n",
       "A         3.162278\n",
       "B         5.477226\n",
       "C         3.000000"
      ]
     },
     "execution_count": 29,
     "metadata": {},
     "output_type": "execute_result"
    }
   ],
   "source": [
    "import numpy as  np\n",
    "df.groupby(['Columns1']).max().apply(np.sqrt)"
   ]
  },
  {
   "cell_type": "markdown",
   "id": "ethical-fleece",
   "metadata": {},
   "source": [
    "# pandas transform 연습"
   ]
  },
  {
   "cell_type": "code",
   "execution_count": 30,
   "id": "pharmaceutical-graduate",
   "metadata": {},
   "outputs": [
    {
     "name": "stderr",
     "output_type": "stream",
     "text": [
      "/opt/conda/lib/python3.7/site-packages/IPython/core/interactiveshell.py:3146: DtypeWarning: Columns (12) have mixed types.Specify dtype option on import or set low_memory=False.\n",
      "  interactivity=interactivity, compiler=compiler, result=result)\n"
     ]
    },
    {
     "data": {
      "text/html": [
       "<div>\n",
       "<style scoped>\n",
       "    .dataframe tbody tr th:only-of-type {\n",
       "        vertical-align: middle;\n",
       "    }\n",
       "\n",
       "    .dataframe tbody tr th {\n",
       "        vertical-align: top;\n",
       "    }\n",
       "\n",
       "    .dataframe thead th {\n",
       "        text-align: right;\n",
       "    }\n",
       "</style>\n",
       "<table border=\"1\" class=\"dataframe\">\n",
       "  <thead>\n",
       "    <tr style=\"text-align: right;\">\n",
       "      <th></th>\n",
       "      <th>Id</th>\n",
       "      <th>EmployeeName</th>\n",
       "      <th>JobTitle</th>\n",
       "      <th>BasePay</th>\n",
       "      <th>OvertimePay</th>\n",
       "      <th>OtherPay</th>\n",
       "      <th>Benefits</th>\n",
       "      <th>TotalPay</th>\n",
       "      <th>TotalPayBenefits</th>\n",
       "      <th>Year</th>\n",
       "      <th>Notes</th>\n",
       "      <th>Agency</th>\n",
       "      <th>Status</th>\n",
       "    </tr>\n",
       "  </thead>\n",
       "  <tbody>\n",
       "    <tr>\n",
       "      <th>0</th>\n",
       "      <td>1</td>\n",
       "      <td>NATHANIEL FORD</td>\n",
       "      <td>GENERAL MANAGER-METROPOLITAN TRANSIT AUTHORITY</td>\n",
       "      <td>167411.18</td>\n",
       "      <td>0.00</td>\n",
       "      <td>400184.25</td>\n",
       "      <td>NaN</td>\n",
       "      <td>567595.43</td>\n",
       "      <td>567595.43</td>\n",
       "      <td>2011</td>\n",
       "      <td>NaN</td>\n",
       "      <td>San Francisco</td>\n",
       "      <td>NaN</td>\n",
       "    </tr>\n",
       "    <tr>\n",
       "      <th>1</th>\n",
       "      <td>2</td>\n",
       "      <td>GARY JIMENEZ</td>\n",
       "      <td>CAPTAIN III (POLICE DEPARTMENT)</td>\n",
       "      <td>155966.02</td>\n",
       "      <td>245131.88</td>\n",
       "      <td>137811.38</td>\n",
       "      <td>NaN</td>\n",
       "      <td>538909.28</td>\n",
       "      <td>538909.28</td>\n",
       "      <td>2011</td>\n",
       "      <td>NaN</td>\n",
       "      <td>San Francisco</td>\n",
       "      <td>NaN</td>\n",
       "    </tr>\n",
       "    <tr>\n",
       "      <th>2</th>\n",
       "      <td>3</td>\n",
       "      <td>ALBERT PARDINI</td>\n",
       "      <td>CAPTAIN III (POLICE DEPARTMENT)</td>\n",
       "      <td>212739.13</td>\n",
       "      <td>106088.18</td>\n",
       "      <td>16452.60</td>\n",
       "      <td>NaN</td>\n",
       "      <td>335279.91</td>\n",
       "      <td>335279.91</td>\n",
       "      <td>2011</td>\n",
       "      <td>NaN</td>\n",
       "      <td>San Francisco</td>\n",
       "      <td>NaN</td>\n",
       "    </tr>\n",
       "    <tr>\n",
       "      <th>3</th>\n",
       "      <td>4</td>\n",
       "      <td>CHRISTOPHER CHONG</td>\n",
       "      <td>WIRE ROPE CABLE MAINTENANCE MECHANIC</td>\n",
       "      <td>77916.00</td>\n",
       "      <td>56120.71</td>\n",
       "      <td>198306.90</td>\n",
       "      <td>NaN</td>\n",
       "      <td>332343.61</td>\n",
       "      <td>332343.61</td>\n",
       "      <td>2011</td>\n",
       "      <td>NaN</td>\n",
       "      <td>San Francisco</td>\n",
       "      <td>NaN</td>\n",
       "    </tr>\n",
       "    <tr>\n",
       "      <th>4</th>\n",
       "      <td>5</td>\n",
       "      <td>PATRICK GARDNER</td>\n",
       "      <td>DEPUTY CHIEF OF DEPARTMENT,(FIRE DEPARTMENT)</td>\n",
       "      <td>134401.60</td>\n",
       "      <td>9737.00</td>\n",
       "      <td>182234.59</td>\n",
       "      <td>NaN</td>\n",
       "      <td>326373.19</td>\n",
       "      <td>326373.19</td>\n",
       "      <td>2011</td>\n",
       "      <td>NaN</td>\n",
       "      <td>San Francisco</td>\n",
       "      <td>NaN</td>\n",
       "    </tr>\n",
       "  </tbody>\n",
       "</table>\n",
       "</div>"
      ],
      "text/plain": [
       "   Id       EmployeeName                                        JobTitle  \\\n",
       "0   1     NATHANIEL FORD  GENERAL MANAGER-METROPOLITAN TRANSIT AUTHORITY   \n",
       "1   2       GARY JIMENEZ                 CAPTAIN III (POLICE DEPARTMENT)   \n",
       "2   3     ALBERT PARDINI                 CAPTAIN III (POLICE DEPARTMENT)   \n",
       "3   4  CHRISTOPHER CHONG            WIRE ROPE CABLE MAINTENANCE MECHANIC   \n",
       "4   5    PATRICK GARDNER    DEPUTY CHIEF OF DEPARTMENT,(FIRE DEPARTMENT)   \n",
       "\n",
       "     BasePay  OvertimePay   OtherPay  Benefits   TotalPay  TotalPayBenefits  \\\n",
       "0  167411.18         0.00  400184.25       NaN  567595.43         567595.43   \n",
       "1  155966.02    245131.88  137811.38       NaN  538909.28         538909.28   \n",
       "2  212739.13    106088.18   16452.60       NaN  335279.91         335279.91   \n",
       "3   77916.00     56120.71  198306.90       NaN  332343.61         332343.61   \n",
       "4  134401.60      9737.00  182234.59       NaN  326373.19         326373.19   \n",
       "\n",
       "   Year  Notes         Agency Status  \n",
       "0  2011    NaN  San Francisco    NaN  \n",
       "1  2011    NaN  San Francisco    NaN  \n",
       "2  2011    NaN  San Francisco    NaN  \n",
       "3  2011    NaN  San Francisco    NaN  \n",
       "4  2011    NaN  San Francisco    NaN  "
      ]
     },
     "execution_count": 30,
     "metadata": {},
     "output_type": "execute_result"
    }
   ],
   "source": [
    "#데이터 로드\n",
    "import pandas as pd\n",
    "import numpy as np\n",
    "\n",
    "file_path = os.getenv(\"HOME\") + '/aiffel/data_handling/data/Salaries.csv'\n",
    "sal = pd.read_csv(file_path)\n",
    "\n",
    "sal.head(5)"
   ]
  },
  {
   "cell_type": "code",
   "execution_count": 31,
   "id": "selected-answer",
   "metadata": {},
   "outputs": [
    {
     "data": {
      "text/plain": [
       "66327.68895967308"
      ]
     },
     "execution_count": 31,
     "metadata": {},
     "output_type": "execute_result"
    }
   ],
   "source": [
    "sal['BasePay'].mean()"
   ]
  },
  {
   "cell_type": "code",
   "execution_count": 32,
   "id": "blond-lighting",
   "metadata": {},
   "outputs": [
    {
     "data": {
      "text/plain": [
       "245131.88"
      ]
     },
     "execution_count": 32,
     "metadata": {},
     "output_type": "execute_result"
    }
   ],
   "source": [
    "sal['OvertimePay'].max()"
   ]
  },
  {
   "cell_type": "code",
   "execution_count": 33,
   "id": "improving-egyptian",
   "metadata": {},
   "outputs": [
    {
     "data": {
      "text/plain": [
       "24    CAPTAIN, FIRE SUPPRESSION\n",
       "Name: JobTitle, dtype: object"
      ]
     },
     "execution_count": 33,
     "metadata": {},
     "output_type": "execute_result"
    }
   ],
   "source": [
    "sal[sal['EmployeeName'] == 'JOSEPH DRISCOLL']['JobTitle']"
   ]
  },
  {
   "cell_type": "code",
   "execution_count": 34,
   "id": "finished-phenomenon",
   "metadata": {},
   "outputs": [
    {
     "data": {
      "text/plain": [
       "24    270324.91\n",
       "Name: TotalPayBenefits, dtype: float64"
      ]
     },
     "execution_count": 34,
     "metadata": {},
     "output_type": "execute_result"
    }
   ],
   "source": [
    "sal[sal['EmployeeName'] == 'JOSEPH DRISCOLL']['TotalPayBenefits']"
   ]
  },
  {
   "cell_type": "code",
   "execution_count": 35,
   "id": "comprehensive-bandwidth",
   "metadata": {},
   "outputs": [
    {
     "data": {
      "text/plain": [
       "0    NATHANIEL FORD\n",
       "Name: EmployeeName, dtype: object"
      ]
     },
     "execution_count": 35,
     "metadata": {},
     "output_type": "execute_result"
    }
   ],
   "source": [
    "sal[sal['TotalPayBenefits']==sal['TotalPayBenefits'].max()]['EmployeeName']"
   ]
  },
  {
   "cell_type": "code",
   "execution_count": 36,
   "id": "detected-hypothetical",
   "metadata": {},
   "outputs": [
    {
     "data": {
      "text/html": [
       "<div>\n",
       "<style scoped>\n",
       "    .dataframe tbody tr th:only-of-type {\n",
       "        vertical-align: middle;\n",
       "    }\n",
       "\n",
       "    .dataframe tbody tr th {\n",
       "        vertical-align: top;\n",
       "    }\n",
       "\n",
       "    .dataframe thead th {\n",
       "        text-align: right;\n",
       "    }\n",
       "</style>\n",
       "<table border=\"1\" class=\"dataframe\">\n",
       "  <thead>\n",
       "    <tr style=\"text-align: right;\">\n",
       "      <th></th>\n",
       "      <th>Id</th>\n",
       "      <th>EmployeeName</th>\n",
       "      <th>JobTitle</th>\n",
       "      <th>BasePay</th>\n",
       "      <th>OvertimePay</th>\n",
       "      <th>OtherPay</th>\n",
       "      <th>Benefits</th>\n",
       "      <th>TotalPay</th>\n",
       "      <th>TotalPayBenefits</th>\n",
       "      <th>Year</th>\n",
       "      <th>Notes</th>\n",
       "      <th>Agency</th>\n",
       "      <th>Status</th>\n",
       "    </tr>\n",
       "  </thead>\n",
       "  <tbody>\n",
       "    <tr>\n",
       "      <th>110530</th>\n",
       "      <td>110531</td>\n",
       "      <td>David P Kucia</td>\n",
       "      <td>Police Officer 3</td>\n",
       "      <td>NaN</td>\n",
       "      <td>0.0</td>\n",
       "      <td>0.0</td>\n",
       "      <td>-33.89</td>\n",
       "      <td>0.0</td>\n",
       "      <td>-33.89</td>\n",
       "      <td>2013</td>\n",
       "      <td>NaN</td>\n",
       "      <td>San Francisco</td>\n",
       "      <td>NaN</td>\n",
       "    </tr>\n",
       "  </tbody>\n",
       "</table>\n",
       "</div>"
      ],
      "text/plain": [
       "            Id   EmployeeName          JobTitle  BasePay  OvertimePay  \\\n",
       "110530  110531  David P Kucia  Police Officer 3      NaN          0.0   \n",
       "\n",
       "        OtherPay  Benefits  TotalPay  TotalPayBenefits  Year  Notes  \\\n",
       "110530       0.0    -33.89       0.0            -33.89  2013    NaN   \n",
       "\n",
       "               Agency Status  \n",
       "110530  San Francisco    NaN  "
      ]
     },
     "execution_count": 36,
     "metadata": {},
     "output_type": "execute_result"
    }
   ],
   "source": [
    "sal[sal['TotalPayBenefits']==sal['TotalPayBenefits'].min()]"
   ]
  },
  {
   "cell_type": "code",
   "execution_count": 37,
   "id": "dying-kelly",
   "metadata": {},
   "outputs": [
    {
     "data": {
      "text/plain": [
       "Year\n",
       "2011    63595.956517\n",
       "2012    65436.406857\n",
       "2013    69630.030216\n",
       "2014    66573.154204\n",
       "Name: BasePay, dtype: float64"
      ]
     },
     "execution_count": 37,
     "metadata": {},
     "output_type": "execute_result"
    }
   ],
   "source": [
    "sal.groupby('Year').mean()['BasePay']"
   ]
  },
  {
   "cell_type": "code",
   "execution_count": 38,
   "id": "about-chicken",
   "metadata": {},
   "outputs": [
    {
     "data": {
      "text/plain": [
       "2158"
      ]
     },
     "execution_count": 38,
     "metadata": {},
     "output_type": "execute_result"
    }
   ],
   "source": [
    "sal['JobTitle'].nunique()\n"
   ]
  },
  {
   "cell_type": "code",
   "execution_count": 39,
   "id": "labeled-password",
   "metadata": {},
   "outputs": [
    {
     "data": {
      "text/plain": [
       "Transit Operator                7036\n",
       "Special Nurse                   4389\n",
       "Registered Nurse                3736\n",
       "Public Svc Aide-Public Works    2518\n",
       "Police Officer 3                2421\n",
       "Name: JobTitle, dtype: int64"
      ]
     },
     "execution_count": 39,
     "metadata": {},
     "output_type": "execute_result"
    }
   ],
   "source": [
    "sal['JobTitle'].value_counts().head(5)"
   ]
  },
  {
   "cell_type": "code",
   "execution_count": 40,
   "id": "involved-enough",
   "metadata": {},
   "outputs": [
    {
     "data": {
      "text/plain": [
       "477"
      ]
     },
     "execution_count": 40,
     "metadata": {},
     "output_type": "execute_result"
    }
   ],
   "source": [
    "def chief_string(title):\n",
    "    if 'chief' in title.lower().split(): \n",
    "        return True\n",
    "    else:\n",
    "        return False\n",
    "sum(sal['JobTitle'].apply(lambda x : chief_string(x)))"
   ]
  },
  {
   "cell_type": "markdown",
   "id": "sustained-malta",
   "metadata": {},
   "source": [
    "# 데이터베이스"
   ]
  },
  {
   "cell_type": "markdown",
   "id": "trying-baker",
   "metadata": {},
   "source": [
    "## 다중 사용자 환경"
   ]
  },
  {
   "cell_type": "code",
   "execution_count": 41,
   "id": "hollywood-terminology",
   "metadata": {},
   "outputs": [
    {
     "name": "stdout",
     "output_type": "stream",
     "text": [
      "130\n"
     ]
    }
   ],
   "source": [
    "C_account = 100      # 현재 C 고객 계좌 잔고는 100\n",
    "\n",
    "C_account_by_A_process = 100    # A 고객 응대 프로그램이 C 고객 계좌 잔고를 조회했습니다 \n",
    "C_account_by_B_process = 100    # B 고객 응대 프로그램이 C 고객 계좌 잔고를 조회했습니다 \n",
    "\n",
    "C_account_by_A_process = C_account_by_A_process + 50   # A 고객이 50을 입금했습니다. \n",
    "C_account_by_B_process = C_account_by_B_process + 30   # A 고객이 30을 입금했습니다. \n",
    "\n",
    "C_account = C_account_by_A_process     # A 고객의 입금이 C 고객 계좌 잔고에 반영되었습니다. \n",
    "C_account = C_account_by_B_process     # B 고객의 입금이 C 고객 계좌 잔고에 반영되었습니다. \n",
    "\n",
    "print(C_account)     # C 고객 계좌 잔고는 얼마일까요?"
   ]
  },
  {
   "cell_type": "markdown",
   "id": "tested-entrance",
   "metadata": {},
   "source": [
    "-  우리는 다수 사용자에 대응할 수 있는 실시간 트랜잭션 처리 기능을 갖춘, 데이터의 정합성을 보장하는 훌륭한 데이터 관리 프로세스를 필요로 하게 됨.\n",
    "- 그래서 필요한 것이 바로 데이터베이스 관리 시스템(DBMS)."
   ]
  },
  {
   "cell_type": "markdown",
   "id": "different-greensboro",
   "metadata": {},
   "source": [
    "-  데이터만을 저장하는 공간을 하나 만드는데 흔히 물리적 컴퓨터에 방점을 두어 데이터 서버 컴퓨터, 또는 추상적인 정보의 집합에 방점을 두어 데이터베이스라고 함.\n",
    "- 데이터만을 위한 데이터 서버 컴퓨터가 있고, 해당 서버에 접근하는 전용 프로그램을 이용해서 데이터를 읽고 수정하는 것.\n",
    "- 데이터를 요청하는 \"쿼리(query)\"를 작성하기 위한 언어 중 하나가 SQL(Structured Query Language).\n",
    "- SQL은 영어에서 볼 수 있듯이 구조적 질의어(=데이터 서버에게 원하는 정보를 일목요연하게 말해주는 것)를 뜻하며, 일종의 프로그래밍 언어로 발전되어 옴."
   ]
  },
  {
   "cell_type": "markdown",
   "id": "silent-realtor",
   "metadata": {},
   "source": [
    "-  DBA(Database Architect)는 데이터를 어떻게 관리할지, 어떤 항목으로 관리할지 등을 설계하고 데이터베이스에 접근하기 위한 쿼리를 작성하는데 이때 설계하는 데이터베이스의 구조를 전문 용어로 스키마(schema)라고 함."
   ]
  },
  {
   "cell_type": "markdown",
   "id": "subsequent-reach",
   "metadata": {},
   "source": [
    "### 관계형 데이터베이스\n",
    "- 가장 오랜 시간 많이 쓰이고 있는 데이터베이스.\n",
    "-  데이터를 \"표\" 형태로 표현하고 어떤 관계(연관)가 있는 항목끼리 묶어서 관리하는 체계."
   ]
  },
  {
   "cell_type": "markdown",
   "id": "strong-creature",
   "metadata": {},
   "source": [
    "## SQL\n",
    "-  한가지 프로토콜만 알고 있다면 어떤 데이터베이스이든 접속해서 기본적인 데이터 정의와 조작이 가능한데 그것이 SQL임.\n",
    "- QL은 API나 프로토콜과 비슷하게 데이터베이스에 접근하는 하나의 \"인터페이스\" 역할을 하지만 API나 프로토콜과는 사용법이 다름.\n",
    "- SQL은 어떤 결과를 얻기 위해 수행 과정을 나열하는 것이 아닌 원하는 결과를 질의하는 언어의 형태를 띠고 있음.\n",
    "- 데이터베이스 또한 SQL이라는 표준 인터페이스를 누구나 제공할 수 있었기 때문에 대중화가 가능했던 것."
   ]
  },
  {
   "cell_type": "markdown",
   "id": "tested-australia",
   "metadata": {},
   "source": [
    "- 클라이언트는 데이터베이스에 접근하는 하나의 프로그램, 예를 들어 내가 사용하는 컴퓨터의 CLI 등을 의미.\n",
    "- SQL 질의(Query)는 클라이언트(client)에서 데이터베이스 서버로 전송하는 텍스트 문자열임.\n",
    "- 직접 데이터베이스 컴퓨터에 접속해서 데이터를 꺼내올 수 없기 때문에, 클라이언트 프로그램을 사용해 서버에 정돈된 질의를 날리면 서버가 그 값을 받아 결괏값을 보내줌."
   ]
  },
  {
   "cell_type": "markdown",
   "id": "consecutive-province",
   "metadata": {},
   "source": [
    "### SQL문 종류\n",
    "- DDL(Data Definition Language, 데이터 정의어)\n",
    "  - 테이블이나 관계의 구조를 생성하는 데 사용.\n",
    "  - 테이블, 데이터베이스, 사용자에 대한 생성, 삭제 제약조건(constraint), 권한(permission)을 설정.\n",
    "- DML (Data Manipulation Language, 데이터 조작어)\n",
    "  - 테이블의 데이터를 조회, 삽입, 갱신, 삭제할 때 사용.\n",
    "  - 이런 데이터의 기본 조작 행위를 CRUD라고 함.\n",
    "  - 생성(Create): INSERT 문 사용\n",
    "  - 조회(Read): SELECT 문 사용\n",
    "  - 갱신(Update): UPDATE 문 사용\n",
    "  - 삭제(Delete): DELETE 문 사용"
   ]
  },
  {
   "cell_type": "markdown",
   "id": "pressing-dance",
   "metadata": {},
   "source": [
    "# 파이썬 DB 다루기\n",
    "- 파이썬 인터프리터는 데이터베이스를 바로 사용할 수 있도록 표준 API를 지원함.\n",
    "- 데이터베이스 전용 드라이버만 설치하면 되고, SQLite는 이미 내장되어 있어서 별도의 설치가 필요 없음."
   ]
  },
  {
   "cell_type": "markdown",
   "id": "eight-governor",
   "metadata": {},
   "source": [
    "## AIP 메인 함수\n",
    "- connect(): 데이터베이스의 연결을 만듦.\n",
    "- cursor(): 질의를 관리하기 위한 커서 객체 생성. file의 open과 비슷)\n",
    "- execute(), excutemany(): 데이터베이스에 하나 이상의 SQL명령을 실행.\n",
    "- fetchone(), fetchmany(), fetchall(): 실행 결과를 얻음."
   ]
  },
  {
   "cell_type": "markdown",
   "id": "upper-crime",
   "metadata": {},
   "source": [
    "### 연결: connect()"
   ]
  },
  {
   "cell_type": "code",
   "execution_count": 43,
   "id": "leading-wichita",
   "metadata": {},
   "outputs": [],
   "source": [
    "import sqlite3\n",
    "conn = sqlite3.connect('example.db')"
   ]
  },
  {
   "cell_type": "code",
   "execution_count": 45,
   "id": "parental-diabetes",
   "metadata": {},
   "outputs": [
    {
     "name": "stdout",
     "output_type": "stream",
     "text": [
      "Collecting pymysql\n",
      "  Downloading PyMySQL-1.0.2-py3-none-any.whl (43 kB)\n",
      "\u001b[K     |████████████████████████████████| 43 kB 822 kB/s  eta 0:00:01\n",
      "\u001b[?25hInstalling collected packages: pymysql\n",
      "Successfully installed pymysql-1.0.2\n",
      "\u001b[33mWARNING: You are using pip version 20.3.3; however, version 21.2.4 is available.\n",
      "You should consider upgrading via the '/opt/conda/bin/python3.7 -m pip install --upgrade pip' command.\u001b[0m\n"
     ]
    }
   ],
   "source": [
    "!pip install pymysql"
   ]
  },
  {
   "cell_type": "code",
   "execution_count": 47,
   "id": "crude-condition",
   "metadata": {},
   "outputs": [],
   "source": [
    "import pymysql\n",
    "pymysql.install_as_MySQLdb()"
   ]
  },
  {
   "cell_type": "code",
   "execution_count": 48,
   "id": "based-rebecca",
   "metadata": {
    "scrolled": true
   },
   "outputs": [
    {
     "ename": "OperationalError",
     "evalue": "(2003, \"Can't connect to MySQL server on 'localhost' ([Errno 99] Cannot assign requested address)\")",
     "output_type": "error",
     "traceback": [
      "\u001b[0;31m---------------------------------------------------------------------------\u001b[0m",
      "\u001b[0;31mOSError\u001b[0m                                   Traceback (most recent call last)",
      "\u001b[0;32m/opt/conda/lib/python3.7/site-packages/pymysql/connections.py\u001b[0m in \u001b[0;36mconnect\u001b[0;34m(self, sock)\u001b[0m\n\u001b[1;32m    613\u001b[0m                             sock = socket.create_connection(\n\u001b[0;32m--> 614\u001b[0;31m                                 \u001b[0;34m(\u001b[0m\u001b[0mself\u001b[0m\u001b[0;34m.\u001b[0m\u001b[0mhost\u001b[0m\u001b[0;34m,\u001b[0m \u001b[0mself\u001b[0m\u001b[0;34m.\u001b[0m\u001b[0mport\u001b[0m\u001b[0;34m)\u001b[0m\u001b[0;34m,\u001b[0m \u001b[0mself\u001b[0m\u001b[0;34m.\u001b[0m\u001b[0mconnect_timeout\u001b[0m\u001b[0;34m,\u001b[0m \u001b[0;34m**\u001b[0m\u001b[0mkwargs\u001b[0m\u001b[0;34m\u001b[0m\u001b[0;34m\u001b[0m\u001b[0m\n\u001b[0m\u001b[1;32m    615\u001b[0m                             )\n",
      "\u001b[0;32m/opt/conda/lib/python3.7/socket.py\u001b[0m in \u001b[0;36mcreate_connection\u001b[0;34m(address, timeout, source_address)\u001b[0m\n\u001b[1;32m    727\u001b[0m         \u001b[0;32mtry\u001b[0m\u001b[0;34m:\u001b[0m\u001b[0;34m\u001b[0m\u001b[0;34m\u001b[0m\u001b[0m\n\u001b[0;32m--> 728\u001b[0;31m             \u001b[0;32mraise\u001b[0m \u001b[0merr\u001b[0m\u001b[0;34m\u001b[0m\u001b[0;34m\u001b[0m\u001b[0m\n\u001b[0m\u001b[1;32m    729\u001b[0m         \u001b[0;32mfinally\u001b[0m\u001b[0;34m:\u001b[0m\u001b[0;34m\u001b[0m\u001b[0;34m\u001b[0m\u001b[0m\n",
      "\u001b[0;32m/opt/conda/lib/python3.7/socket.py\u001b[0m in \u001b[0;36mcreate_connection\u001b[0;34m(address, timeout, source_address)\u001b[0m\n\u001b[1;32m    715\u001b[0m                 \u001b[0msock\u001b[0m\u001b[0;34m.\u001b[0m\u001b[0mbind\u001b[0m\u001b[0;34m(\u001b[0m\u001b[0msource_address\u001b[0m\u001b[0;34m)\u001b[0m\u001b[0;34m\u001b[0m\u001b[0;34m\u001b[0m\u001b[0m\n\u001b[0;32m--> 716\u001b[0;31m             \u001b[0msock\u001b[0m\u001b[0;34m.\u001b[0m\u001b[0mconnect\u001b[0m\u001b[0;34m(\u001b[0m\u001b[0msa\u001b[0m\u001b[0;34m)\u001b[0m\u001b[0;34m\u001b[0m\u001b[0;34m\u001b[0m\u001b[0m\n\u001b[0m\u001b[1;32m    717\u001b[0m             \u001b[0;31m# Break explicitly a reference cycle\u001b[0m\u001b[0;34m\u001b[0m\u001b[0;34m\u001b[0m\u001b[0;34m\u001b[0m\u001b[0m\n",
      "\u001b[0;31mOSError\u001b[0m: [Errno 99] Cannot assign requested address",
      "\nDuring handling of the above exception, another exception occurred:\n",
      "\u001b[0;31mOperationalError\u001b[0m                          Traceback (most recent call last)",
      "\u001b[0;32m<ipython-input-48-7c3d020f2e59>\u001b[0m in \u001b[0;36m<module>\u001b[0;34m\u001b[0m\n\u001b[1;32m      1\u001b[0m \u001b[0;32mimport\u001b[0m \u001b[0mMySQLdb\u001b[0m\u001b[0;34m\u001b[0m\u001b[0;34m\u001b[0m\u001b[0m\n\u001b[1;32m      2\u001b[0m conn = MySQLdb.connect(host='localhost', port=3308, db='example.db', user='root',\n\u001b[0;32m----> 3\u001b[0;31m passwd='1234')\n\u001b[0m",
      "\u001b[0;32m/opt/conda/lib/python3.7/site-packages/pymysql/connections.py\u001b[0m in \u001b[0;36m__init__\u001b[0;34m(self, user, password, host, database, unix_socket, port, charset, sql_mode, read_default_file, conv, use_unicode, client_flag, cursorclass, init_command, connect_timeout, read_default_group, autocommit, local_infile, max_allowed_packet, defer_connect, auth_plugin_map, read_timeout, write_timeout, bind_address, binary_prefix, program_name, server_public_key, ssl, ssl_ca, ssl_cert, ssl_disabled, ssl_key, ssl_verify_cert, ssl_verify_identity, compress, named_pipe, passwd, db)\u001b[0m\n\u001b[1;32m    351\u001b[0m             \u001b[0mself\u001b[0m\u001b[0;34m.\u001b[0m\u001b[0m_sock\u001b[0m \u001b[0;34m=\u001b[0m \u001b[0;32mNone\u001b[0m\u001b[0;34m\u001b[0m\u001b[0;34m\u001b[0m\u001b[0m\n\u001b[1;32m    352\u001b[0m         \u001b[0;32melse\u001b[0m\u001b[0;34m:\u001b[0m\u001b[0;34m\u001b[0m\u001b[0;34m\u001b[0m\u001b[0m\n\u001b[0;32m--> 353\u001b[0;31m             \u001b[0mself\u001b[0m\u001b[0;34m.\u001b[0m\u001b[0mconnect\u001b[0m\u001b[0;34m(\u001b[0m\u001b[0;34m)\u001b[0m\u001b[0;34m\u001b[0m\u001b[0;34m\u001b[0m\u001b[0m\n\u001b[0m\u001b[1;32m    354\u001b[0m \u001b[0;34m\u001b[0m\u001b[0m\n\u001b[1;32m    355\u001b[0m     \u001b[0;32mdef\u001b[0m \u001b[0m__enter__\u001b[0m\u001b[0;34m(\u001b[0m\u001b[0mself\u001b[0m\u001b[0;34m)\u001b[0m\u001b[0;34m:\u001b[0m\u001b[0;34m\u001b[0m\u001b[0;34m\u001b[0m\u001b[0m\n",
      "\u001b[0;32m/opt/conda/lib/python3.7/site-packages/pymysql/connections.py\u001b[0m in \u001b[0;36mconnect\u001b[0;34m(self, sock)\u001b[0m\n\u001b[1;32m    662\u001b[0m                 \u001b[0;32mif\u001b[0m \u001b[0mDEBUG\u001b[0m\u001b[0;34m:\u001b[0m\u001b[0;34m\u001b[0m\u001b[0;34m\u001b[0m\u001b[0m\n\u001b[1;32m    663\u001b[0m                     \u001b[0mprint\u001b[0m\u001b[0;34m(\u001b[0m\u001b[0mexc\u001b[0m\u001b[0;34m.\u001b[0m\u001b[0mtraceback\u001b[0m\u001b[0;34m)\u001b[0m\u001b[0;34m\u001b[0m\u001b[0;34m\u001b[0m\u001b[0m\n\u001b[0;32m--> 664\u001b[0;31m                 \u001b[0;32mraise\u001b[0m \u001b[0mexc\u001b[0m\u001b[0;34m\u001b[0m\u001b[0;34m\u001b[0m\u001b[0m\n\u001b[0m\u001b[1;32m    665\u001b[0m \u001b[0;34m\u001b[0m\u001b[0m\n\u001b[1;32m    666\u001b[0m             \u001b[0;31m# If e is neither DatabaseError or IOError, It's a bug.\u001b[0m\u001b[0;34m\u001b[0m\u001b[0;34m\u001b[0m\u001b[0;34m\u001b[0m\u001b[0m\n",
      "\u001b[0;31mOperationalError\u001b[0m: (2003, \"Can't connect to MySQL server on 'localhost' ([Errno 99] Cannot assign requested address)\")"
     ]
    }
   ],
   "source": [
    "import MySQLdb\n",
    "conn = MySQLdb.connect(host='localhost', port=3308, db='example.db', user='root',\n",
    "passwd='1234')"
   ]
  },
  {
   "cell_type": "markdown",
   "id": "spectacular-entertainment",
   "metadata": {},
   "source": [
    "- MySQL 공식 드라이버를 설치한 후 MySQL서버에 원격으로 접속한다면 위가 진행될 것. \n",
    "- 커넥션 객체 conn을 얻는 과정에서 로그인에 필요한 서버와 포트번호, ID/password 등의 부가적인 정보를 필요로 함."
   ]
  },
  {
   "cell_type": "code",
   "execution_count": 49,
   "id": "sexual-hotel",
   "metadata": {},
   "outputs": [],
   "source": [
    "#커서 객체 만들기\n",
    "c = conn.cursor()"
   ]
  },
  {
   "cell_type": "code",
   "execution_count": 50,
   "id": "indie-wright",
   "metadata": {},
   "outputs": [
    {
     "data": {
      "text/plain": [
       "<sqlite3.Cursor at 0x7f5a14209a40>"
      ]
     },
     "execution_count": 50,
     "metadata": {},
     "output_type": "execute_result"
    }
   ],
   "source": [
    "##쿼리 명령어\n",
    "\n",
    "# Create table\n",
    "c.execute('''CREATE TABLE stocks\n",
    "             (date text, trans text, symbol text, qty real, price real)''')\n",
    "\n",
    "# Insert a row of data\n",
    "c.execute(\"INSERT INTO stocks VALUES ('2006-01-05','BUY','RHAT',100,35.14)\")"
   ]
  },
  {
   "cell_type": "code",
   "execution_count": 51,
   "id": "shaped-mainland",
   "metadata": {},
   "outputs": [],
   "source": [
    "#데이터베이스에 반영\n",
    "conn.commit()"
   ]
  },
  {
   "cell_type": "code",
   "execution_count": 52,
   "id": "engaged-settle",
   "metadata": {},
   "outputs": [],
   "source": [
    "#종료\n",
    "conn.close()"
   ]
  },
  {
   "cell_type": "markdown",
   "id": "revised-termination",
   "metadata": {},
   "source": [
    "# 실제 데이터베이스 구현"
   ]
  },
  {
   "cell_type": "code",
   "execution_count": 53,
   "id": "minimal-modification",
   "metadata": {},
   "outputs": [
    {
     "name": "stdout",
     "output_type": "stream",
     "text": [
      "('smart phone', 'Apple', 47.2, '2019-08-03')\n",
      "('printer', 'Samsung', 15.2, '2018-02-10')\n",
      "('monitor', 'LG', 14.25, '2019-12-20')\n",
      "('python book', 'Amazon', 12.4, '2020-01-23')\n",
      "Number of rows: 4\n"
     ]
    }
   ],
   "source": [
    "import sqlite3\n",
    "\n",
    "conn = sqlite3.connect(':memory:')\n",
    "query = \"\"\"CREATE TABLE sales\n",
    "            (product VARCHAR(20),\n",
    "            maker VARCHAR(40),\n",
    "            amount FLOAT,\n",
    "            date DATE);\"\"\"\n",
    "conn.execute(query)\n",
    "conn.commit()\n",
    "\n",
    "data = [('smart phone', 'Apple', '47.2', '2019-08-03'),\n",
    "        ('printer', 'Samsung', '15.2', '2018-02-10',),\n",
    "        ('monitor', 'LG', '14.25', '2019-12-20'),\n",
    "        ('python book', 'Amazon', '12.40', '2020-01-23')]\n",
    "statement = \"INSERT INTO sales VALUES(?, ?, ?, ?)\"\n",
    "conn.executemany(statement, data)\n",
    "conn.commit()\n",
    "\n",
    "cursor = conn.execute(\"SELECT * FROM sales\")\n",
    "rows = cursor.fetchall()\n",
    "\n",
    "row_counter = 0\n",
    "for row in rows:\n",
    "    print(row)\n",
    "    row_counter +=1\n",
    "\n",
    "print(\"Number of rows: {}\".format(row_counter))"
   ]
  },
  {
   "cell_type": "code",
   "execution_count": null,
   "id": "advanced-likelihood",
   "metadata": {},
   "outputs": [],
   "source": []
  }
 ],
 "metadata": {
  "kernelspec": {
   "display_name": "Python 3",
   "language": "python",
   "name": "python3"
  },
  "language_info": {
   "codemirror_mode": {
    "name": "ipython",
    "version": 3
   },
   "file_extension": ".py",
   "mimetype": "text/x-python",
   "name": "python",
   "nbconvert_exporter": "python",
   "pygments_lexer": "ipython3",
   "version": "3.7.9"
  }
 },
 "nbformat": 4,
 "nbformat_minor": 5
}
