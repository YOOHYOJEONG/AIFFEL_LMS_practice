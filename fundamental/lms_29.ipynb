{
 "cells": [
  {
   "cell_type": "code",
   "execution_count": 4,
   "id": "nearby-latino",
   "metadata": {},
   "outputs": [],
   "source": [
    "### 이번 노드는 리눅스 환경에서 코드 작성하고 실행시킴 ###"
   ]
  },
  {
   "cell_type": "markdown",
   "id": "decimal-notification",
   "metadata": {},
   "source": [
    "# Flask\n",
    "-  마이크로 웹 프레임워크.   \n",
    "- 마이크로(Micro) : 플라스크의 특징인 웹서비스를 구성하는 최소한의 기능을 담아 단순하지만, 확장이 가능한 설계를 의미.   \n",
    "- 웹(Web) : 인터넷 브라우저를 통해서 보고 있는 공간을 의미.   \n",
    "- 프레임워크(Framework) : 어떠한 목적을 달성하기 위해 복잡하게 얽혀있는 문제를 해결하기 위한 구조며, 소프트웨어 개발에 있어 하나의 뼈대 역할.   "
   ]
  },
  {
   "cell_type": "markdown",
   "id": "herbal-upper",
   "metadata": {},
   "source": [
    "## 가상환경 만들기\n",
    "mkdir ~/myproject : mkdir 명령어로 myproject라는 폴더를 생성.   \n",
    "cd ~/myproject   \n",
    "virtualenv aiffel : virtualenv 명령어를 이용해서 aiffel이라는 이름의 가상 환경을 만듦.   \n",
    "source aiffel/bin/activate : 가상환경 실행   \n",
    "(aiffel) pip list : 정상작동하면 앞에 (가상환경)이 뜸.   \n",
    "(aiffel) pip install pandas   "
   ]
  },
  {
   "cell_type": "markdown",
   "id": "roman-advocate",
   "metadata": {},
   "source": [
    "## Flask 설치\n",
    "- pip install flask-ngrok : 플라스크 앱을 로컬 머신에서 실행할 때 앱에 접속하기 위해서는 local-host가 필요함. 현재 클라우드 환경인 가상 머신에서는 local-host에 접속할 수 없기 때문에 ngrok를 이용해 공용 url을 할당받아 이를 통해 앱에 접속함."
   ]
  },
  {
   "cell_type": "markdown",
   "id": "constitutional-dynamics",
   "metadata": {},
   "source": [
    "## 데코레이터(decorator)\n",
    "-  함수를 반환하는 함수임.   \n",
    "-  데코레이터 밑에 있는 함수가 실행되기 전에 먼저 데코레이터가 실행됨.\n",
    "- 데코레이터를 만드는 방식은 함수를 만드는 방법과 같음. \n",
    "- 함수 datetime_decorator(func)를 정의하고 아래에 기능하는 코드를 작성.\n",
    "- 함수 안에 함수가 있는 구조로 만들어서 datetime_decorator(func) 함수가 내부 함수를 반환하는 구조로 하면 자동으로 데코레이터에 등록이 됨."
   ]
  },
  {
   "cell_type": "code",
   "execution_count": 1,
   "id": "following-customer",
   "metadata": {},
   "outputs": [
    {
     "name": "stdout",
     "output_type": "stream",
     "text": [
      "🚌💨\n"
     ]
    }
   ],
   "source": [
    "def main_function():\n",
    "     print (\"test function\")\n",
    "print(\"🚌💨\")"
   ]
  },
  {
   "cell_type": "code",
   "execution_count": 2,
   "id": "dependent-boulder",
   "metadata": {},
   "outputs": [
    {
     "name": "stdout",
     "output_type": "stream",
     "text": [
      "2021-08-30 01:32:53.036096\n",
      "test function\n",
      "2021-08-30 01:32:53.036458\n"
     ]
    }
   ],
   "source": [
    "import datetime\n",
    "\n",
    "# 코드 선언부\n",
    "def main_function():     \n",
    "     print (\"test function\")\n",
    "\n",
    "# 코드 실행부   \n",
    "print (datetime.datetime.now()) #- 텍스트 표시 전 시간\n",
    "main_function()\n",
    "print (datetime.datetime.now()) #- 텍스트 표시 후 시간"
   ]
  },
  {
   "cell_type": "code",
   "execution_count": 3,
   "id": "mobile-representation",
   "metadata": {},
   "outputs": [
    {
     "name": "stdout",
     "output_type": "stream",
     "text": [
      "2021-08-30 01:33:13.998361\n",
      "test function\n",
      "2021-08-30 01:33:13.998633\n"
     ]
    }
   ],
   "source": [
    "### 데코레이터 만들어 사용하는 방법\n",
    "\n",
    "# 코드 선언부\n",
    "def datetime_decorator(func):\n",
    "        def decorated():\n",
    "                print(datetime.datetime.now())\n",
    "                func()\n",
    "                print(datetime.datetime.now())\n",
    "        return decorated\n",
    "\n",
    "@datetime_decorator\n",
    "def main_function():\n",
    "        print (\"test function\")\n",
    "\n",
    "\n",
    "# 코드 실행부  \n",
    "main_function()"
   ]
  },
  {
   "cell_type": "markdown",
   "id": "arctic-special",
   "metadata": {},
   "source": [
    "## 플라스크(Flask) 프로젝트\n",
    "- 하나의 웹 사이트는 하나의 프로젝트임.\n",
    "- 웹 페이지는 앱(app)이라고 볼 수 있음.\n",
    "- 하나의 프로젝트 안에는 여러 개의 앱이 존재할 수 있음.\n",
    "- 우리가 만들 '이미지 전처리 페이지'와 'SQL 전처리 페이지 '는 각각 다른 앱(app)으로 만들 것."
   ]
  },
  {
   "cell_type": "markdown",
   "id": "waiting-authority",
   "metadata": {},
   "source": [
    "## Templates\n",
    "- 보이는 부분과 처리하는 부분을 나누기 위해 템플릿이라는 기능을 제공.\n",
    "- 템플릿에서 사용되는 파일들은 이 디렉토리에 저장되며 HTML 파일들을 여기에 넣게 됨."
   ]
  },
  {
   "cell_type": "markdown",
   "id": "expected-maker",
   "metadata": {},
   "source": [
    "## HTML(Hypertext Markup Language)\n",
    "- 페이지가 어떻게 구조화되어 있는지 브라우저로 하여금 알 수 있도록 하는 마크업 언어.\n",
    "- HTML은 elements로 구성되어 있으며, 이들은 적절한 방법으로 나타내고 실행하기 위해 각 콘텐츠의 여러 부분을 감싸고 마크업 함.\n",
    "- tags는 웹상의 다른 페이지로 이동하게 하는 하이퍼링크 내용들을 생성하거나, 단어를 강조하는 등의 역할."
   ]
  },
  {
   "cell_type": "markdown",
   "id": "comfortable-montgomery",
   "metadata": {},
   "source": [
    "## 렌더링(Rendering)\n",
    "- HTML, CSS 등을 브라우저에서 렌더링 엔진을 이용해서 그래픽 형태로 출력하는 과정."
   ]
  },
  {
   "cell_type": "markdown",
   "id": "multiple-personality",
   "metadata": {},
   "source": [
    "## GET & POST\n",
    "- 웹에서 데이터를 주고받을 때 쓰이는 통신 규약.\n",
    "- 클라이언트에서 HTTP로 백 엔드와 통신하는 방법 중 대표적인 방식은 GET과 POST 방식임.\n",
    "- GET은 주로 링크를 클릭할 때 사용하고 POST는 데이터가 있는 게시물을 올릴 때, 즉 이미지나 대량의 텍스트 데이터 같은 데이터를 담아 보낼 때 주로 사용."
   ]
  },
  {
   "cell_type": "markdown",
   "id": "freelance-exemption",
   "metadata": {},
   "source": [
    "## 컴포넌트\n",
    "- 사용자가 재사용할 수 있는 구성요소."
   ]
  }
 ],
 "metadata": {
  "kernelspec": {
   "display_name": "Python 3",
   "language": "python",
   "name": "python3"
  },
  "language_info": {
   "codemirror_mode": {
    "name": "ipython",
    "version": 3
   },
   "file_extension": ".py",
   "mimetype": "text/x-python",
   "name": "python",
   "nbconvert_exporter": "python",
   "pygments_lexer": "ipython3",
   "version": "3.7.9"
  }
 },
 "nbformat": 4,
 "nbformat_minor": 5
}
